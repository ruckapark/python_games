{
 "cells": [
  {
   "cell_type": "markdown",
   "metadata": {},
   "source": [
    "# Challenges"
   ]
  },
  {
   "cell_type": "markdown",
   "metadata": {},
   "source": [
    "---\n",
    "\n",
    "So far we have learnt about:\n",
    "* [printing](https://www.learnpython.org/en/Hello%2C_World%21)\n",
    "* [arithmetic](https://www.learnpython.org/en/Basic_Operators)\n",
    "* [variables](https://www.learnpython.org/en/Variables_and_Types)\n",
    "* [data structures](https://www.learnpython.org/en/Lists)\n",
    "* [if statements](https://www.learnpython.org/en/Conditions)\n",
    "* inbuilt functions\n",
    "* importing some libraries:\n",
    "    * [os](https://www.youtube.com/watch?v=tJxcKyFMTGo)\n",
    "    * [PIL](https://www.youtube.com/watch?v=6Qs3wObeWwc)\n",
    "\n",
    "The challenges shouldn't take more than a couple of hours to test these concepts!\n",
    "\n",
    "\n",
    "---"
   ]
  },
  {
   "cell_type": "markdown",
   "metadata": {},
   "source": [
    "## Challenge 1"
   ]
  },
  {
   "cell_type": "markdown",
   "metadata": {},
   "source": [
    "This challenge will test the syntax we learnt in the first hour of the lesson. Follow through the code in the file named:\n",
    "\n",
    "`Lesson_1_challenge_1.ipynb` using jupyter notebook!\n",
    "\n",
    "I'll give you the solutions at the beginning of the next session"
   ]
  },
  {
   "cell_type": "markdown",
   "metadata": {},
   "source": [
    "## Challenge 2"
   ]
  },
  {
   "cell_type": "markdown",
   "metadata": {},
   "source": [
    "See if you can make a game that will guess the players answer by asking questions.\n",
    "\n",
    "21 questions is a classic example of this type of game. [Check it out here](https://www.mentalfloss.com/article/18328/how-electronic-20-questions-games-work).\n",
    "\n",
    "In challenge2 file I have put in a version of a twenty questions style game that guesses the type of cat the player is thinking.\n",
    "\n",
    "Using a similar format, **have a go at making your own**."
   ]
  },
  {
   "cell_type": "markdown",
   "metadata": {},
   "source": [
    "## Challenge 3"
   ]
  },
  {
   "cell_type": "markdown",
   "metadata": {},
   "source": [
    "Some more tests on your coding skills, follow the instructions at the top of the code. This time it's in a python file so check you can run it properly and check the results in the bottom right! (terminal)"
   ]
  },
  {
   "cell_type": "markdown",
   "metadata": {},
   "source": [
    "## Challenge 4"
   ]
  },
  {
   "cell_type": "markdown",
   "metadata": {},
   "source": [
    "This code is a bit trickier, it's written out for you in full you just have to find the mistakes.\n",
    "\n",
    "Remember that when you run something, if there is a mistake the terminal will tell you. Try to use the clues to determine what is wrong!\n",
    "\n",
    "There are **6** errors in the code. The first three are pointed out."
   ]
  },
  {
   "cell_type": "markdown",
   "metadata": {},
   "source": [
    "## Challenge 5"
   ]
  },
  {
   "cell_type": "markdown",
   "metadata": {},
   "source": [
    "You might want to open up your code file for the photo manipulation where we looked at the photos!\n",
    "\n",
    "The code has bits filled in for you so follow along and try to fill bits in where you have to!\n",
    "\n",
    "### Instructions\n",
    "\n",
    "1. Create a folder named Flappy_bird_backgrounds\n",
    "2. Go into the Game pictures folder and check the four images are there\n",
    "3. Add each image to a dictionary with the key 'thunder' for the thunder image, and the image object as the entry for that key.\n",
    "4. Find a good area for a [flappy bird] by cropping it only 500 pixels high (keep the full width).\n",
    "5. Save each image with a sensible name\n",
    "\n",
    "Once you have done this we will play around with python image we used to make our game player. We will also want enemies so lets use PIL to mess around with the colours:\n",
    "\n",
    "1. Open the image and split the file into r'g'b'a objects (a is alpha (transparency) which is important when our background is clear!).\n",
    "2. Use the merge function and the show() to play around with the order of rgb\n",
    "3. Once you have three colour schemes you like save them as enemy_rb.PNG for a red and blue python etc.!"
   ]
  },
  {
   "cell_type": "markdown",
   "metadata": {},
   "source": [
    "## Well done see you tomorrow"
   ]
  }
 ],
 "metadata": {
  "kernelspec": {
   "display_name": "Python 3",
   "language": "python",
   "name": "python3"
  },
  "language_info": {
   "codemirror_mode": {
    "name": "ipython",
    "version": 3
   },
   "file_extension": ".py",
   "mimetype": "text/x-python",
   "name": "python",
   "nbconvert_exporter": "python",
   "pygments_lexer": "ipython3",
   "version": "3.7.3"
  }
 },
 "nbformat": 4,
 "nbformat_minor": 2
}
