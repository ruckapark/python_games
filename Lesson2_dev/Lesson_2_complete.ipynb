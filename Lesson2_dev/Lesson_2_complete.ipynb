{
 "cells": [
  {
   "cell_type": "markdown",
   "metadata": {},
   "source": [
    "# Lesson 2\n",
    "\n",
    "Well done, thanks for sticking at it! You know the basic now, here's a recap of what we learnt in the last sessions:\n",
    "* [Printing](https://www.learnpython.org/en/Hello%2C_World%21)\n",
    "* [Arithmetic]()\n",
    "* [Variables](https://www.learnpython.org/en/Variables_and_Types)\n",
    "* [Data Types](https://www.learnpython.org/en/Lists)\n",
    "* [Iterating](https://www.learnpython.org/en/Loops)\n",
    "* [If statements](https://www.learnpython.org/en/Conditions)\n",
    "\n",
    "We then had a look at making a new folder in our computer and saving some photos we played around with for the games.\n",
    "To do this we used two python modules: '[os](https://www.geeksforgeeks.org/os-module-python-examples/)' and '[PIL](https://pillow.readthedocs.io/en/stable/)'.\n",
    "\n",
    "Today we will look at the following things in more detail before starting to build our first game next lesson:\n",
    "* [Modules](https://www.learnpython.org/en/Modules_and_Packages)\n",
    "* [For and While Loops](https://www.learnpython.org/en/Loops)\n",
    "* [Dictionaries](https://www.learnpython.org/en/Dictionaries)\n",
    "* [Functions](https://www.learnpython.org/en/Functions)\n",
    "* [List Comprehensions](https://www.learnpython.org/en/List_Comprehensions)\n",
    "* [Classes and Objects](https://www.learnpython.org/en/Classes_and_Objects)\n",
    "\n",
    "(Try out the links at home later if you have a particular item on the list that isn't clicking!)"
   ]
  },
  {
   "cell_type": "markdown",
   "metadata": {},
   "source": [
    "---\n",
    "### Dictionaries\n",
    "\n",
    "A dictionary is a data type similar to arrays, but works with keys and values instead of indexes.\n",
    "In a list for the zeroth element we call `list[0]`, here we can call an item in a dictionary with a string as following: `dictionary['first entry']`.\n",
    "\n",
    "If we want to delete an entry we can use `.pop()` like in a list, however if we want to add to a dictionary we use `update({})`, giving a dictionary inside.\n",
    "\n",
    "Below the standard syntax for a dictionary is described.\n",
    "\n",
    "---"
   ]
  },
  {
   "cell_type": "code",
   "execution_count": 2,
   "metadata": {},
   "outputs": [
    {
     "name": "stdout",
     "output_type": "stream",
     "text": [
      "{'John': 938477566, 'Jack': 938377264, 'Jill': 947662781}\n"
     ]
    }
   ],
   "source": [
    "phonebook = {}\n",
    "phonebook[\"John\"] = 938477566\n",
    "phonebook[\"Jack\"] = 938377264\n",
    "phonebook[\"Jill\"] = 947662781\n",
    "print(phonebook)"
   ]
  },
  {
   "cell_type": "code",
   "execution_count": 3,
   "metadata": {},
   "outputs": [],
   "source": [
    "phonebook = {\n",
    "    \"John\" : 938477566,\n",
    "    \"Jack\" : 938377264,\n",
    "    \"Jill\" : 947662781\n",
    "}"
   ]
  },
  {
   "cell_type": "code",
   "execution_count": 4,
   "metadata": {},
   "outputs": [
    {
     "name": "stdout",
     "output_type": "stream",
     "text": [
      "{'John': 938477566, 'Jack': 938377264, 'Jill': 947662781}\n"
     ]
    }
   ],
   "source": [
    "print(phonebook)"
   ]
  },
  {
   "cell_type": "code",
   "execution_count": 5,
   "metadata": {},
   "outputs": [],
   "source": [
    "phonebook.update({'George':1367842718,'Laura':1435928930})"
   ]
  },
  {
   "cell_type": "code",
   "execution_count": 6,
   "metadata": {},
   "outputs": [
    {
     "name": "stdout",
     "output_type": "stream",
     "text": [
      "{'John': 938477566, 'Jack': 938377264, 'Jill': 947662781, 'George': 1367842718, 'Laura': 1435928930}\n"
     ]
    }
   ],
   "source": [
    "print(phonebook)"
   ]
  },
  {
   "cell_type": "code",
   "execution_count": 7,
   "metadata": {},
   "outputs": [],
   "source": [
    "phonebook = {'England':{},'France':{}}\n",
    "phonebook['England'].update({\n",
    "        'George':'+44 1839 823 345',\n",
    "        'Becky':'+44 8394 234 234',\n",
    "        'Hatty':'+44 7329 434 234'\n",
    "        })\n",
    "phonebook['France'].update({\n",
    "        'Patrice':'+33 7 34 23 15 34',\n",
    "        'Benoit':'+33 6 12 32 15 24'\n",
    "        })"
   ]
  },
  {
   "cell_type": "code",
   "execution_count": 8,
   "metadata": {},
   "outputs": [
    {
     "name": "stdout",
     "output_type": "stream",
     "text": [
      "{'Patrice': '+33 7 34 23 15 34', 'Benoit': '+33 6 12 32 15 24'}\n",
      "+44 1839 823 345\n"
     ]
    }
   ],
   "source": [
    "print(phonebook['France'])\n",
    "print(phonebook['England']['George'])"
   ]
  },
  {
   "cell_type": "markdown",
   "metadata": {},
   "source": [
    "---\n",
    "## Exercises 1\n",
    "---"
   ]
  },
  {
   "cell_type": "markdown",
   "metadata": {},
   "source": [
    "Make a dictionary with keys as letters and numbers as their position in the alphabet.\n",
    "Only add 5 or 6 letters.\n",
    "\n",
    "``` python\n",
    "alphabet = {'a':1,\n",
    "           'b':2,\n",
    "           'c':3,\n",
    "           'd':4\n",
    "           }\n",
    "```"
   ]
  },
  {
   "cell_type": "code",
   "execution_count": null,
   "metadata": {},
   "outputs": [],
   "source": []
  },
  {
   "cell_type": "markdown",
   "metadata": {},
   "source": [
    "Update the alphabet the last three letters xyz `.update({'z':26,'y':25...})`.  \n",
    "Check above for ideas."
   ]
  },
  {
   "cell_type": "code",
   "execution_count": null,
   "metadata": {},
   "outputs": [],
   "source": []
  },
  {
   "cell_type": "markdown",
   "metadata": {},
   "source": [
    "Print the dictonairy"
   ]
  },
  {
   "cell_type": "code",
   "execution_count": null,
   "metadata": {},
   "outputs": [],
   "source": []
  },
  {
   "cell_type": "markdown",
   "metadata": {},
   "source": [
    "Make a dictionary about yourself with at least 6 entries. Here is mine:\n",
    "\n",
    "``` python\n",
    "george = {\n",
    "    'name':'George',\n",
    "    'height':183,\n",
    "    'age':24,\n",
    "    'middle name':'Arthur',\n",
    "    'fav game':'Call of Duty'\n",
    "}\n",
    "```"
   ]
  },
  {
   "cell_type": "code",
   "execution_count": null,
   "metadata": {},
   "outputs": [],
   "source": []
  },
  {
   "cell_type": "markdown",
   "metadata": {},
   "source": [
    "Print a sentence about yourself using your dictionary. Use at least 3 of the keys!\n",
    "\n",
    "``` python\n",
    "print('My name is {}, I am {} years old and {}cm tall'.format(george['name'],george['age'],george['height'])\n",
    "```"
   ]
  },
  {
   "cell_type": "code",
   "execution_count": null,
   "metadata": {},
   "outputs": [],
   "source": []
  },
  {
   "cell_type": "markdown",
   "metadata": {},
   "source": [
    "**Extension**: Think of your favourite video game character and make a similar dictionary about him. In the keys include his game parameters. You might include:\n",
    "\n",
    "1. speed\n",
    "2. size\n",
    "3. special attack\n",
    "4. catchphrase"
   ]
  },
  {
   "cell_type": "code",
   "execution_count": null,
   "metadata": {},
   "outputs": [],
   "source": []
  },
  {
   "cell_type": "markdown",
   "metadata": {},
   "source": [
    "---\n",
    "# Loops\n",
    "\n",
    "There are two types of loops in Python, while and for.\n",
    "\n",
    "### While\n",
    "\n",
    "While loops repeat as long as the computer sees `True` and not `False`. This is typically a certain boolean condition.\n",
    "\n",
    "This are often what a code uses for a never ending program that only ends once a certain objective has been obtained.\n",
    "\n",
    "### For\n",
    "\n",
    "The `range()` function returns an iterator of a certain length. This can be used to run a for loop a certain amount of times.  \n",
    "In python we can also iterate through a list one-by-one without telling the iterator how long the list is. We do this by using the `in` command.\n",
    "\n",
    "---"
   ]
  },
  {
   "cell_type": "code",
   "execution_count": 9,
   "metadata": {},
   "outputs": [
    {
     "name": "stdout",
     "output_type": "stream",
     "text": [
      "1 is less than 5\n",
      "2 is less than 5\n",
      "3 is less than 5\n",
      "4 is less than 5\n"
     ]
    }
   ],
   "source": [
    "x = 1\n",
    "while x < 5:\n",
    "    print('{} is less than 5'.format(x))\n",
    "    x += 1"
   ]
  },
  {
   "cell_type": "code",
   "execution_count": 10,
   "metadata": {},
   "outputs": [
    {
     "name": "stdout",
     "output_type": "stream",
     "text": [
      "Well done, level 1 complete!\n"
     ]
    }
   ],
   "source": [
    "running = True\n",
    "score = 0\n",
    "while running:\n",
    "    #game functions\n",
    "    score += 1\n",
    "    if score >= 10:\n",
    "        print('Well done, level 1 complete!')\n",
    "        running = False"
   ]
  },
  {
   "cell_type": "code",
   "execution_count": 11,
   "metadata": {},
   "outputs": [
    {
     "name": "stdout",
     "output_type": "stream",
     "text": [
      "0\n",
      "1\n",
      "2\n",
      "3\n",
      "4\n",
      "5\n",
      "6\n",
      "7\n",
      "8\n",
      "9\n"
     ]
    }
   ],
   "source": [
    "for i in range(10):\n",
    "    print(i)"
   ]
  },
  {
   "cell_type": "code",
   "execution_count": 12,
   "metadata": {},
   "outputs": [
    {
     "name": "stdout",
     "output_type": "stream",
     "text": [
      "George\n",
      "Hatty\n",
      "Adam\n",
      "Henry\n"
     ]
    }
   ],
   "source": [
    "names = ['George','Hatty','Adam','Henry','Rebecca','Loretta','Renato']\n",
    "for i in range(4):\n",
    "    print(names[i])"
   ]
  },
  {
   "cell_type": "code",
   "execution_count": 13,
   "metadata": {},
   "outputs": [
    {
     "name": "stdout",
     "output_type": "stream",
     "text": [
      "George\n",
      "Hatty\n",
      "Adam\n",
      "Henry\n",
      "Rebecca\n",
      "Loretta\n",
      "Renato\n"
     ]
    }
   ],
   "source": [
    "for i in range(len(names)):\n",
    "    print(names[i])"
   ]
  },
  {
   "cell_type": "code",
   "execution_count": 14,
   "metadata": {},
   "outputs": [
    {
     "name": "stdout",
     "output_type": "stream",
     "text": [
      "George\n",
      "Hatty\n",
      "Adam\n",
      "Henry\n",
      "Rebecca\n",
      "Loretta\n",
      "Renato\n"
     ]
    }
   ],
   "source": [
    "for name in names:\n",
    "    print(name)"
   ]
  },
  {
   "cell_type": "code",
   "execution_count": 15,
   "metadata": {},
   "outputs": [
    {
     "name": "stdout",
     "output_type": "stream",
     "text": [
      "Hatty\n",
      "Henry\n"
     ]
    }
   ],
   "source": [
    "for name in names:\n",
    "    if name[0].lower() == 'h': print(name)"
   ]
  },
  {
   "cell_type": "code",
   "execution_count": 16,
   "metadata": {},
   "outputs": [
    {
     "name": "stdout",
     "output_type": "stream",
     "text": [
      "Hatty\n",
      "Henry\n"
     ]
    }
   ],
   "source": [
    "names_len = len(names)\n",
    "i = 0\n",
    "while i < names_len:\n",
    "    if names[i][0].lower() == 'h': print(names[i])\n",
    "    i += 1"
   ]
  },
  {
   "cell_type": "code",
   "execution_count": 17,
   "metadata": {},
   "outputs": [
    {
     "name": "stdout",
     "output_type": "stream",
     "text": [
      "George is from England\n",
      "Their phone number is:  +44 1839 823 345\n",
      "Becky is from England\n",
      "Their phone number is:  +44 8394 234 234\n",
      "Hatty is from England\n",
      "Their phone number is:  +44 7329 434 234\n",
      "Patrice is from France\n",
      "Their phone number is:  +33 7 34 23 15 34\n",
      "Benoit is from France\n",
      "Their phone number is:  +33 6 12 32 15 24\n"
     ]
    }
   ],
   "source": [
    "for country in phonebook:\n",
    "    for contact in phonebook[country]:\n",
    "        print('{} is from {}'.format(contact,country))\n",
    "        print('Their phone number is: ',phonebook[country][contact])"
   ]
  },
  {
   "cell_type": "code",
   "execution_count": 18,
   "metadata": {},
   "outputs": [],
   "source": [
    "running = True\n",
    "enemies = 10 #imagine we have 10 space invaders on screen\n",
    "while running:\n",
    "    for i in range(enemies):\n",
    "        if i == 8: running = False"
   ]
  },
  {
   "cell_type": "code",
   "execution_count": 19,
   "metadata": {},
   "outputs": [
    {
     "name": "stdout",
     "output_type": "stream",
     "text": [
      "0\n",
      "1\n",
      "2\n",
      "3\n",
      "4\n"
     ]
    }
   ],
   "source": [
    "for number in range(5):\n",
    "    print(number)"
   ]
  },
  {
   "cell_type": "code",
   "execution_count": 20,
   "metadata": {},
   "outputs": [
    {
     "name": "stdout",
     "output_type": "stream",
     "text": [
      "0\n",
      "1\n",
      "2\n"
     ]
    }
   ],
   "source": [
    "for number in range(5):\n",
    "    print(number)\n",
    "    if number == 2: break"
   ]
  },
  {
   "cell_type": "code",
   "execution_count": 21,
   "metadata": {},
   "outputs": [
    {
     "name": "stdout",
     "output_type": "stream",
     "text": [
      "2 is prime\n",
      "3 is prime\n",
      "5 is prime\n",
      "7 is prime\n",
      "11 is prime\n",
      "13 is prime\n",
      "17 is prime\n",
      "19 is prime\n",
      "23 is prime\n",
      "29 is prime\n",
      "31 is prime\n",
      "37 is prime\n",
      "41 is prime\n",
      "43 is prime\n",
      "47 is prime\n",
      "53 is prime\n",
      "59 is prime\n",
      "61 is prime\n",
      "67 is prime\n",
      "71 is prime\n",
      "73 is prime\n",
      "79 is prime\n",
      "83 is prime\n",
      "89 is prime\n",
      "97 is prime\n"
     ]
    }
   ],
   "source": [
    "i = 2\n",
    "while(i < 100):\n",
    "   j = 2\n",
    "   while(j <= (i/j)):\n",
    "      if not(i%j): break\n",
    "      j += 1\n",
    "   if (j > i/j) : print(i, 'is prime')\n",
    "   i += 1"
   ]
  },
  {
   "cell_type": "markdown",
   "metadata": {},
   "source": [
    "---\n",
    "## Exercises 2\n",
    "\n",
    "You should be a bit better at these by now so lets go through them quickly!\n",
    "\n",
    "---"
   ]
  },
  {
   "cell_type": "markdown",
   "metadata": {},
   "source": [
    "Print all the keys in your dictionary for the alphabet.\n",
    "\n",
    "``` python\n",
    "print(dictionary.keys())\n",
    "```"
   ]
  },
  {
   "cell_type": "code",
   "execution_count": null,
   "metadata": {},
   "outputs": [],
   "source": []
  },
  {
   "cell_type": "markdown",
   "metadata": {},
   "source": [
    "Print all the values in your dictionary for the alphbet using `dictionary.values()` this time."
   ]
  },
  {
   "cell_type": "code",
   "execution_count": null,
   "metadata": {},
   "outputs": [],
   "source": []
  },
  {
   "cell_type": "markdown",
   "metadata": {},
   "source": [
    "Print a for loop for all the letters in your shortened alphabet. You can use dictionary.keys() to get a list of all the keys\n",
    "\n",
    "``` python\n",
    "for key in dictionary.keys():\n",
    "    print(dictionary[key])\n",
    "```"
   ]
  },
  {
   "cell_type": "code",
   "execution_count": null,
   "metadata": {},
   "outputs": [],
   "source": []
  },
  {
   "cell_type": "markdown",
   "metadata": {},
   "source": [
    "**Extension:** Make a for loop inside another for loop\n",
    "\n",
    "``` python\n",
    "import numpy as np\n",
    "array = np.array([1,2,3,4],[3,4,5,1])\n",
    "print(array)\n",
    "for i in range(2):\n",
    "    for j in range(4):\n",
    "        print(array[i][j])\n",
    "```"
   ]
  },
  {
   "cell_type": "code",
   "execution_count": null,
   "metadata": {},
   "outputs": [],
   "source": []
  },
  {
   "cell_type": "markdown",
   "metadata": {},
   "source": [
    "Make a for loop in a while loop of your choice. Get creative. Use running = True and while running:. Then break with an if statement!\n",
    "\n",
    "Here's my example\n",
    "\n",
    "``` python\n",
    "while running:\n",
    "    for i in range(10):\n",
    "        if i == 6:\n",
    "            print('6 is reached')\n",
    "            running = False\n",
    "            break\n",
    "```"
   ]
  },
  {
   "cell_type": "code",
   "execution_count": null,
   "metadata": {},
   "outputs": [],
   "source": []
  },
  {
   "cell_type": "markdown",
   "metadata": {},
   "source": [
    "---\n",
    "## Functions\n",
    "\n",
    "Functions are some of the most **important** parts of all programming languages. Often we want to carry out a certain action to a variable hundreds of times in the same code. To account for this we write function, like the ones we used to manipulate all those photos.\n",
    "\n",
    "We can think of it like a black box with inputs and outputs, except that black box is written by us and we can go back to it and adjust things at any time!\n",
    "\n",
    "Imagine we want to select all the names that begin with a certain letter in a list of names.  \n",
    "We would have  \n",
    "**inputs:** the letter desired, the list of names\n",
    "**outputs:** the reduced list of names desired\n",
    "\n",
    "In python you won't need to tell the computer where a certain variable is stored (pointing) so functions really are simple!\n",
    "\n",
    "---"
   ]
  },
  {
   "cell_type": "code",
   "execution_count": 22,
   "metadata": {},
   "outputs": [],
   "source": [
    "def add(x,y):\n",
    "    addition = x + y\n",
    "    return addition"
   ]
  },
  {
   "cell_type": "code",
   "execution_count": 23,
   "metadata": {},
   "outputs": [
    {
     "data": {
      "text/plain": [
       "25"
      ]
     },
     "execution_count": 23,
     "metadata": {},
     "output_type": "execute_result"
    }
   ],
   "source": [
    "add(10,15)"
   ]
  },
  {
   "cell_type": "code",
   "execution_count": 24,
   "metadata": {},
   "outputs": [],
   "source": [
    "def subtract(x,y):\n",
    "    return x - y"
   ]
  },
  {
   "cell_type": "code",
   "execution_count": 25,
   "metadata": {},
   "outputs": [
    {
     "data": {
      "text/plain": [
       "6"
      ]
     },
     "execution_count": 25,
     "metadata": {},
     "output_type": "execute_result"
    }
   ],
   "source": [
    "subtract(20,14)"
   ]
  },
  {
   "cell_type": "code",
   "execution_count": 26,
   "metadata": {},
   "outputs": [],
   "source": [
    "def is_prime(x):\n",
    "    \"\"\"\n",
    "    The function checks if the x input is prime\n",
    "    \"\"\"\n",
    "    i = 2\n",
    "    prime = 1\n",
    "    while i <= x**0.5:\n",
    "        if x%i == 0:\n",
    "            prime = 0\n",
    "            break\n",
    "        i+=1\n",
    "        # print(i)\n",
    "    if prime: return True\n",
    "    else: return False"
   ]
  },
  {
   "cell_type": "code",
   "execution_count": 27,
   "metadata": {},
   "outputs": [
    {
     "data": {
      "text/plain": [
       "False"
      ]
     },
     "execution_count": 27,
     "metadata": {},
     "output_type": "execute_result"
    }
   ],
   "source": [
    "is_prime(27)"
   ]
  },
  {
   "cell_type": "code",
   "execution_count": 29,
   "metadata": {},
   "outputs": [
    {
     "data": {
      "text/plain": [
       "True"
      ]
     },
     "execution_count": 29,
     "metadata": {},
     "output_type": "execute_result"
    }
   ],
   "source": [
    "is_prime(29)"
   ]
  },
  {
   "cell_type": "markdown",
   "metadata": {},
   "source": [
    "---\n",
    "## Exercises 3\n",
    "---"
   ]
  },
  {
   "cell_type": "markdown",
   "metadata": {},
   "source": [
    "Repeat the `add()` function but make it take 3 numbers to add instead of 2!"
   ]
  },
  {
   "cell_type": "code",
   "execution_count": null,
   "metadata": {},
   "outputs": [],
   "source": []
  },
  {
   "cell_type": "markdown",
   "metadata": {},
   "source": [
    "Make an `add_subtract()` function that adds the two numbers and subtracts them. Return both results. \n",
    "\n",
    "Here is my `multiply_divide()`\n",
    "\n",
    "``` python\n",
    "def multiply_divide(x,y):\n",
    "    sum_xy = x + y\n",
    "    sub_xy = x - y\n",
    "    return sum_xy,sub_xy\n",
    "```"
   ]
  },
  {
   "cell_type": "code",
   "execution_count": null,
   "metadata": {},
   "outputs": [],
   "source": [
    "#multiply_divide()"
   ]
  },
  {
   "cell_type": "markdown",
   "metadata": {},
   "source": [
    "Make your own maths function that does a long sum!"
   ]
  },
  {
   "cell_type": "code",
   "execution_count": null,
   "metadata": {},
   "outputs": [],
   "source": []
  },
  {
   "cell_type": "markdown",
   "metadata": {},
   "source": [
    "Make a text function that tells you if you are old. and test it\n",
    "\n",
    "``` python\n",
    "def are_young(age):\n",
    "    if age < 12:\n",
    "        return 'young!'\n",
    "    else:\n",
    "        return 'old..!'\n",
    "    \n",
    "print(are_young(20))\n",
    "print(are_young(10))\n",
    "```"
   ]
  },
  {
   "cell_type": "code",
   "execution_count": null,
   "metadata": {},
   "outputs": [],
   "source": []
  },
  {
   "cell_type": "code",
   "execution_count": null,
   "metadata": {},
   "outputs": [],
   "source": []
  },
  {
   "cell_type": "markdown",
   "metadata": {},
   "source": [
    "**Extension:** Make a function that takes a direction 'L','R','U','D' and return the x and y change.\n",
    "\n",
    "``` python\n",
    "def move(dir):\n",
    "    if dir == 'L':\n",
    "        print('Move left one place!')\n",
    "```"
   ]
  },
  {
   "cell_type": "code",
   "execution_count": null,
   "metadata": {},
   "outputs": [],
   "source": []
  },
  {
   "cell_type": "code",
   "execution_count": 45,
   "metadata": {},
   "outputs": [],
   "source": [
    "#test it out"
   ]
  },
  {
   "cell_type": "code",
   "execution_count": null,
   "metadata": {},
   "outputs": [],
   "source": []
  },
  {
   "cell_type": "markdown",
   "metadata": {},
   "source": [
    "---\n",
    "## List Comprehensions\n",
    "\n",
    "List Comprehensions is a very powerful tool, which creates a new list based on an iterator or another list, in a single line.\n",
    "\n",
    "Sometimes code gets long and hard to read. Small shortcuts can make things much easier to read once we get used to it!\n",
    "\n",
    "---"
   ]
  },
  {
   "cell_type": "code",
   "execution_count": 30,
   "metadata": {},
   "outputs": [
    {
     "name": "stdout",
     "output_type": "stream",
     "text": [
      "[0, 1, 2, 3, 4, 5, 6, 7, 8, 9]\n"
     ]
    }
   ],
   "source": [
    "numbers = [0,1,2,3,4,5,6,7,8,9]\n",
    "print(numbers)"
   ]
  },
  {
   "cell_type": "code",
   "execution_count": 31,
   "metadata": {},
   "outputs": [
    {
     "name": "stdout",
     "output_type": "stream",
     "text": [
      "[0, 1, 2, 3, 4, 5, 6, 7, 8, 9]\n"
     ]
    }
   ],
   "source": [
    "numbers = []\n",
    "for i in range(10):\n",
    "    numbers.append(i)\n",
    "print(numbers)"
   ]
  },
  {
   "cell_type": "code",
   "execution_count": 32,
   "metadata": {},
   "outputs": [
    {
     "name": "stdout",
     "output_type": "stream",
     "text": [
      "[0, 1, 2, 3, 4, 5, 6, 7, 8, 9]\n"
     ]
    }
   ],
   "source": [
    "numbers = []\n",
    "numbers = [i for i in range(10)]\n",
    "print(numbers)"
   ]
  },
  {
   "cell_type": "code",
   "execution_count": 34,
   "metadata": {},
   "outputs": [
    {
     "name": "stdout",
     "output_type": "stream",
     "text": [
      "['Hatty', 'Henry', 'Thomas']\n"
     ]
    }
   ],
   "source": [
    "names = ['Hatty','George','Henry','Adam','Thomas']\n",
    "names_h = [name for name in names if 'h' in name.lower()]\n",
    "print(names_h)"
   ]
  },
  {
   "cell_type": "markdown",
   "metadata": {},
   "source": [
    "---\n",
    "## Exercises Extra 1\n",
    "---"
   ]
  },
  {
   "cell_type": "markdown",
   "metadata": {},
   "source": [
    "Remake the following loop into a list comprehension:\n",
    "    \n",
    "``` python\n",
    "for i in range(5):\n",
    "    print(i)\n",
    "```"
   ]
  },
  {
   "cell_type": "code",
   "execution_count": null,
   "metadata": {},
   "outputs": [],
   "source": []
  },
  {
   "cell_type": "markdown",
   "metadata": {},
   "source": [
    "Remake the following loop into a list comprehension:\n",
    "\n",
    "Only change the if statement to one line!\n",
    "    \n",
    "``` python\n",
    "odds = [1,3,5,7]\n",
    "for odd_num in odds:\n",
    "    if odd_num == 1 or odd_num == 5:\n",
    "        print(odd_num)\n",
    "```"
   ]
  },
  {
   "cell_type": "code",
   "execution_count": null,
   "metadata": {},
   "outputs": [],
   "source": []
  },
  {
   "cell_type": "markdown",
   "metadata": {},
   "source": [
    "Remake the following loop into a list comprehension:\n",
    "\n",
    "Try to make it all one line! Try: `print(even for even in evens if...?)`\n",
    "    \n",
    "``` python\n",
    "evens = [2,4,6,8]\n",
    "for even in evens:\n",
    "    if even % 4 == 0:\n",
    "        print(even)\n",
    "```"
   ]
  },
  {
   "cell_type": "code",
   "execution_count": null,
   "metadata": {},
   "outputs": [],
   "source": []
  },
  {
   "cell_type": "code",
   "execution_count": null,
   "metadata": {},
   "outputs": [],
   "source": []
  },
  {
   "cell_type": "markdown",
   "metadata": {},
   "source": [
    "---\n",
    "## Zip and Enumerate\n",
    "\n",
    "`enumerate()` and `zip()` are built-in functions that can be used on sequences.\n",
    "\n",
    "### enumerate()\n",
    " \n",
    "The `enumerate()` function can be use to iterate over indices and items of a list.\n",
    " \n",
    "Here's an example using a for loop to print the index (i) and value (v).\n",
    " \n",
    "```python\n",
    ">>> a = [\"a\", \"b\", \"c\"]\n",
    ">>> for i, v in enumerate(a):\n",
    "        print i, v\n",
    "0 a\n",
    "1 b\n",
    "2 c\n",
    "```\n",
    " \n",
    "### zip()\n",
    " \n",
    "The `zip()` function can be used to iterate over two or more lists in parallel.\n",
    " \n",
    "```python\n",
    ">>> a = [1, 2, 3]\n",
    ">>> b = [3, 4, 5]\n",
    ">>> c = [6, 7, 8]\n",
    ">>> for i, j, k in zip(a, b, c):\n",
    "        print i, j, k\n",
    "1 3 6\n",
    "2 4 7\n",
    "3 5 8\n",
    "```\n",
    " \n",
    "#### Use zip() and enumerate() together\n",
    " \n",
    "Here is how to iterate over two lists and their indices using `enumerate()`\n",
    "together with `zip()`.\n",
    " \n",
    "```python\n",
    ">>> alist = ['a1', 'a2', 'a3']\n",
    ">>> blist = ['b1', 'b2', 'b3']\n",
    ">>>\n",
    ">>> for i, (a, b) in enumerate(zip(alist, blist)):\n",
    "        print i, a, b\n",
    "0 a1 b1\n",
    "1 a2 b2\n",
    "2 a3 b3\n",
    "```\n",
    "\n",
    "**Let's have a go**\n",
    "\n",
    "---"
   ]
  },
  {
   "cell_type": "code",
   "execution_count": 35,
   "metadata": {},
   "outputs": [],
   "source": [
    "keys = ['one','two','three']\n",
    "x = [1,2,3]\n",
    "y = [2,5,8]"
   ]
  },
  {
   "cell_type": "code",
   "execution_count": 36,
   "metadata": {},
   "outputs": [
    {
     "name": "stdout",
     "output_type": "stream",
     "text": [
      "[(1, 2), (2, 5), (3, 8)]\n",
      "{'one': 2, 'two': 5, 'three': 8}\n"
     ]
    }
   ],
   "source": [
    "zipped = zip(x,y)\n",
    "zip_list = list(zipped)\n",
    "zip_dic = dict(zip(keys,y))\n",
    "print(zip_list)\n",
    "print(zip_dic)"
   ]
  },
  {
   "cell_type": "code",
   "execution_count": 37,
   "metadata": {},
   "outputs": [
    {
     "name": "stdout",
     "output_type": "stream",
     "text": [
      "index: 9 , x: 1\n",
      "index: 9 , x: 2\n",
      "index: 9 , x: 3\n"
     ]
    }
   ],
   "source": [
    "for index,x in enumerate(x):\n",
    "    print('index:', i, ', x:', x)"
   ]
  },
  {
   "cell_type": "code",
   "execution_count": 38,
   "metadata": {},
   "outputs": [
    {
     "name": "stdout",
     "output_type": "stream",
     "text": [
      "0 : one\n",
      "1 : two\n",
      "2 : three\n"
     ]
    }
   ],
   "source": [
    "for key, value in enumerate(zip_dic):\n",
    "    print(key,':',value)    "
   ]
  },
  {
   "cell_type": "code",
   "execution_count": 39,
   "metadata": {},
   "outputs": [
    {
     "name": "stdout",
     "output_type": "stream",
     "text": [
      "0 : one\n",
      "0 : 2\n",
      "1 : two\n",
      "1 : 5\n",
      "2 : three\n",
      "2 : 8\n"
     ]
    }
   ],
   "source": [
    "for i, (key,value) in enumerate(zip_dic.items()):\n",
    "    print(i,':',key)\n",
    "    print(i,':',value)"
   ]
  },
  {
   "cell_type": "code",
   "execution_count": 41,
   "metadata": {},
   "outputs": [
    {
     "name": "stdout",
     "output_type": "stream",
     "text": [
      "[0, 2, 10, 9, 4]\n"
     ]
    }
   ],
   "source": [
    "original = [1,2,5,3,1]\n",
    "def index_prods(lis):\n",
    "    out = []\n",
    "    for i,x in enumerate(lis):\n",
    "        out.append(i*x)\n",
    "    return out\n",
    "\n",
    "new_list = index_prods(original)\n",
    "print(new_list)"
   ]
  }
 ],
 "metadata": {
  "kernelspec": {
   "display_name": "Python 3",
   "language": "python",
   "name": "python3"
  },
  "language_info": {
   "codemirror_mode": {
    "name": "ipython",
    "version": 3
   },
   "file_extension": ".py",
   "mimetype": "text/x-python",
   "name": "python",
   "nbconvert_exporter": "python",
   "pygments_lexer": "ipython3",
   "version": "3.7.3"
  }
 },
 "nbformat": 4,
 "nbformat_minor": 2
}
