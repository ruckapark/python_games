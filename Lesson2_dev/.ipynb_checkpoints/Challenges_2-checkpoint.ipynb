{
 "cells": [
  {
   "cell_type": "markdown",
   "metadata": {},
   "source": [
    "# Challenges 2\n",
    "\n",
    "Like for lesson 1 here is a challenge series for this lesson. Both can be completed in spyder."
   ]
  },
  {
   "cell_type": "markdown",
   "metadata": {},
   "source": [
    "### Challenge 1\n",
    "\n",
    "Try to fill out the functions with the desired function. These are related to the functions we made in the lesson so have another look at the notebook. We also want to define some classes. We will be using them in lesson 4 and 5 to make our code neater!\n",
    "\n",
    "Tips:\n",
    "* Remember a function can have automatic inputs that if we want to change them we can like this:\n",
    "\n",
    "`def add_(x,y = 1)` \n",
    ">`return x + y`\n",
    "\n",
    "`add(5) = 6` no y value given so defaults to 1  \n",
    "`add(5,y=3) = 8` we give y explicitly so default overriden\n",
    "\n",
    "* When making a class, functions with __ either side will automatically run without calling the function. Init is one of these functions. Look back at lesson 2 examples!"
   ]
  },
  {
   "cell_type": "markdown",
   "metadata": {},
   "source": [
    "### Challenge 2\n",
    "\n",
    "The code here is a bit tricky. Try to only change my code on what is being drawn.\n",
    "I use circle and hill functions to make a background.\n",
    "You could make some others like star() if you want to do a space style background!\n",
    "\n",
    "Some ideas:\n",
    "* Star()\n",
    "* Square()\n",
    "* House(rectangle(),triangle())\n",
    "* Spiral()"
   ]
  },
  {
   "cell_type": "markdown",
   "metadata": {},
   "source": [
    "### Extensions\n",
    "\n",
    "**Challenge 1**: Add some more complicated functions to the enemy class to ensure that it can move to any location by inputing and x,y coordinate in the move function!\n",
    "\n",
    "**Challenge 2**: Try playing around with the limiting of the colours, look at my function and make the limit number (125) a paramter that you can control.\n",
    "Maybe change which colours are being limited for bits in each quarter of the photo to give the full image some more variety!"
   ]
  }
 ],
 "metadata": {
  "kernelspec": {
   "display_name": "Python 3",
   "language": "python",
   "name": "python3"
  },
  "language_info": {
   "codemirror_mode": {
    "name": "ipython",
    "version": 3
   },
   "file_extension": ".py",
   "mimetype": "text/x-python",
   "name": "python",
   "nbconvert_exporter": "python",
   "pygments_lexer": "ipython3",
   "version": "3.7.3"
  }
 },
 "nbformat": 4,
 "nbformat_minor": 2
}
