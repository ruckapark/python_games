{
 "cells": [
  {
   "cell_type": "markdown",
   "metadata": {},
   "source": [
    "# Lesson 2\n",
    "\n",
    "Well done, thanks for sticking at it! You know the basic now, here's a recap of what we learnt in the last sessions:\n",
    "* [Printing](https://www.learnpython.org/en/Hello%2C_World%21)\n",
    "* [Arithmetic]()\n",
    "* [Variables](https://www.learnpython.org/en/Variables_and_Types)\n",
    "* [Data Types](https://www.learnpython.org/en/Lists)\n",
    "* [Iterating](https://www.learnpython.org/en/Loops)\n",
    "* [If statements](https://www.learnpython.org/en/Conditions)\n",
    "\n",
    "We then had a look at making a new folder in our computer and saving some photos we played around with for the games.\n",
    "To do this we used two python modules: '[os](https://www.geeksforgeeks.org/os-module-python-examples/)' and '[PIL](https://pillow.readthedocs.io/en/stable/)'.\n",
    "\n",
    "Today we will look at the following things in more detail before starting to build our first game next lesson:\n",
    "* [Modules](https://www.learnpython.org/en/Modules_and_Packages)\n",
    "* [For and While Loops](https://www.learnpython.org/en/Loops)\n",
    "* [Dictionaries](https://www.learnpython.org/en/Dictionaries)\n",
    "* [Functions](https://www.learnpython.org/en/Functions)\n",
    "* [List Comprehensions](https://www.learnpython.org/en/List_Comprehensions)\n",
    "* [Classes and Objects](https://www.learnpython.org/en/Classes_and_Objects)\n",
    "\n",
    "(Try out the links at home later if you have a particular item on the list that isn't clicking!)"
   ]
  },
  {
   "cell_type": "markdown",
   "metadata": {},
   "source": [
    "---\n",
    "### Dictionaries\n",
    "\n",
    "A dictionary is a data type similar to arrays, but works with keys and values instead of indexes.\n",
    "In a list for the zeroth element we call `list[0]`, here we can call an item in a dictionary with a string as following: `dictionary['first entry']`.\n",
    "\n",
    "If we want to delete an entry we can use `.pop()` like in a list, however if we want to add to a dictionary we use `update({})`, giving a dictionary inside.\n",
    "\n",
    "Below the standard syntax for a dictionary is described.\n",
    "\n",
    "---"
   ]
  },
  {
   "cell_type": "code",
   "execution_count": 1,
   "metadata": {},
   "outputs": [
    {
     "name": "stdout",
     "output_type": "stream",
     "text": [
      "{'John': 938477566, 'Jack': 938377264, 'Jill': 947662781}\n"
     ]
    }
   ],
   "source": [
    "phonebook = {}\n",
    "phonebook[\"John\"] = 938477566\n",
    "phonebook[\"Jack\"] = 938377264\n",
    "phonebook[\"Jill\"] = 947662781\n",
    "print(phonebook)"
   ]
  },
  {
   "cell_type": "markdown",
   "metadata": {},
   "source": [
    "See if you can make the same notebook in one line!  \n",
    "Here is an example of a dictionary:  `dict = {'a':1,'b':2}`"
   ]
  },
  {
   "cell_type": "code",
   "execution_count": 2,
   "metadata": {},
   "outputs": [],
   "source": [
    "#remake the same dictionary\n"
   ]
  },
  {
   "cell_type": "code",
   "execution_count": null,
   "metadata": {},
   "outputs": [],
   "source": []
  },
  {
   "cell_type": "markdown",
   "metadata": {},
   "source": [
    "Extension:  \n",
    "Try making one dictionary with all your families names and another with all their ages."
   ]
  },
  {
   "cell_type": "code",
   "execution_count": null,
   "metadata": {},
   "outputs": [],
   "source": []
  },
  {
   "cell_type": "code",
   "execution_count": null,
   "metadata": {},
   "outputs": [],
   "source": []
  },
  {
   "cell_type": "markdown",
   "metadata": {},
   "source": [
    "Extension:\n",
    "Make a list of the names, and a list of ages.  \n",
    "\n",
    "Use a zip method to make a dictionary of the two lists with age as the object and name as the key.\n",
    "\n",
    "Heres an example:  \n",
    "`people = ['Tom','Matt']`  \n",
    "`age = [10,11]`  \n",
    "`dict = dict(zip(people,age))`"
   ]
  },
  {
   "cell_type": "code",
   "execution_count": null,
   "metadata": {},
   "outputs": [],
   "source": [
    "#new dictionary"
   ]
  },
  {
   "cell_type": "code",
   "execution_count": 3,
   "metadata": {},
   "outputs": [],
   "source": [
    "#print dictionary"
   ]
  },
  {
   "cell_type": "markdown",
   "metadata": {},
   "source": [
    "---\n",
    "### Updates\n",
    "\n",
    "If we have adictionary it makes sense we will want to add new entries to them when they come about.\n",
    "\n",
    "Below is an example:\n",
    "\n",
    "---"
   ]
  },
  {
   "cell_type": "code",
   "execution_count": 6,
   "metadata": {},
   "outputs": [
    {
     "name": "stdout",
     "output_type": "stream",
     "text": [
      "{'John': 938477566, 'Jack': 938377264, 'Jill': 947662781, 'George': 1367842718}\n"
     ]
    }
   ],
   "source": [
    "phonebook.update({'George':1367842718})\n",
    "print(phonebook)"
   ]
  },
  {
   "cell_type": "markdown",
   "metadata": {},
   "source": [
    "See if you can add more than one person you know to the phonebook without useing more than one line of code."
   ]
  },
  {
   "cell_type": "code",
   "execution_count": null,
   "metadata": {},
   "outputs": [],
   "source": [
    "#add two people to the phonebook (or more)"
   ]
  },
  {
   "cell_type": "code",
   "execution_count": null,
   "metadata": {},
   "outputs": [],
   "source": [
    "#print phonebook"
   ]
  },
  {
   "cell_type": "markdown",
   "metadata": {},
   "source": [
    "---\n",
    "### Nesting\n",
    "\n",
    "Nesting is the same concept as having an if statemtn in another if statement.\n",
    "\n",
    "We could even store a list and other dictionaries inside a dictionary. Dictionaries in dictionaries would be like a nested dictionary.\n",
    "\n",
    "---"
   ]
  },
  {
   "cell_type": "code",
   "execution_count": 7,
   "metadata": {},
   "outputs": [
    {
     "name": "stdout",
     "output_type": "stream",
     "text": [
      "{'England': {}, 'France': {'Patrice': '+33 7 34 23 15 34', 'Benoit': '+33 6 12 32 15 24'}}\n",
      "{'Patrice': '+33 7 34 23 15 34', 'Benoit': '+33 6 12 32 15 24'}\n"
     ]
    }
   ],
   "source": [
    "phonebook = {'England':{},'France':{}}\n",
    "phonebook['France'].update({\n",
    "        'Patrice':'+33 7 34 23 15 34',\n",
    "        'Benoit':'+33 6 12 32 15 24'\n",
    "        })\n",
    "print(phonebook)\n",
    "print(phonebook['France'])"
   ]
  },
  {
   "cell_type": "code",
   "execution_count": null,
   "metadata": {},
   "outputs": [],
   "source": [
    "#add some people to the England part of your phonebook\n",
    "#remember the code is +44!"
   ]
  },
  {
   "cell_type": "code",
   "execution_count": null,
   "metadata": {},
   "outputs": [],
   "source": [
    "#print only the english phonebook dictionary"
   ]
  },
  {
   "cell_type": "markdown",
   "metadata": {},
   "source": [
    "Extension: Try to add another nations dictionary to the initial dictionary.  \n",
    "Then add some names and numbers to the dictionary with the correct area code!"
   ]
  },
  {
   "cell_type": "code",
   "execution_count": null,
   "metadata": {},
   "outputs": [],
   "source": [
    "#add new nation"
   ]
  },
  {
   "cell_type": "code",
   "execution_count": 8,
   "metadata": {},
   "outputs": [],
   "source": [
    "# add names to new nation"
   ]
  },
  {
   "cell_type": "code",
   "execution_count": null,
   "metadata": {},
   "outputs": [],
   "source": []
  },
  {
   "cell_type": "markdown",
   "metadata": {},
   "source": [
    "Pick three names from various nations and print their phonenumbers individually by calling their entry."
   ]
  },
  {
   "cell_type": "code",
   "execution_count": null,
   "metadata": {},
   "outputs": [],
   "source": []
  },
  {
   "cell_type": "code",
   "execution_count": null,
   "metadata": {},
   "outputs": [],
   "source": []
  },
  {
   "cell_type": "markdown",
   "metadata": {},
   "source": [
    "---\n",
    "There are two types of loops in Python, while and for.\n",
    "\n",
    "### While\n",
    "\n",
    "While loops repeat as long as the computer sees `True` and not `False`. This is typically a certain boolean condition.\n",
    "\n",
    "This are often what a code uses for a never ending program that only ends once a certain objective has been obtained.\n",
    "\n",
    "### For\n",
    "\n",
    "The `range()` function returns an iterator of a certain length. This can be used to run a for loop a certain amount of times.  \n",
    "In python we can also iterate through a list one-by-one without telling the iterator how long the list is. We do this by using the `in` command.\n",
    "\n",
    "---"
   ]
  },
  {
   "cell_type": "code",
   "execution_count": 9,
   "metadata": {},
   "outputs": [
    {
     "name": "stdout",
     "output_type": "stream",
     "text": [
      "1 is less than 5\n",
      "2 is less than 5\n",
      "3 is less than 5\n",
      "4 is less than 5\n"
     ]
    }
   ],
   "source": [
    "x = 1\n",
    "while x < 5:\n",
    "    print('{} is less than 5'.format(x))\n",
    "    x += 1"
   ]
  },
  {
   "cell_type": "markdown",
   "metadata": {},
   "source": [
    "Make you're own while loop that runs upto ten but only loops through the even numbers!"
   ]
  },
  {
   "cell_type": "code",
   "execution_count": 10,
   "metadata": {},
   "outputs": [],
   "source": [
    "#while x < 10 x += 2"
   ]
  },
  {
   "cell_type": "markdown",
   "metadata": {},
   "source": [
    "### True or False?\n",
    "\n",
    "The computer really sees True, if the condition is met, and False if the condition is broken.\n",
    "\n",
    "As long as the computer see True, the while loop will continue.\n",
    "\n",
    "If the game objective is to reach a score of ten, the loop might have a basic structure like this:\n",
    "\n",
    "---"
   ]
  },
  {
   "cell_type": "code",
   "execution_count": 11,
   "metadata": {},
   "outputs": [
    {
     "name": "stdout",
     "output_type": "stream",
     "text": [
      "Well done, level 1 complete!\n"
     ]
    }
   ],
   "source": [
    "#typical game loop\n",
    "running = True\n",
    "score = 0\n",
    "while running:\n",
    "    #game functions\n",
    "    score += 1\n",
    "    if score >= 10:\n",
    "        print('Well done, level 1 complete!')\n",
    "        running = False"
   ]
  },
  {
   "cell_type": "markdown",
   "metadata": {},
   "source": [
    "Try writing a while loop in the same way, but when a number appears that is divisible by 17 quite the while loop (make running False!)"
   ]
  },
  {
   "cell_type": "code",
   "execution_count": null,
   "metadata": {},
   "outputs": [],
   "source": [
    "#while running: if x % 17"
   ]
  },
  {
   "cell_type": "code",
   "execution_count": null,
   "metadata": {},
   "outputs": [],
   "source": []
  },
  {
   "cell_type": "markdown",
   "metadata": {},
   "source": [
    "Extension: see if you can quite a loop in the same way once 5 numbers have been divisible by 12.\n",
    "After the loop print the x value to check it is 60!"
   ]
  },
  {
   "cell_type": "code",
   "execution_count": null,
   "metadata": {},
   "outputs": [],
   "source": []
  },
  {
   "cell_type": "code",
   "execution_count": null,
   "metadata": {},
   "outputs": [],
   "source": []
  },
  {
   "cell_type": "markdown",
   "metadata": {},
   "source": [
    "## For loops"
   ]
  },
  {
   "cell_type": "code",
   "execution_count": 12,
   "metadata": {},
   "outputs": [
    {
     "name": "stdout",
     "output_type": "stream",
     "text": [
      "0\n",
      "1\n",
      "2\n",
      "3\n",
      "4\n",
      "5\n",
      "6\n",
      "7\n",
      "8\n",
      "9\n"
     ]
    }
   ],
   "source": [
    "for i in range(10):\n",
    "    print(i)"
   ]
  },
  {
   "cell_type": "code",
   "execution_count": 13,
   "metadata": {},
   "outputs": [
    {
     "name": "stdout",
     "output_type": "stream",
     "text": [
      "George\n",
      "Hatty\n",
      "Adam\n",
      "Henry\n"
     ]
    }
   ],
   "source": [
    "names = ['George','Hatty','Adam','Henry','Rebecca','Loretta','Renato']\n",
    "for i in range(4):\n",
    "    print(names[i])"
   ]
  },
  {
   "cell_type": "markdown",
   "metadata": {},
   "source": [
    "Instead of having `range(4)` see if you can use the length (range(len())) function to make sure you always print all the names regardless of the list size."
   ]
  },
  {
   "cell_type": "code",
   "execution_count": 15,
   "metadata": {},
   "outputs": [],
   "source": [
    "#use the len() function to determine for loop size"
   ]
  },
  {
   "cell_type": "code",
   "execution_count": null,
   "metadata": {},
   "outputs": [],
   "source": []
  },
  {
   "cell_type": "markdown",
   "metadata": {},
   "source": [
    "Extension: Looking at the following example shorten the above code with a similar format!\n",
    "\n",
    "`dates = ['12/12','13/12','14/12']`  \n",
    "`for date in dates: print(date)`"
   ]
  },
  {
   "cell_type": "code",
   "execution_count": 14,
   "metadata": {},
   "outputs": [],
   "source": [
    "#make the names for loop in one line!"
   ]
  },
  {
   "cell_type": "code",
   "execution_count": null,
   "metadata": {},
   "outputs": [],
   "source": []
  },
  {
   "cell_type": "markdown",
   "metadata": {},
   "source": [
    "Extension: Only print the names over 4 letters long with an if statement in the loop!"
   ]
  },
  {
   "cell_type": "code",
   "execution_count": null,
   "metadata": {},
   "outputs": [],
   "source": []
  },
  {
   "cell_type": "markdown",
   "metadata": {},
   "source": [
    "---\n",
    "**If statement in for loops**\n",
    "\n",
    "When dealing with strings the following code will ensure the string is always lower case.\n",
    "\n",
    "`string = 'HeLlo'`  \n",
    "`print(string.lower())`  \n",
    "`hello`\n",
    "\n",
    "Try to write the same for loop but only print the names that have a certain letter in them. For example 'h'."
   ]
  },
  {
   "cell_type": "code",
   "execution_count": null,
   "metadata": {},
   "outputs": [],
   "source": []
  },
  {
   "cell_type": "markdown",
   "metadata": {},
   "source": [
    "Extension: Use a while loop to do exactly the same thing!"
   ]
  },
  {
   "cell_type": "code",
   "execution_count": null,
   "metadata": {},
   "outputs": [],
   "source": []
  },
  {
   "cell_type": "code",
   "execution_count": null,
   "metadata": {},
   "outputs": [],
   "source": []
  },
  {
   "cell_type": "markdown",
   "metadata": {},
   "source": [
    "---\n",
    "#### while and for loops\n",
    "\n",
    "If we have a game loop that runs (True) until someone clicks exit screen. Inside that loop we will have tons of other loops running (**Nested** loops).\n",
    "\n",
    "Try writing your own while loop with a for loop inside it!\n",
    "There's and example below.\n",
    "\n",
    "---"
   ]
  },
  {
   "cell_type": "code",
   "execution_count": 16,
   "metadata": {},
   "outputs": [],
   "source": [
    "running = True\n",
    "enemies = 10 #imagine we have 10 space invaders on screen\n",
    "while running:\n",
    "    for i in range(enemies):\n",
    "        if i == 8: running = False"
   ]
  },
  {
   "cell_type": "code",
   "execution_count": null,
   "metadata": {},
   "outputs": [],
   "source": []
  },
  {
   "cell_type": "markdown",
   "metadata": {},
   "source": [
    "Extension:\n",
    "Think of your own example where you would need a while loop around a for loop, while loop and if statement! Get creative..."
   ]
  },
  {
   "cell_type": "code",
   "execution_count": 17,
   "metadata": {},
   "outputs": [],
   "source": [
    "#while: For,while,if"
   ]
  },
  {
   "cell_type": "code",
   "execution_count": null,
   "metadata": {},
   "outputs": [],
   "source": []
  },
  {
   "cell_type": "markdown",
   "metadata": {},
   "source": [
    "Extension: see if you can work out what's going on here:"
   ]
  },
  {
   "cell_type": "code",
   "execution_count": 18,
   "metadata": {},
   "outputs": [
    {
     "name": "stdout",
     "output_type": "stream",
     "text": [
      "2 is prime\n",
      "3 is prime\n",
      "5 is prime\n",
      "7 is prime\n",
      "11 is prime\n",
      "13 is prime\n",
      "17 is prime\n",
      "19 is prime\n",
      "23 is prime\n",
      "29 is prime\n",
      "31 is prime\n",
      "37 is prime\n",
      "41 is prime\n",
      "43 is prime\n",
      "47 is prime\n",
      "53 is prime\n",
      "59 is prime\n",
      "61 is prime\n",
      "67 is prime\n",
      "71 is prime\n",
      "73 is prime\n",
      "79 is prime\n",
      "83 is prime\n",
      "89 is prime\n",
      "97 is prime\n"
     ]
    }
   ],
   "source": [
    "i = 2\n",
    "while(i < 100):\n",
    "   j = 2\n",
    "   while(j <= (i/j)):\n",
    "      if not(i%j): break\n",
    "      j += 1\n",
    "   if (j > i/j) : print(i, 'is prime')\n",
    "   i += 1"
   ]
  },
  {
   "cell_type": "code",
   "execution_count": null,
   "metadata": {},
   "outputs": [],
   "source": []
  },
  {
   "cell_type": "code",
   "execution_count": null,
   "metadata": {},
   "outputs": [],
   "source": []
  },
  {
   "cell_type": "markdown",
   "metadata": {},
   "source": [
    "---\n",
    "## Functions\n",
    "\n",
    "Functions are some of the most **important** parts of all programming languages. Often we want to carry out a certain action to a variable hundreds of times in the same code. To account for this we write function, like the ones we used to manipulate all those photos.\n",
    "\n",
    "We can think of it like a black box with inputs and outputs, except that black box is written by us and we can go back to it and adjust things at any time!\n",
    "\n",
    "Imagine we want to select all the names that begin with a certain letter in a list of names.  \n",
    "We would have  \n",
    "**inputs:** the letter desired, the list of names\n",
    "**outputs:** the reduced list of names desired\n",
    "\n",
    "In python you won't need to tell the computer where a certain variable is stored (pointing) so functions really are simple!\n",
    "\n",
    "---"
   ]
  },
  {
   "cell_type": "code",
   "execution_count": 19,
   "metadata": {},
   "outputs": [],
   "source": [
    "def add(x,y):\n",
    "    addition = x + y\n",
    "    return addition"
   ]
  },
  {
   "cell_type": "code",
   "execution_count": 20,
   "metadata": {},
   "outputs": [],
   "source": [
    "#make your own subtract function"
   ]
  },
  {
   "cell_type": "code",
   "execution_count": null,
   "metadata": {},
   "outputs": [],
   "source": []
  },
  {
   "cell_type": "markdown",
   "metadata": {},
   "source": [
    "Play around with the functions and see if you can work out how to use them."
   ]
  },
  {
   "cell_type": "code",
   "execution_count": 21,
   "metadata": {},
   "outputs": [
    {
     "data": {
      "text/plain": [
       "21"
      ]
     },
     "execution_count": 21,
     "metadata": {},
     "output_type": "execute_result"
    }
   ],
   "source": [
    "#eg\n",
    "add(10,11)"
   ]
  },
  {
   "cell_type": "code",
   "execution_count": null,
   "metadata": {},
   "outputs": [],
   "source": []
  },
  {
   "cell_type": "markdown",
   "metadata": {},
   "source": [
    "Extension: Make a divide, int divide and modulus function."
   ]
  },
  {
   "cell_type": "code",
   "execution_count": null,
   "metadata": {},
   "outputs": [],
   "source": []
  },
  {
   "cell_type": "code",
   "execution_count": null,
   "metadata": {},
   "outputs": [],
   "source": []
  },
  {
   "cell_type": "markdown",
   "metadata": {},
   "source": [
    "Extension: See if you can turn the subtract function into only 2 lines."
   ]
  },
  {
   "cell_type": "code",
   "execution_count": null,
   "metadata": {},
   "outputs": [],
   "source": []
  },
  {
   "cell_type": "code",
   "execution_count": null,
   "metadata": {},
   "outputs": [],
   "source": []
  },
  {
   "cell_type": "markdown",
   "metadata": {},
   "source": [
    "### Inputs and outputs\n",
    "\n",
    "We have a function that takes two inputs, we could also have a function that returns multiple results.\n",
    "\n",
    "`def multiply_divide(x,y):`  \n",
    "`____prod = x*y`  \n",
    "`____div = x/y`  \n",
    "`____return prod,div`  \n",
    "    \n",
    "`p,d = multiple_divide(x,y)`\n",
    "\n",
    "make an example of a function that returns two outputs two variables"
   ]
  },
  {
   "cell_type": "code",
   "execution_count": null,
   "metadata": {},
   "outputs": [],
   "source": []
  },
  {
   "cell_type": "code",
   "execution_count": null,
   "metadata": {},
   "outputs": [],
   "source": []
  },
  {
   "cell_type": "markdown",
   "metadata": {},
   "source": [
    "Extension: Try directly storing the variables in a list. Don't overthink it."
   ]
  },
  {
   "cell_type": "code",
   "execution_count": 26,
   "metadata": {},
   "outputs": [
    {
     "name": "stdout",
     "output_type": "stream",
     "text": [
      "True\n",
      "False\n"
     ]
    }
   ],
   "source": [
    "def first_letter_same(name1,name2):\n",
    "    if name1.lower()[0] == name2.lower()[0]:\n",
    "        return True\n",
    "    else: return False\n",
    "    \n",
    "print(first_letter_same('George','Gordon'))\n",
    "print(first_letter_same('George','Hatty'))"
   ]
  },
  {
   "cell_type": "code",
   "execution_count": null,
   "metadata": {},
   "outputs": [],
   "source": [
    "#how can we store the True into a variable?"
   ]
  },
  {
   "cell_type": "code",
   "execution_count": null,
   "metadata": {},
   "outputs": [],
   "source": [
    "#try for the add function too"
   ]
  },
  {
   "cell_type": "code",
   "execution_count": null,
   "metadata": {},
   "outputs": [],
   "source": []
  },
  {
   "cell_type": "markdown",
   "metadata": {},
   "source": [
    "Extension: Think of an example that has no input and returns nothing. For example printing a random number!"
   ]
  },
  {
   "cell_type": "code",
   "execution_count": null,
   "metadata": {},
   "outputs": [],
   "source": []
  },
  {
   "cell_type": "code",
   "execution_count": null,
   "metadata": {},
   "outputs": [],
   "source": []
  },
  {
   "cell_type": "markdown",
   "metadata": {},
   "source": [
    "Extension: See if you can make a function that will check if the number is prime."
   ]
  },
  {
   "cell_type": "code",
   "execution_count": null,
   "metadata": {},
   "outputs": [],
   "source": []
  },
  {
   "cell_type": "code",
   "execution_count": null,
   "metadata": {},
   "outputs": [],
   "source": []
  },
  {
   "cell_type": "markdown",
   "metadata": {},
   "source": [
    "---\n",
    "## List Comprehensions\n",
    "\n",
    "List Comprehensions is a very powerful tool, which creates a new list based on an iterator or another list, in a single line.\n",
    "\n",
    "Sometimes code gets long and hard to read. Small shortcuts can make things much easier to read once we get used to it!\n",
    "\n",
    "Below are some examples of two codes that do exactly the same thing and avoid having to reappend values.\n",
    "\n",
    "---"
   ]
  },
  {
   "cell_type": "code",
   "execution_count": 27,
   "metadata": {},
   "outputs": [
    {
     "name": "stdout",
     "output_type": "stream",
     "text": [
      "[0, 1, 2, 3, 4]\n"
     ]
    }
   ],
   "source": [
    "test_list = []\n",
    "for x in range(5):\n",
    "    test_list.append(x)\n",
    "print(test_list)"
   ]
  },
  {
   "cell_type": "code",
   "execution_count": 29,
   "metadata": {},
   "outputs": [
    {
     "name": "stdout",
     "output_type": "stream",
     "text": [
      "[0, 1, 2, 3, 4]\n"
     ]
    }
   ],
   "source": [
    "#remember to put the iterator in sqaure brackets to remember it is a list!\n",
    "test_list = [x for x in range(5)]\n",
    "print(test_list)"
   ]
  },
  {
   "cell_type": "markdown",
   "metadata": {},
   "source": [
    "Rewrite the following code with a list comprehension instead of a loop!\n",
    "\n",
    "Below is a more complex example!"
   ]
  },
  {
   "cell_type": "code",
   "execution_count": 30,
   "metadata": {},
   "outputs": [],
   "source": [
    "names = ['Hatty','George','Henry','Adam','Thomas']\n",
    "names_h = [] #that begin with h\n",
    "for name in names:\n",
    "    if 'h' in name.lower():\n",
    "        names_h.append(name)"
   ]
  },
  {
   "cell_type": "code",
   "execution_count": 31,
   "metadata": {},
   "outputs": [
    {
     "name": "stdout",
     "output_type": "stream",
     "text": [
      "['Hatty', 'Henry', 'Thomas']\n"
     ]
    }
   ],
   "source": [
    "#or simply!\n",
    "names_h = [name for name in names if 'h' in name.lower()]\n",
    "print(names_h)"
   ]
  },
  {
   "cell_type": "code",
   "execution_count": 32,
   "metadata": {},
   "outputs": [],
   "source": [
    "#example of longer version\n",
    "scores_long = []\n",
    "for i in range(10):\n",
    "    score = 4*i - 1\n",
    "    scores.append(score)"
   ]
  },
  {
   "cell_type": "code",
   "execution_count": null,
   "metadata": {},
   "outputs": [],
   "source": [
    "#redo\n",
    "scores_short = "
   ]
  },
  {
   "cell_type": "code",
   "execution_count": null,
   "metadata": {},
   "outputs": [],
   "source": [
    "#check (should return True)\n",
    "scores_long == scores_short"
   ]
  },
  {
   "cell_type": "markdown",
   "metadata": {},
   "source": [
    "---\n",
    "## Zip and Enumerate\n",
    "\n",
    "`enumerate()` and `zip()` are built-in functions that can be used on sequences.\n",
    "\n",
    "### enumerate()\n",
    " \n",
    "The `enumerate()` function can be use to iterate over indices and items of a list.\n",
    " \n",
    "Here's an example using a for loop to print the index (i) and value (v).\n",
    " \n",
    "```python\n",
    ">>> a = [\"a\", \"b\", \"c\"]\n",
    ">>> for i, v in enumerate(a):\n",
    "        print i, v\n",
    "0 a\n",
    "1 b\n",
    "2 c\n",
    "```\n",
    " \n",
    "### zip()\n",
    " \n",
    "The `zip()` function can be used to iterate over two or more lists in parallel.\n",
    " \n",
    "```python\n",
    ">>> a = [1, 2, 3]\n",
    ">>> b = [3, 4, 5]\n",
    ">>> c = [6, 7, 8]\n",
    ">>> for i, j, k in zip(a, b, c):\n",
    "        print i, j, k\n",
    "1 3 6\n",
    "2 4 7\n",
    "3 5 8\n",
    "```\n",
    " \n",
    "#### Use zip() and enumerate() together\n",
    " \n",
    "Here is how to iterate over two lists and their indices using `enumerate()`\n",
    "together with `zip()`.\n",
    " \n",
    "```python\n",
    ">>> alist = ['a1', 'a2', 'a3']\n",
    ">>> blist = ['b1', 'b2', 'b3']\n",
    ">>>\n",
    ">>> for i, (a, b) in enumerate(zip(alist, blist)):\n",
    "        print i, a, b\n",
    "0 a1 b1\n",
    "1 a2 b2\n",
    "2 a3 b3\n",
    "```\n",
    "\n",
    "**Let's have a go**\n",
    "\n",
    "---"
   ]
  },
  {
   "cell_type": "code",
   "execution_count": 44,
   "metadata": {},
   "outputs": [],
   "source": [
    "keys = ['one','two','three']\n",
    "x = [1,2,3]\n",
    "y = [2,5,8]"
   ]
  },
  {
   "cell_type": "code",
   "execution_count": 45,
   "metadata": {},
   "outputs": [
    {
     "name": "stdout",
     "output_type": "stream",
     "text": [
      "[(1, 2), (2, 5), (3, 8)]\n",
      "{'one': 2, 'two': 5, 'three': 8}\n"
     ]
    }
   ],
   "source": [
    "zipped = zip(x,y)\n",
    "zip_list = list(zipped)\n",
    "zip_dic = dict(zip(keys,y))\n",
    "print(zip_list)\n",
    "print(zip_dic)"
   ]
  },
  {
   "cell_type": "code",
   "execution_count": 46,
   "metadata": {},
   "outputs": [
    {
     "name": "stdout",
     "output_type": "stream",
     "text": [
      "index: 0 , x: 1\n",
      "index: 1 , x: 2\n",
      "index: 2 , x: 3\n"
     ]
    }
   ],
   "source": [
    "for i,x in enumerate(x):\n",
    "    print('index:', i, ', x:', x)"
   ]
  },
  {
   "cell_type": "code",
   "execution_count": 36,
   "metadata": {},
   "outputs": [
    {
     "name": "stdout",
     "output_type": "stream",
     "text": [
      "0 : one\n",
      "1 : two\n",
      "2 : three\n"
     ]
    }
   ],
   "source": [
    "for key, value in enumerate(zip_dic):\n",
    "    print(key,':',value)    "
   ]
  },
  {
   "cell_type": "code",
   "execution_count": 37,
   "metadata": {},
   "outputs": [
    {
     "name": "stdout",
     "output_type": "stream",
     "text": [
      "0 : one\n",
      "0 : 2\n",
      "1 : two\n",
      "1 : 5\n",
      "2 : three\n",
      "2 : 8\n"
     ]
    }
   ],
   "source": [
    "for i, (key,value) in enumerate(zip_dic.items()):\n",
    "    print(i,':',key)\n",
    "    print(i,':',value)"
   ]
  },
  {
   "cell_type": "markdown",
   "metadata": {},
   "source": [
    "Make a function that returns a list with the product of variables and their indexes from the list below (look at the i,x enumerate example!)"
   ]
  },
  {
   "cell_type": "code",
   "execution_count": 42,
   "metadata": {},
   "outputs": [],
   "source": [
    "original = [1,6,4,2,6]\n",
    "#should return [0*1,1*6,2*4,3*2,4*6] = [0,6,8,6,24]"
   ]
  }
 ],
 "metadata": {
  "kernelspec": {
   "display_name": "Python 3",
   "language": "python",
   "name": "python3"
  },
  "language_info": {
   "codemirror_mode": {
    "name": "ipython",
    "version": 3
   },
   "file_extension": ".py",
   "mimetype": "text/x-python",
   "name": "python",
   "nbconvert_exporter": "python",
   "pygments_lexer": "ipython3",
   "version": "3.7.3"
  }
 },
 "nbformat": 4,
 "nbformat_minor": 2
}
