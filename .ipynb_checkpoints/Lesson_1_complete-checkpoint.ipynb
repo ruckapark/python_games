{
 "cells": [
  {
   "cell_type": "markdown",
   "metadata": {},
   "source": [
    "# Intro to Python\n",
    "\n",
    "Welcome to TechCamp's Python Gaming course!\n",
    "If you're keen to see what the final products might look like, have a look [here](https://www.pygame.org/).\n",
    "\n",
    "For now let's assume you're relatively new to python and you are ready for bootcamp!\n",
    "Here are the links for the downloads you need (and hopefully have already!):\n",
    "* [python](https://www.python.org/downloads/release/python-382/)\n",
    "* [anaconda](https://docs.anaconda.com/anaconda/install/)"
   ]
  },
  {
   "cell_type": "markdown",
   "metadata": {},
   "source": [
    "## Why Python?\n",
    "\n",
    "Python can be used for pretty much anything! [Trust me](https://www.youtube.com/watch?v=hxGB7LU4i1I)"
   ]
  },
  {
   "cell_type": "markdown",
   "metadata": {},
   "source": [
    "### Printing\n",
    "---\n",
    "Python has a few inbuilt functions! Try typing *dir(__builtin__)* to see them!\n",
    "\n",
    "**_print()_** just works - we can print pretty much anything in python! Just add a `\" \"` .\n",
    "\n",
    "---"
   ]
  },
  {
   "cell_type": "code",
   "execution_count": 4,
   "metadata": {},
   "outputs": [
    {
     "name": "stdout",
     "output_type": "stream",
     "text": [
      "Hello World!\n"
     ]
    }
   ],
   "source": [
    "print(\"Hello World!\")"
   ]
  },
  {
   "cell_type": "code",
   "execution_count": 5,
   "metadata": {},
   "outputs": [
    {
     "name": "stdout",
     "output_type": "stream",
     "text": [
      "Hello World!\n"
     ]
    }
   ],
   "source": [
    "print('Hello World!')"
   ]
  },
  {
   "cell_type": "markdown",
   "metadata": {},
   "source": [
    "---\n",
    "\n",
    "So what **is** the difference? \n",
    "\n",
    "Well, how about if you want to try something with an apostrophe in it? \n",
    "Probably our first error.\n",
    "\n",
    "---"
   ]
  },
  {
   "cell_type": "code",
   "execution_count": 6,
   "metadata": {},
   "outputs": [
    {
     "ename": "SyntaxError",
     "evalue": "invalid syntax (<ipython-input-6-99dc103707da>, line 1)",
     "output_type": "error",
     "traceback": [
      "\u001b[1;36m  File \u001b[1;32m\"<ipython-input-6-99dc103707da>\"\u001b[1;36m, line \u001b[1;32m1\u001b[0m\n\u001b[1;33m    print('What's your name?') #quite clever it tries not to let you make that mistake!\u001b[0m\n\u001b[1;37m                ^\u001b[0m\n\u001b[1;31mSyntaxError\u001b[0m\u001b[1;31m:\u001b[0m invalid syntax\n"
     ]
    }
   ],
   "source": [
    "print('What's your name?') #quite clever it tries not to let you make that mistake!"
   ]
  },
  {
   "cell_type": "code",
   "execution_count": 7,
   "metadata": {},
   "outputs": [
    {
     "name": "stdout",
     "output_type": "stream",
     "text": [
      "What's your name?\n"
     ]
    }
   ],
   "source": [
    "print(\"What's your name?\")"
   ]
  },
  {
   "cell_type": "code",
   "execution_count": 8,
   "metadata": {},
   "outputs": [
    {
     "name": "stdout",
     "output_type": "stream",
     "text": [
      "My name is George\n"
     ]
    }
   ],
   "source": [
    "name = 'George'\n",
    "print('My name is',name)"
   ]
  },
  {
   "cell_type": "code",
   "execution_count": 9,
   "metadata": {},
   "outputs": [
    {
     "name": "stdout",
     "output_type": "stream",
     "text": [
      "What is your name?George\n",
      "George\n"
     ]
    }
   ],
   "source": [
    "name = input('What is your name?')\n",
    "print(name)"
   ]
  },
  {
   "cell_type": "code",
   "execution_count": 10,
   "metadata": {},
   "outputs": [
    {
     "name": "stdout",
     "output_type": "stream",
     "text": [
      "What is your name?Georgie\n",
      "Your name is Georgie\n"
     ]
    }
   ],
   "source": [
    "print('Your name is',input('What is your name?'))"
   ]
  },
  {
   "cell_type": "markdown",
   "metadata": {},
   "source": [
    "Try using the length function to tell us how long a string is:  \n",
    "\n",
    "`name = George`  \n",
    "`len(name) = 6`"
   ]
  },
  {
   "cell_type": "code",
   "execution_count": 11,
   "metadata": {},
   "outputs": [
    {
     "name": "stdout",
     "output_type": "stream",
     "text": [
      "17\n"
     ]
    }
   ],
   "source": [
    "#look how long this string is.\n",
    "string_test = 'adfjslgdgafuewief'\n",
    "print(len(string_test))"
   ]
  },
  {
   "cell_type": "markdown",
   "metadata": {},
   "source": [
    "---\n",
    "## Exercises 1.1\n",
    "\n",
    "Remember to use the examples above\n",
    "\n",
    "---"
   ]
  },
  {
   "cell_type": "markdown",
   "metadata": {},
   "source": [
    "print the message 'Today is monday'"
   ]
  },
  {
   "cell_type": "code",
   "execution_count": null,
   "metadata": {},
   "outputs": [],
   "source": []
  },
  {
   "cell_type": "markdown",
   "metadata": {},
   "source": [
    "Save the day of the week under the name `day`\n",
    "\n",
    "print 'Today is monday' using the variable `day`\n"
   ]
  },
  {
   "cell_type": "code",
   "execution_count": null,
   "metadata": {},
   "outputs": [],
   "source": []
  },
  {
   "cell_type": "markdown",
   "metadata": {},
   "source": [
    "Change `day` to another day of the week and print a new message\n",
    "\n",
    "eg. \n",
    "``` python\n",
    "day = 'Tuesday'\n",
    "```"
   ]
  },
  {
   "cell_type": "code",
   "execution_count": null,
   "metadata": {},
   "outputs": [],
   "source": []
  },
  {
   "cell_type": "markdown",
   "metadata": {},
   "source": [
    "Try creating a new variable like `weather = 'rainy'` and write a full sentence about the weather. For example:\n",
    "\n",
    "``` python \n",
    "print(day,', the weather is', weather)\n",
    "```"
   ]
  },
  {
   "cell_type": "code",
   "execution_count": null,
   "metadata": {},
   "outputs": [],
   "source": []
  },
  {
   "cell_type": "markdown",
   "metadata": {},
   "source": [
    "**Extension**: write a paragraph about your family, putting the family names in variables and printing like that:\n",
    "        \n",
    "``` python\n",
    "mum = Jane\n",
    "print('My mum is called ',mum,', and she has brown hair')\n",
    "```"
   ]
  },
  {
   "cell_type": "code",
   "execution_count": null,
   "metadata": {},
   "outputs": [],
   "source": [
    "#At least three sentences"
   ]
  },
  {
   "cell_type": "markdown",
   "metadata": {},
   "source": [
    "---\n",
    "### Data Types\n",
    "\n",
    "So far we have printed **strings**.   \n",
    "What if we want to print something else? A number? That will work too. \n",
    "\n",
    "There are two types of numbers: **integers** (int) and **floats** (float) which are for decimals. Don't worry about these too much, but remember that a float is for decimal numbers\n",
    "\n",
    "---"
   ]
  },
  {
   "cell_type": "code",
   "execution_count": 12,
   "metadata": {},
   "outputs": [
    {
     "name": "stdout",
     "output_type": "stream",
     "text": [
      "20\n",
      "20\n"
     ]
    }
   ],
   "source": [
    "print('20')\n",
    "print(20)"
   ]
  },
  {
   "cell_type": "code",
   "execution_count": 13,
   "metadata": {},
   "outputs": [],
   "source": [
    "x_str = '20' #string\n",
    "x_int = 20      #interger\n",
    "x_float = 20.0  #float"
   ]
  },
  {
   "cell_type": "code",
   "execution_count": 14,
   "metadata": {},
   "outputs": [],
   "source": [
    "y_str = '10'\n",
    "y_int = 10\n",
    "y_float = 10.0"
   ]
  },
  {
   "cell_type": "code",
   "execution_count": 15,
   "metadata": {},
   "outputs": [
    {
     "name": "stdout",
     "output_type": "stream",
     "text": [
      "30\n",
      "1020\n"
     ]
    }
   ],
   "source": [
    "print(10+x_int)\n",
    "print('10' + x_str)"
   ]
  },
  {
   "cell_type": "markdown",
   "metadata": {},
   "source": [
    "---\n",
    "## Exercises 1.2\n",
    "---"
   ]
  },
  {
   "cell_type": "markdown",
   "metadata": {},
   "source": [
    "Make two words (strings) inside the variables word1 and word2:\n",
    "\n",
    "``` python\n",
    "word1 = 'something'\n",
    "```  \n",
    "etc."
   ]
  },
  {
   "cell_type": "code",
   "execution_count": null,
   "metadata": {},
   "outputs": [],
   "source": [
    "#word1 and word2"
   ]
  },
  {
   "cell_type": "markdown",
   "metadata": {},
   "source": [
    "Print what happens when you add them together."
   ]
  },
  {
   "cell_type": "code",
   "execution_count": null,
   "metadata": {},
   "outputs": [],
   "source": []
  },
  {
   "cell_type": "markdown",
   "metadata": {},
   "source": [
    "Make two numbers (ints or floats) inside the variables num1 and num2:\n",
    "\n",
    "``` python\n",
    "num1 = 6041\n",
    "```  \n",
    "etc."
   ]
  },
  {
   "cell_type": "code",
   "execution_count": null,
   "metadata": {},
   "outputs": [],
   "source": []
  },
  {
   "cell_type": "markdown",
   "metadata": {},
   "source": [
    "In the next three cells, try adding the numbers, then subtracting and then multiplying"
   ]
  },
  {
   "cell_type": "code",
   "execution_count": null,
   "metadata": {},
   "outputs": [],
   "source": [
    "#num1 + num2"
   ]
  },
  {
   "cell_type": "code",
   "execution_count": null,
   "metadata": {},
   "outputs": [],
   "source": [
    "#subtract"
   ]
  },
  {
   "cell_type": "code",
   "execution_count": 13,
   "metadata": {},
   "outputs": [],
   "source": [
    "#multiply"
   ]
  },
  {
   "cell_type": "markdown",
   "metadata": {},
   "source": [
    "Test what happens when you put the numbers in quotes (make it a string) and test the adding and subtracting\n",
    "\n",
    "``` python\n",
    "num1 = '6041'\n",
    "num2 = '28329'\n",
    "```"
   ]
  },
  {
   "cell_type": "code",
   "execution_count": null,
   "metadata": {},
   "outputs": [],
   "source": [
    "#make variables\n",
    "\n",
    "#addition"
   ]
  },
  {
   "cell_type": "code",
   "execution_count": null,
   "metadata": {},
   "outputs": [],
   "source": [
    "#subtraction?"
   ]
  },
  {
   "cell_type": "markdown",
   "metadata": {},
   "source": [
    "Extension: If you've already finished this - try playing around with integers and floats. You can do any maths with integers and floats.\n",
    "\n",
    "We can even make variables in the same line.\n",
    "\n",
    "Here is an example:\n",
    "\n",
    "``` python\n",
    "int1, int2 = 10,11\n",
    "float1,float2 = 10.5,11.9\n",
    "\n",
    "int1 + float2 = 21.9\n",
    "```\n",
    "\n",
    "We can even check what the result is\n",
    "``` python\n",
    "type(int1 + float2) = float\n",
    "```\n",
    "\n",
    "Play around with different types of maths sums in the kernels below!"
   ]
  },
  {
   "cell_type": "code",
   "execution_count": null,
   "metadata": {},
   "outputs": [],
   "source": []
  },
  {
   "cell_type": "code",
   "execution_count": null,
   "metadata": {},
   "outputs": [],
   "source": []
  },
  {
   "cell_type": "code",
   "execution_count": null,
   "metadata": {},
   "outputs": [],
   "source": []
  },
  {
   "cell_type": "code",
   "execution_count": null,
   "metadata": {},
   "outputs": [],
   "source": []
  },
  {
   "cell_type": "code",
   "execution_count": null,
   "metadata": {},
   "outputs": [],
   "source": []
  },
  {
   "cell_type": "code",
   "execution_count": null,
   "metadata": {},
   "outputs": [],
   "source": []
  },
  {
   "cell_type": "markdown",
   "metadata": {},
   "source": [
    "---\n",
    "## Arithmetic\n",
    "\n",
    "Like you'd expect arithmetic works just fine with numbers, we can even add strings together! We can also store their answers in variables - like this:\n",
    "\n",
    "---"
   ]
  },
  {
   "cell_type": "code",
   "execution_count": 18,
   "metadata": {},
   "outputs": [
    {
     "name": "stdout",
     "output_type": "stream",
     "text": [
      "Integer sum =  30\n",
      "String sum =  2010\n",
      "Mixed sum =  3.0\n"
     ]
    }
   ],
   "source": [
    "sum_int = x_int + y_int\n",
    "sum_str = x_str + y_str\n",
    "sum_mix = 3*(x_int - y_float)/y_float\n",
    "print('Integer sum = ',sum_int)\n",
    "print('String sum = ',sum_str)\n",
    "print('Mixed sum = ',sum_mix)"
   ]
  },
  {
   "cell_type": "markdown",
   "metadata": {},
   "source": [
    "---\n",
    "\n",
    "There are some more complex types of operations for number variables. Think BIDMAS? Lets do them all:\n",
    "* indices and square roots\n",
    "* modulus (remainder) and integer division\n",
    "\n",
    "---"
   ]
  },
  {
   "cell_type": "code",
   "execution_count": 19,
   "metadata": {},
   "outputs": [
    {
     "name": "stdout",
     "output_type": "stream",
     "text": [
      "15/10\n",
      "division:  1.5   modulus:  5.0   modulus:  1\n"
     ]
    }
   ],
   "source": [
    "test_var1 = 15/10   #divide\n",
    "test_var2 = 15%10.0 #mod (remainder)\n",
    "test_var3 = 15//10  #int divide (removes decimal)\n",
    "print('15/10')\n",
    "print('division: ',test_var1,'  modulus: ', test_var2,'  modulus: ',test_var3)"
   ]
  },
  {
   "cell_type": "code",
   "execution_count": 20,
   "metadata": {},
   "outputs": [
    {
     "name": "stdout",
     "output_type": "stream",
     "text": [
      "100\n"
     ]
    }
   ],
   "source": [
    "test_root = 10\n",
    "print(test_root**2)"
   ]
  },
  {
   "cell_type": "markdown",
   "metadata": {},
   "source": [
    "---\n",
    "## Exercises 1.3\n",
    "\n",
    "Look at all the bits above if you get stuck!\n",
    "\n",
    "---"
   ]
  },
  {
   "cell_type": "markdown",
   "metadata": {},
   "source": [
    "Make four new number variables:\n",
    "\n",
    "E.g.\n",
    "``` python \n",
    "num1,num2,num3,num4 = 3,5,19,32\n",
    "```\n",
    "\n",
    "Then make try some of the following sums in the following boxes\n",
    "\n",
    "1. the sum of 3 and 5 (gives 8)\n",
    "2. the subtraction of 19 from 5 (gives -14)\n",
    "3. 32 multiplied by 3 (gives 96)\n",
    "4. The remainder of 19 divided by 5 (use modulus)\n",
    "5. The division of 32 by 5\n",
    "6. The integer division of 32 by 5 (use // not /)"
   ]
  },
  {
   "cell_type": "code",
   "execution_count": 21,
   "metadata": {},
   "outputs": [],
   "source": [
    "#1"
   ]
  },
  {
   "cell_type": "code",
   "execution_count": 22,
   "metadata": {},
   "outputs": [],
   "source": [
    "#2"
   ]
  },
  {
   "cell_type": "code",
   "execution_count": 23,
   "metadata": {},
   "outputs": [],
   "source": [
    "#3"
   ]
  },
  {
   "cell_type": "code",
   "execution_count": 24,
   "metadata": {},
   "outputs": [],
   "source": [
    "#4"
   ]
  },
  {
   "cell_type": "code",
   "execution_count": 25,
   "metadata": {},
   "outputs": [],
   "source": [
    "#5"
   ]
  },
  {
   "cell_type": "code",
   "execution_count": 26,
   "metadata": {},
   "outputs": [],
   "source": [
    "#6"
   ]
  },
  {
   "cell_type": "markdown",
   "metadata": {},
   "source": [
    "Extesion: Try to work out how to use num2 and num1 to do 5 cubed or 5^3 (remember the **)"
   ]
  },
  {
   "cell_type": "code",
   "execution_count": null,
   "metadata": {},
   "outputs": [],
   "source": []
  },
  {
   "cell_type": "markdown",
   "metadata": {},
   "source": [
    "Extension: Make some complex sums out of all the variables and some new vairables"
   ]
  },
  {
   "cell_type": "code",
   "execution_count": null,
   "metadata": {},
   "outputs": [],
   "source": []
  },
  {
   "cell_type": "markdown",
   "metadata": {},
   "source": [
    "Extension: Change all the variable names to be higher than they were before and redo some sums\n",
    "\n",
    "E.g.\n",
    "``` python\n",
    "print(num1) \n",
    "- 3\n",
    "\n",
    "num1 = num1 + 10\n",
    "print(num1) \n",
    "- 13\n",
    "```"
   ]
  },
  {
   "cell_type": "code",
   "execution_count": 27,
   "metadata": {},
   "outputs": [],
   "source": [
    "#new answers"
   ]
  },
  {
   "cell_type": "markdown",
   "metadata": {},
   "source": [
    "---\n",
    "\n",
    "## Lists\n",
    "\n",
    "Lists are similar to an array in maths. They can contain any type of variable or a mix of typtes. They can contain as many variables as you want.  \n",
    "We can even iterate over a list and perform a multiplication on each variable individually.\n",
    "\n",
    "---"
   ]
  },
  {
   "cell_type": "code",
   "execution_count": 21,
   "metadata": {},
   "outputs": [],
   "source": [
    "my_list = [1,2,3,4]"
   ]
  },
  {
   "cell_type": "code",
   "execution_count": 22,
   "metadata": {},
   "outputs": [
    {
     "name": "stdout",
     "output_type": "stream",
     "text": [
      "[1, 2, 3, 4]\n",
      "First entry is:  2\n"
     ]
    }
   ],
   "source": [
    "print(my_list)\n",
    "print('First entry is: ',my_list[1])"
   ]
  },
  {
   "cell_type": "markdown",
   "metadata": {},
   "source": [
    "### Indexing\n",
    "\n",
    "In python we index from the 0th item in any data structure (array, list, dictionary). Here is what our current list looks like to python:\n",
    "\n",
    "**Index** | 0 | 1 | 2 | 3 | ... | n-1\n",
    "---|---|---|---|---|---|---\n",
    "**Value** | 1 | 2 | 3 | 4 | ... | n\n",
    "**DataType** | *int* | *int* | *int* | *int* | ... | *int*\n",
    "\n",
    "Try calling the 0th index in the list:"
   ]
  },
  {
   "cell_type": "code",
   "execution_count": 23,
   "metadata": {},
   "outputs": [
    {
     "name": "stdout",
     "output_type": "stream",
     "text": [
      "The actual first entry is:  1\n"
     ]
    }
   ],
   "source": [
    "print('The actual first entry is: ',my_list[0])"
   ]
  },
  {
   "cell_type": "code",
   "execution_count": 24,
   "metadata": {},
   "outputs": [
    {
     "name": "stdout",
     "output_type": "stream",
     "text": [
      "The last name is:  Jane\n"
     ]
    }
   ],
   "source": [
    "register = ['Hatty','George','Adam','Jane']\n",
    "print('The last name is: ',register[3])"
   ]
  },
  {
   "cell_type": "code",
   "execution_count": 25,
   "metadata": {},
   "outputs": [
    {
     "name": "stdout",
     "output_type": "stream",
     "text": [
      "Jane\n",
      "Adam\n"
     ]
    }
   ],
   "source": [
    "print(register[-1])\n",
    "print(register[-2])"
   ]
  },
  {
   "cell_type": "markdown",
   "metadata": {},
   "source": [
    "---\n",
    "## Exercises 2.1\n",
    "\n",
    "---"
   ]
  },
  {
   "cell_type": "markdown",
   "metadata": {},
   "source": [
    "Make a list with your family in it,\n",
    "Then make one with their ages.\n",
    "\n",
    "``` python\n",
    "family = ['George','Hatty','Jane','Adam']\n",
    "ages = [24,21,67,61]\n",
    "```\n",
    "\n",
    "In the next kernel print each person and their age using the index from the list. For example:  \n",
    "``` python\n",
    "print(family[0],':',age[0])\n",
    "print(family[1],':',age[1])\n",
    "... etc.\n",
    "```"
   ]
  },
  {
   "cell_type": "code",
   "execution_count": null,
   "metadata": {},
   "outputs": [],
   "source": []
  },
  {
   "cell_type": "markdown",
   "metadata": {},
   "source": [
    "print the last member of your family using the negative index\n",
    "``` python\n",
    "print(family[-1])\n",
    "```"
   ]
  },
  {
   "cell_type": "code",
   "execution_count": null,
   "metadata": {},
   "outputs": [],
   "source": []
  },
  {
   "cell_type": "markdown",
   "metadata": {},
   "source": [
    "**Extension**: Copy out the following code and see if you can work out what is happening!:\n",
    "    \n",
    "``` python\n",
    "for name in family:\n",
    "    print(name)\n",
    "```"
   ]
  },
  {
   "cell_type": "code",
   "execution_count": null,
   "metadata": {},
   "outputs": [],
   "source": []
  },
  {
   "cell_type": "markdown",
   "metadata": {},
   "source": [
    "**Extension**: See if you can rewrite the code above but also include their name and age in a sentence. Like 'George is 24 years old', subbing in George and 24 automatically."
   ]
  },
  {
   "cell_type": "code",
   "execution_count": null,
   "metadata": {},
   "outputs": [],
   "source": []
  },
  {
   "cell_type": "markdown",
   "metadata": {},
   "source": [
    "---\n",
    "\n",
    "#### Adding to lists\n",
    "\n",
    "If we want to modify an already existing list we can add to or remove elements from lists. We can also extract subsets and merge two lists together!\n",
    "\n",
    "---"
   ]
  },
  {
   "cell_type": "code",
   "execution_count": 26,
   "metadata": {},
   "outputs": [
    {
     "name": "stdout",
     "output_type": "stream",
     "text": [
      "Percy\n"
     ]
    }
   ],
   "source": [
    "register.append('Percy')\n",
    "print(register[-1])"
   ]
  },
  {
   "cell_type": "code",
   "execution_count": 27,
   "metadata": {},
   "outputs": [
    {
     "name": "stdout",
     "output_type": "stream",
     "text": [
      "['Hatty', 'George', 'Adam', 'Jane', 'Percy']\n",
      "Percy\n"
     ]
    }
   ],
   "source": [
    "print(register)\n",
    "print(register[-1])"
   ]
  },
  {
   "cell_type": "code",
   "execution_count": 28,
   "metadata": {},
   "outputs": [
    {
     "name": "stdout",
     "output_type": "stream",
     "text": [
      "['Hatty', 'George', 'Adam', 'Jane', 'Percy', 'Katy', 'Megan']\n"
     ]
    }
   ],
   "source": [
    "new_names = ['Katy','Megan']\n",
    "register.extend(new_names)\n",
    "print(register)"
   ]
  },
  {
   "cell_type": "code",
   "execution_count": 29,
   "metadata": {},
   "outputs": [
    {
     "name": "stdout",
     "output_type": "stream",
     "text": [
      "['Hatty', 'George', 'Adam', 'Jane', 'Percy', 'Megan']\n"
     ]
    }
   ],
   "source": [
    "register.pop(5) #remove 6th element (remember we start at 0!)\n",
    "print(register) #once popped the index will change if we made an error!"
   ]
  },
  {
   "cell_type": "code",
   "execution_count": 30,
   "metadata": {},
   "outputs": [
    {
     "name": "stdout",
     "output_type": "stream",
     "text": [
      "['Hatty', 'George', 'Adam', 'Jane', 'Megan']\n"
     ]
    }
   ],
   "source": [
    "register.remove('Percy')\n",
    "print(register)"
   ]
  },
  {
   "cell_type": "markdown",
   "metadata": {},
   "source": [
    "## Exercises 2.2"
   ]
  },
  {
   "cell_type": "markdown",
   "metadata": {},
   "source": [
    "Make a list with all the multiples of 7 up to 49.\n",
    "\n",
    "If we did 6 it would be like this:\n",
    "``` python\n",
    "sixes = [6,12,18,24,30,36,42]\n",
    "```"
   ]
  },
  {
   "cell_type": "code",
   "execution_count": null,
   "metadata": {},
   "outputs": [],
   "source": []
  },
  {
   "cell_type": "markdown",
   "metadata": {},
   "source": [
    "Add the next multiple of 7 using the append() function\n",
    "\n",
    "For sixes:\n",
    "``` python\n",
    "sixes.append(48)\n",
    "print(sixes)\n",
    "\n",
    "- [6,12,18,24,30,36,42,48]\n",
    "```"
   ]
  },
  {
   "cell_type": "code",
   "execution_count": null,
   "metadata": {},
   "outputs": [],
   "source": []
  },
  {
   "cell_type": "markdown",
   "metadata": {},
   "source": [
    "Make a list called next_sevens, with three more multiples\n",
    "\n",
    "``` python\n",
    "new_sixes = [54,60,66]\n",
    "sixes.extend(new_sixes)\n",
    "print(sixes)\n",
    "```"
   ]
  },
  {
   "cell_type": "code",
   "execution_count": null,
   "metadata": {},
   "outputs": [],
   "source": []
  },
  {
   "cell_type": "markdown",
   "metadata": {},
   "source": [
    "Remove the 7th element of the list (use pop)"
   ]
  },
  {
   "cell_type": "code",
   "execution_count": null,
   "metadata": {},
   "outputs": [],
   "source": []
  },
  {
   "cell_type": "markdown",
   "metadata": {},
   "source": [
    "Remove the number 12"
   ]
  },
  {
   "cell_type": "code",
   "execution_count": null,
   "metadata": {},
   "outputs": [],
   "source": []
  },
  {
   "cell_type": "markdown",
   "metadata": {},
   "source": [
    "**Extension**: Do the same execise with prime numbers !\n",
    "\n",
    "The first are [2,3,5,7,11]\n",
    "\n",
    "Add on the next 5!"
   ]
  },
  {
   "cell_type": "code",
   "execution_count": null,
   "metadata": {},
   "outputs": [],
   "source": []
  },
  {
   "cell_type": "markdown",
   "metadata": {},
   "source": [
    "---\n",
    "### Iterating\n",
    "\n",
    "Let's have a look at iterating through a list to select each name individually.  \n",
    "Does it matter what we call the variable `name`?\n",
    "\n",
    "If we have lots of people in the register and want to count the unique names, we could turn the **list** into a **set**.\n",
    "\n",
    "---"
   ]
  },
  {
   "cell_type": "code",
   "execution_count": 31,
   "metadata": {},
   "outputs": [
    {
     "name": "stdout",
     "output_type": "stream",
     "text": [
      "['Hatty', 'George', 'Adam', 'Jane', 'Megan', 'Hatty', 'George', 'Adam']\n",
      "{'Megan', 'Adam', 'George', 'Jane', 'Hatty'}\n"
     ]
    }
   ],
   "source": [
    "new_names = ['Hatty','George','Adam']\n",
    "for name in new_names: register.append(name) \n",
    "print(register)\n",
    "print(set(register))"
   ]
  },
  {
   "cell_type": "markdown",
   "metadata": {},
   "source": [
    "---\n",
    "\n",
    "#### Multiple variable assignment\n",
    "Sometimes two variables might be quite closely linked so it reads well to assign both values in one line.  \n",
    "We can do a similar assignment when inserting values into a string.\n",
    "\n",
    "We can also select **multiple entries** from a list without selecting the whole list but indexing a slice!\n",
    "\n",
    "---"
   ]
  },
  {
   "cell_type": "code",
   "execution_count": 32,
   "metadata": {},
   "outputs": [
    {
     "name": "stdout",
     "output_type": "stream",
     "text": [
      "The register has  8  people, but only  5  unique names\n"
     ]
    }
   ],
   "source": [
    "register_len,set_len = len(register),len(set(register)) #note the syntax\n",
    "print('The register has ',register_len,' people, but only ',set_len,' unique names')"
   ]
  },
  {
   "cell_type": "code",
   "execution_count": 33,
   "metadata": {},
   "outputs": [
    {
     "name": "stdout",
     "output_type": "stream",
     "text": [
      "['Hatty', 'George', 'Adam', 'Jane', 'Megan', 'Hatty', 'George', 'Adam']\n",
      "['Adam']\n",
      "['Adam', 'Jane']\n",
      "['Megan', 'Hatty', 'George', 'Adam']\n",
      "['Hatty', 'George']\n"
     ]
    }
   ],
   "source": [
    "print(register[:])\n",
    "print(register[2:3]) #what is the difference between this and register[2]?\n",
    "print(register[2:4])\n",
    "print(register[-4:])\n",
    "print(register[:register_len//4])"
   ]
  },
  {
   "cell_type": "markdown",
   "metadata": {},
   "source": [
    "---\n",
    "## Exercises 2.3\n",
    "---"
   ]
  },
  {
   "cell_type": "markdown",
   "metadata": {},
   "source": [
    "Make your own list of names from your family and store the list in a variable."
   ]
  },
  {
   "cell_type": "code",
   "execution_count": null,
   "metadata": {},
   "outputs": [],
   "source": []
  },
  {
   "cell_type": "markdown",
   "metadata": {},
   "source": [
    "Make a second list with your friends names. E.g.\n",
    "\n",
    "``` python\n",
    "friends = ['Matt','Tom','Frank']\n",
    "```"
   ]
  },
  {
   "cell_type": "code",
   "execution_count": null,
   "metadata": {},
   "outputs": [],
   "source": []
  },
  {
   "cell_type": "markdown",
   "metadata": {},
   "source": [
    "Print the length of each of the two lists. For example to print the length of friends:\n",
    "\n",
    "``` python\n",
    "print(len(friends))\n",
    "```"
   ]
  },
  {
   "cell_type": "code",
   "execution_count": null,
   "metadata": {},
   "outputs": [],
   "source": []
  },
  {
   "cell_type": "markdown",
   "metadata": {},
   "source": [
    "Print the length of every name in the original list with your family.\n",
    "\n",
    "``` python\n",
    "for member in family:\n",
    "    print(len(member))\n",
    "```"
   ]
  },
  {
   "cell_type": "code",
   "execution_count": null,
   "metadata": {},
   "outputs": [],
   "source": []
  },
  {
   "cell_type": "markdown",
   "metadata": {},
   "source": [
    "Append the friends to the original list (make them part of the family list).\n",
    "\n",
    "``` python\n",
    "for friend in friends:\n",
    "    family.append(friend)\n",
    "    \n",
    "print(family)\n",
    "```"
   ]
  },
  {
   "cell_type": "code",
   "execution_count": null,
   "metadata": {},
   "outputs": [],
   "source": []
  },
  {
   "cell_type": "markdown",
   "metadata": {},
   "source": [
    "For every member of your family_friends print the first two letters of each name:\n",
    "\n",
    "Here is how I would do it if I wanted the first three letters:\n",
    "``` python\n",
    "for person in family:\n",
    "    print(person[:3])\n",
    "```"
   ]
  },
  {
   "cell_type": "code",
   "execution_count": null,
   "metadata": {},
   "outputs": [],
   "source": []
  },
  {
   "cell_type": "markdown",
   "metadata": {},
   "source": [
    "**Extensions**:\n",
    "\n",
    "1. See if you can use negative index to call the last two letters of each word (check my examples higher up!)\n",
    "2. Save the your name as `me` ('George') in my case and try to print it backwards (use me[::-1])\n",
    "3. Check what happens if you append family members to friends (the other way round).\n",
    "4. Try copying the code in the last non extension and replace `person` with `x`. What happens? Anything?\n",
    "5. Try printing a sentence with two different lines (look at the next example and use \\n and see what happens) e.g. `print('I am \\n a robot')`"
   ]
  },
  {
   "cell_type": "code",
   "execution_count": null,
   "metadata": {},
   "outputs": [],
   "source": [
    "#1"
   ]
  },
  {
   "cell_type": "code",
   "execution_count": null,
   "metadata": {},
   "outputs": [],
   "source": [
    "#2"
   ]
  },
  {
   "cell_type": "code",
   "execution_count": null,
   "metadata": {},
   "outputs": [],
   "source": [
    "#3"
   ]
  },
  {
   "cell_type": "code",
   "execution_count": null,
   "metadata": {},
   "outputs": [],
   "source": [
    "#4"
   ]
  },
  {
   "cell_type": "code",
   "execution_count": null,
   "metadata": {},
   "outputs": [],
   "source": [
    "#5"
   ]
  },
  {
   "cell_type": "markdown",
   "metadata": {},
   "source": [
    "---\n",
    "A few commands will confuse the *print()* function that we should be aware of. For example, `\\n` will begin a new line.  \n",
    "This can be very useful, except if we actually want to print *\\n* as part of the string. \n",
    "\n",
    "For path files for example we should use something called a *raw string* - denoted `\\r`.\n",
    "For example if we wanted to find pictures, my path file would be `r'C:\\\\Users\\\\George\\\\Pictures'` \n",
    "\n",
    "---"
   ]
  },
  {
   "cell_type": "code",
   "execution_count": 34,
   "metadata": {},
   "outputs": [
    {
     "name": "stdout",
     "output_type": "stream",
     "text": [
      "Today's top score goes to Hatty \n",
      "The lowest score was George,better luck next time...\n"
     ]
    }
   ],
   "source": [
    "print(\"Today's top score goes to {} \\nThe lowest score was {},better luck next time...\".format(register[0],register[1]))"
   ]
  },
  {
   "cell_type": "code",
   "execution_count": 36,
   "metadata": {},
   "outputs": [
    {
     "name": "stdout",
     "output_type": "stream",
     "text": [
      "Today's top score goes to George \\nThe lowest score was Adam,better luck next time...\n"
     ]
    }
   ],
   "source": [
    "print(r\"Today's top score goes to {} \\nThe lowest score was {},better luck next time...\".format(register[-2],register[-1]))\n",
    "#when might we need this?"
   ]
  },
  {
   "cell_type": "markdown",
   "metadata": {},
   "source": [
    "---\n",
    "### More complex arithmetic\n",
    "\n",
    "We can also make *lists* of numbers, but be careful this isn't the same as an array!  \n",
    "In maths when we add two arrays we get the elementwise sum:  \n",
    "`(1,2,3,4) + (2,3,4,5) = (3,5,7,9)`\n",
    "\n",
    "Let's see what happens if we add two lists of numbers, and if we can figure out a way to deal with elementwise arithmetic!\n",
    "\n",
    "---"
   ]
  },
  {
   "cell_type": "code",
   "execution_count": 38,
   "metadata": {},
   "outputs": [
    {
     "name": "stdout",
     "output_type": "stream",
     "text": [
      "[1, 2, 3, 4, 5, 6, 2, 4, 1, 3, 6, 5]\n"
     ]
    }
   ],
   "source": [
    "numbers1 = [1,2,3,4,5,6]\n",
    "numbers2 = [2,4,1,3,6,5]\n",
    "numbers_sum = numbers1 + numbers2\n",
    "print(numbers_sum) #list not array!"
   ]
  },
  {
   "cell_type": "code",
   "execution_count": 40,
   "metadata": {},
   "outputs": [
    {
     "name": "stdout",
     "output_type": "stream",
     "text": [
      "0\n",
      "1\n",
      "2\n",
      "3\n",
      "4\n",
      "5\n",
      "6\n",
      "7\n",
      "8\n",
      "9\n"
     ]
    }
   ],
   "source": [
    "for i in range(10):\n",
    "    print(i)"
   ]
  },
  {
   "cell_type": "code",
   "execution_count": 42,
   "metadata": {},
   "outputs": [
    {
     "name": "stdout",
     "output_type": "stream",
     "text": [
      "2\n",
      "4\n",
      "1\n",
      "3\n",
      "6\n"
     ]
    }
   ],
   "source": [
    "for i in range(5):\n",
    "    print(numbers2[i])"
   ]
  },
  {
   "cell_type": "code",
   "execution_count": 45,
   "metadata": {},
   "outputs": [
    {
     "name": "stdout",
     "output_type": "stream",
     "text": [
      "[3, 6, 4, 7, 11, 11]\n"
     ]
    }
   ],
   "source": [
    "#use a for loop to make a sum\n",
    "numbers_sums = []\n",
    "for index in range(len(numbers1)):\n",
    "    x = numbers1[index] + numbers2[index]\n",
    "    numbers_sums.append(x)\n",
    "    #how about making that just one line?\n",
    "print(numbers_sums)"
   ]
  },
  {
   "cell_type": "code",
   "execution_count": 107,
   "metadata": {},
   "outputs": [
    {
     "name": "stdout",
     "output_type": "stream",
     "text": [
      "[3, 6, 4, 7, 11, 11]\n"
     ]
    }
   ],
   "source": [
    "# a quicker way\n",
    "numbers_sums = [sum(x) for x in zip(numbers1,numbers2)]\n",
    "print(numbers_sums)"
   ]
  },
  {
   "cell_type": "markdown",
   "metadata": {},
   "source": [
    "---\n",
    "#### List Comprehensions\n",
    "\n",
    "Once we have gone through for loops, I'll introduce you to **List Comprehensions**.  \n",
    "For now just know that it looks a little bit like the for statement in the kernel above! It could be useful for some of the challenges!\n",
    "\n",
    "#### If statements\n",
    "\n",
    "**If** we want to double check if a condition is met before doing something to a variable, we use an `if:` statement. \n",
    "`==` is a check for equality. It won't assign anything to a variable.\n",
    "\n",
    "Lets say `x = 10` - Here we use `=` to assign 10 to the variable x.  \n",
    "Then try `x == 10` - Here we use `==` to check if x is equal to 10. Because it is the computer will see `True`.  \n",
    "If we try `x == 9` - The computer will see `False`.  \n",
    "Finally if we try `x = 9` - The x variable will be changed from 10 to 9.\n",
    "\n",
    "`True` and `False` are key in python. Whenever a condition is matched, the computer sees `True`. This is what tells the computer to carry out the command.\n",
    "\n",
    "---"
   ]
  },
  {
   "cell_type": "code",
   "execution_count": 108,
   "metadata": {},
   "outputs": [
    {
     "name": "stdout",
     "output_type": "stream",
     "text": [
      "hello\n"
     ]
    }
   ],
   "source": [
    "x = 10\n",
    "if x == 10: print('hello')"
   ]
  },
  {
   "cell_type": "code",
   "execution_count": 110,
   "metadata": {},
   "outputs": [
    {
     "name": "stdout",
     "output_type": "stream",
     "text": [
      "goodbye\n"
     ]
    }
   ],
   "source": [
    "if x != 10: \n",
    "    print('hello')\n",
    "else: print('goodbye')"
   ]
  },
  {
   "cell_type": "code",
   "execution_count": 114,
   "metadata": {},
   "outputs": [
    {
     "name": "stdout",
     "output_type": "stream",
     "text": [
      "This will always run\n"
     ]
    }
   ],
   "source": [
    "if True:\n",
    "    print('This will always run')\n",
    "elif False:\n",
    "    print('This will never run')"
   ]
  },
  {
   "cell_type": "code",
   "execution_count": 115,
   "metadata": {},
   "outputs": [
    {
     "name": "stdout",
     "output_type": "stream",
     "text": [
      "X is greater than 5 and divisible by 5!\n"
     ]
    }
   ],
   "source": [
    "if (x > 5) and (x%5 == 0):\n",
    "    print('X is greater than 5 and divisible by 5!')"
   ]
  },
  {
   "cell_type": "markdown",
   "metadata": {},
   "source": [
    "---\n",
    "## Multiple conditions and boolean!\n",
    "\n",
    "We can check multiple conditions for one if statement as shown. Below are the commands we might need for checking conditions!\n",
    "\n",
    "Imagine we have an event that has three outcomes that are mutually exclusive.  \n",
    "For example, in tetris the next shape might be a square, an *L* or a *T*. We know it must be one, but it can't be two, or all three.\n",
    "\n",
    "In python we can use and **if, else if, else** styled if statement. We can use as many elseif conditions as we like or none at all. Be careful to remember indents though. When python sees a `:`, if we put a tab in on the next line it will refer back to the command behind the `:`!  \n",
    "See the example below!\n",
    "\n",
    "`if shape == square:`  \n",
    "~~indent~~`print('The shape is a square!')`  \n",
    "`elif shape == T:`  \n",
    "~~indent~~`print('The shape is a T!')`  \n",
    "`else:`  \n",
    "~~indent~~`print('The shape must be an L!')`  \n",
    "    \n",
    "This example is much more efficient than writing out three seperate if statements, and helps visualise the independance of the outcomes!\n",
    "\n",
    "If statements:\n",
    "* Greater than - `>`\n",
    "* Greater than or equal to - `>=`\n",
    "* Equal to - `==`\n",
    "* Not equal to - `!=`\n",
    "\n",
    "Boolean\n",
    "* and - `and` or `&`\n",
    "* or - `or` or `|`\n",
    "* not - `not`\n",
    "* xor - `^`\n",
    "\n",
    "---"
   ]
  },
  {
   "cell_type": "code",
   "execution_count": 117,
   "metadata": {},
   "outputs": [],
   "source": [
    "#how can we check if 10 is divisible by 5 using / // and ==?\n",
    "#binary symbols?"
   ]
  },
  {
   "cell_type": "code",
   "execution_count": 118,
   "metadata": {},
   "outputs": [
    {
     "name": "stdout",
     "output_type": "stream",
     "text": [
      "x is greater than or equal to 10\n"
     ]
    }
   ],
   "source": [
    "if x >= 20:\n",
    "    print('x is greater than or equal to 20')\n",
    "elif x >= 15:\n",
    "    print('x is greater than or equal to 15')\n",
    "elif x >= 10:\n",
    "    print('x is greater than or equal to 10')\n",
    "else:\n",
    "    print('x less than 10')"
   ]
  },
  {
   "cell_type": "code",
   "execution_count": 51,
   "metadata": {},
   "outputs": [
    {
     "name": "stdout",
     "output_type": "stream",
     "text": [
      "X is between the two\n"
     ]
    }
   ],
   "source": [
    "if (x > 5) and not (x > 15):\n",
    "    print('X is between the two')\n",
    "    #what is the better way to write this?\n",
    "    #add or gates?"
   ]
  },
  {
   "cell_type": "markdown",
   "metadata": {},
   "source": [
    "---\n",
    "## Exercises 3\n",
    "---"
   ]
  },
  {
   "cell_type": "markdown",
   "metadata": {},
   "source": [
    "Check if x == 6.\n",
    "\n",
    "Remember = assigns the value, == checks equality and returns either True or False."
   ]
  },
  {
   "cell_type": "code",
   "execution_count": null,
   "metadata": {},
   "outputs": [],
   "source": []
  },
  {
   "cell_type": "markdown",
   "metadata": {},
   "source": [
    "Check if z is a positive number (more than zero)."
   ]
  },
  {
   "cell_type": "code",
   "execution_count": null,
   "metadata": {},
   "outputs": [],
   "source": []
  },
  {
   "cell_type": "markdown",
   "metadata": {},
   "source": [
    "Asign the following variables: x = 6, y = 11, z = -4"
   ]
  },
  {
   "cell_type": "code",
   "execution_count": null,
   "metadata": {},
   "outputs": [],
   "source": [
    "#asign variables\n",
    "\n",
    "\n"
   ]
  },
  {
   "cell_type": "markdown",
   "metadata": {},
   "source": [
    "For x and y check if they are bigger than 10, if not print 'var is smaller than 10'\n",
    "\n",
    "e.g.\n",
    "``` python\n",
    "if x > 10:\n",
    "    print('x is greater than 10')\n",
    "else:\n",
    "    print('x is less than of equal to 10')\n",
    "```"
   ]
  },
  {
   "cell_type": "code",
   "execution_count": 50,
   "metadata": {},
   "outputs": [],
   "source": [
    "#check x\n",
    "\n",
    "#check y\n"
   ]
  },
  {
   "cell_type": "markdown",
   "metadata": {},
   "source": [
    "Now check if they are both less than 15 using `and`. Check above how I did it!"
   ]
  },
  {
   "cell_type": "code",
   "execution_count": null,
   "metadata": {},
   "outputs": [],
   "source": []
  },
  {
   "cell_type": "markdown",
   "metadata": {},
   "source": [
    "Check that x is greater than 0 but z is not greater. E.g.:\n",
    "\n",
    "``` python\n",
    "if x > 0 and not y > 0:\n",
    "    print('x is greater than zero and y is not greater')\n",
    "```"
   ]
  },
  {
   "cell_type": "code",
   "execution_count": null,
   "metadata": {},
   "outputs": [],
   "source": []
  },
  {
   "cell_type": "markdown",
   "metadata": {},
   "source": [
    "Repeat the same check without using `not`. Think about changing one of the signs to a less than!"
   ]
  },
  {
   "cell_type": "code",
   "execution_count": null,
   "metadata": {},
   "outputs": [],
   "source": []
  },
  {
   "cell_type": "markdown",
   "metadata": {},
   "source": [
    "check if z is divisible by 2. The remainder of z/2 should == 0. (Use the % sign)\n",
    "\n",
    "``` python\n",
    "63 % 10 == 0\n",
    "\n",
    "- False\n",
    "\n",
    "63 % 3 == 0\n",
    "\n",
    "- True\n",
    "```\n",
    "\n",
    "Remember to put it in if statements!"
   ]
  },
  {
   "cell_type": "code",
   "execution_count": null,
   "metadata": {},
   "outputs": [],
   "source": []
  },
  {
   "cell_type": "markdown",
   "metadata": {},
   "source": [
    "Use an if, elif, else statement to check if y is divisible by 3,7,11.\n",
    "\n",
    "``` python\n",
    "if 5%2 == 0:\n",
    "    print('5 is divisible by 2')\n",
    "elif 5%4 == 0:\n",
    "    print('5 is divisible by 4')\n",
    "elif 5%5 == 0:\n",
    "    print('5 is divisible by 5')\n",
    "else:\n",
    "    print('5 is not divisible by any of the numbers!')\n",
    "\n",
    "```"
   ]
  },
  {
   "cell_type": "code",
   "execution_count": null,
   "metadata": {},
   "outputs": [],
   "source": []
  },
  {
   "cell_type": "code",
   "execution_count": null,
   "metadata": {},
   "outputs": [],
   "source": []
  },
  {
   "cell_type": "markdown",
   "metadata": {},
   "source": [
    "**Extensions**:  \n",
    "1. Make the computer ask your name, if your name has over 6 letters, print 'Thats a long name' otherwise print 'Nice short name!'\n",
    "2. print the some test with lots of capital letters and put .lower() afterwards (what does this do?). e.g. `print('HellO ThEre'.lower())`. Try checking if the first name in the list names begins with an 'h'.\n",
    "3. Use the `for name in names:` loop to print only the names with the first letter 'h'.\n",
    "4. Use the same loop to print all the names which have an h in the name anywhere using `in`. Here is an example:\n",
    "``` python\n",
    "for name in names:\n",
    "    if 'g' in name.lower():\n",
    "        print(name)\n",
    "```"
   ]
  },
  {
   "cell_type": "code",
   "execution_count": null,
   "metadata": {},
   "outputs": [],
   "source": []
  },
  {
   "cell_type": "code",
   "execution_count": null,
   "metadata": {},
   "outputs": [],
   "source": []
  },
  {
   "cell_type": "code",
   "execution_count": null,
   "metadata": {},
   "outputs": [],
   "source": []
  },
  {
   "cell_type": "code",
   "execution_count": null,
   "metadata": {},
   "outputs": [],
   "source": []
  },
  {
   "cell_type": "markdown",
   "metadata": {},
   "source": [
    "---\n",
    "## Loops\n",
    "\n",
    "We have mentioned iterating. It is **very** important in programming that we get our heads around this.\n",
    "Let's just have a quick looks at what a `for` loop and and `while` loop look like. \n",
    "\n",
    "**For**     loops will execute the same operations a given number of times to a temporary variable.  \n",
    "**While**   loops will keep going forever as long as the command sees `True`!\n",
    "\n",
    "Remember those indents!\n",
    "\n",
    "---"
   ]
  },
  {
   "cell_type": "code",
   "execution_count": 121,
   "metadata": {},
   "outputs": [
    {
     "name": "stdout",
     "output_type": "stream",
     "text": [
      "11\n",
      "12\n",
      "13\n",
      "14\n"
     ]
    }
   ],
   "source": [
    "x = 10\n",
    "marker = True\n",
    "while marker == True:\n",
    "    x += 1\n",
    "    if x < 15:\n",
    "        print(x)\n",
    "    else:\n",
    "        marker = False"
   ]
  },
  {
   "cell_type": "code",
   "execution_count": 122,
   "metadata": {},
   "outputs": [
    {
     "name": "stdout",
     "output_type": "stream",
     "text": [
      "0\n",
      "2\n",
      "4\n",
      "6\n",
      "8\n"
     ]
    }
   ],
   "source": [
    "for x in range(10):\n",
    "    if x%2 == 0: print(x)"
   ]
  },
  {
   "cell_type": "code",
   "execution_count": 52,
   "metadata": {},
   "outputs": [
    {
     "name": "stdout",
     "output_type": "stream",
     "text": [
      "2\n",
      "4\n",
      "6\n",
      "8\n",
      "10\n"
     ]
    }
   ],
   "source": [
    "for x in range(1,11):\n",
    "    if x%2 == 0: print(x)"
   ]
  },
  {
   "cell_type": "markdown",
   "metadata": {},
   "source": [
    "---\n",
    "## Exercises 4\n",
    "---"
   ]
  },
  {
   "cell_type": "markdown",
   "metadata": {},
   "source": [
    "Print the numbers upto 10 (not 9!) with:\n",
    "1. A for loop\n",
    "2. A while loop"
   ]
  },
  {
   "cell_type": "code",
   "execution_count": null,
   "metadata": {},
   "outputs": [],
   "source": [
    "#for loop\n"
   ]
  },
  {
   "cell_type": "code",
   "execution_count": null,
   "metadata": {},
   "outputs": [],
   "source": [
    "#while loop\n"
   ]
  },
  {
   "cell_type": "markdown",
   "metadata": {},
   "source": [
    "In a for loop print only the numbers divisible by 3 upto 20. Here is how I would do the numbers divisible by 15 in a while loop:\n",
    "\n",
    "``` python\n",
    "i = 0\n",
    "while i < 501:\n",
    "    #check if divisible\n",
    "    if i%15 == 0:\n",
    "        print(i)\n",
    "    #increase counter by 1\n",
    "    i = i + 1\n",
    "```\n",
    "\n",
    "The for loop should be much shorter!"
   ]
  },
  {
   "cell_type": "code",
   "execution_count": null,
   "metadata": {},
   "outputs": [],
   "source": []
  },
  {
   "cell_type": "markdown",
   "metadata": {},
   "source": [
    "**Extension**: Can you use a while loop that prints only numbers that are even and divisible by 17 up to a certain number of our choice.\n",
    "\n",
    "Here is an example for odd numbers divisible by three, except here I use a while loop.\n",
    "\n",
    "``` python\n",
    "limit = int(input('How high do we go?'))\n",
    "\n",
    "for i in range(limit):\n",
    "    if i % 3 == 0 and i % 2 != 0:\n",
    "        print(i)\n",
    "```"
   ]
  },
  {
   "cell_type": "code",
   "execution_count": null,
   "metadata": {},
   "outputs": [],
   "source": []
  },
  {
   "cell_type": "markdown",
   "metadata": {},
   "source": [
    "**Extension**: Try running = True to control your while loop. When your condition is met, change the variable running to False. Make it as complex as you like, this is how game loops work:\n",
    "\n",
    "``` python\n",
    "running = True\n",
    "i = 0\n",
    "while running:\n",
    "    if i == 35:\n",
    "        running = False\n",
    "        \n",
    "print('35 was reached so we broke the loop!')\n",
    "```"
   ]
  },
  {
   "cell_type": "code",
   "execution_count": null,
   "metadata": {},
   "outputs": [],
   "source": []
  },
  {
   "cell_type": "markdown",
   "metadata": {},
   "source": [
    "# Syntax Part 1 complete!\n",
    "\n",
    "### Syntax Part 2\n",
    "Here is a little look at what we're going to be looking at in the next lesson for syntax. Feel free to have a look and get ahead.\n",
    "\n",
    "* [Loops and nested loops][1]\n",
    "* [Dictionaries][2]\n",
    "* [pass, break, try][3]\n",
    "* [Modules and Libraries][4]\n",
    "* Functions\n",
    "\n",
    "For the rest of the session we will have a little look into Modules using to functions written by other people. Writing functions that do simple things can be pretty complex. For example changing the directory to locate a file and opening it, or writing it into a list.\n",
    "\n",
    "In python is we `import` one of the thousands of existing modules, we can do these sorts of things by borrowing code written by other people.  \n",
    "This is normally the most efficient was of doing things, as lots of brains tend to better than one!\n",
    "For now let's import the operating server module known in python as `os`, and have a look at locating files.\n",
    "\n",
    "[1]:https://www.tutorialspoint.com/python/python_nested_loops.htm\n",
    "[2]:https://www.learnpython.org/en/Dictionaries\n",
    "[3]:https://www.tutorialspoint.com/python/python_loop_control.htm\n",
    "[4]:https://www.learnpython.org/en/Modules_and_Packages"
   ]
  },
  {
   "cell_type": "code",
   "execution_count": 125,
   "metadata": {},
   "outputs": [
    {
     "name": "stdout",
     "output_type": "stream",
     "text": [
      "C:\\Users\\George\\Documents\\TechCamp\\CourseDesign\\python_games\n"
     ]
    },
    {
     "data": {
      "text/plain": [
       "['.git',\n",
       " '.ipynb_checkpoints',\n",
       " 'Game_pictures',\n",
       " 'lesson1.py',\n",
       " 'Lesson_1.ipynb',\n",
       " 'README.md']"
      ]
     },
     "execution_count": 125,
     "metadata": {},
     "output_type": "execute_result"
    }
   ],
   "source": [
    "import os #say we will focus more on libraries next session\n",
    "base_directory = os.getcwd() #get current working directory\n",
    "print(base_directory)\n",
    "os.listdir()"
   ]
  },
  {
   "cell_type": "code",
   "execution_count": 127,
   "metadata": {},
   "outputs": [],
   "source": [
    "os.mkdir('Game_pictures')\n",
    "os.listdir()\n",
    "games_pic_dir = base_directory + '\\\\Game_pictures'"
   ]
  },
  {
   "cell_type": "code",
   "execution_count": 129,
   "metadata": {},
   "outputs": [
    {
     "data": {
      "text/plain": [
       "['.git',\n",
       " '.ipynb_checkpoints',\n",
       " 'Game_pictures',\n",
       " 'lesson1.py',\n",
       " 'Lesson_1.ipynb',\n",
       " 'README.md']"
      ]
     },
     "execution_count": 129,
     "metadata": {},
     "output_type": "execute_result"
    }
   ],
   "source": [
    "os.listdir()"
   ]
  }
 ],
 "metadata": {
  "kernelspec": {
   "display_name": "Python 3",
   "language": "python",
   "name": "python3"
  },
  "language_info": {
   "codemirror_mode": {
    "name": "ipython",
    "version": 3
   },
   "file_extension": ".py",
   "mimetype": "text/x-python",
   "name": "python",
   "nbconvert_exporter": "python",
   "pygments_lexer": "ipython3",
   "version": "3.7.3"
  }
 },
 "nbformat": 4,
 "nbformat_minor": 2
}
