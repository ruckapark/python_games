{
 "cells": [
  {
   "cell_type": "markdown",
   "metadata": {},
   "source": [
    "## General lesson plan\n",
    "\n",
    "* Go through the *Lesson_x_complete* files and be comfortable with all of this. \n",
    "* Unless lesson 1 where they are provided, get the students to create relevant files and begin going through the complete code with them according to the steps.\n",
    "* Use markdown file with these steps detailed clearly to the tutors\n",
    "\n",
    "The **tutor** should have the complete versions with them as a reference (perhaps printed).\n",
    "\n",
    "* The tutor should be writing the code with a shared screen without showing the full complete solution. At points unshare screen to allow students to have a go themselves.\n",
    "* At the end of each session the challenges will be detailed in a challenges_lessonx file. Have a look through the files beforehand to make sure you are comfortable completing all the challenges. Direct the students to this file. \n",
    "* Sometimes the skeleton code for a challenge may already exist for them to download\n",
    "\n",
    "**Students** should be expected to read the challenges file and then create python or jupyter notebook files accordingly.\n",
    "Any necessary code to copy in or simply tough bits of code will be detailed in the challenges_file."
   ]
  }
 ],
 "metadata": {
  "kernelspec": {
   "display_name": "Python 3",
   "language": "python",
   "name": "python3"
  },
  "language_info": {
   "codemirror_mode": {
    "name": "ipython",
    "version": 3
   },
   "file_extension": ".py",
   "mimetype": "text/x-python",
   "name": "python",
   "nbconvert_exporter": "python",
   "pygments_lexer": "ipython3",
   "version": "3.7.3"
  }
 },
 "nbformat": 4,
 "nbformat_minor": 2
}
