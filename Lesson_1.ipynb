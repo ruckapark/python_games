{
 "cells": [
  {
   "cell_type": "code",
   "execution_count": 2,
   "metadata": {},
   "outputs": [
    {
     "name": "stdout",
     "output_type": "stream",
     "text": [
      "Hello World!\n"
     ]
    }
   ],
   "source": [
    "print(\"Hello World!\")"
   ]
  },
  {
   "cell_type": "code",
   "execution_count": 3,
   "metadata": {},
   "outputs": [
    {
     "name": "stdout",
     "output_type": "stream",
     "text": [
      "Hello World!\n"
     ]
    }
   ],
   "source": [
    "print('Hello World!')"
   ]
  },
  {
   "cell_type": "code",
   "execution_count": 4,
   "metadata": {},
   "outputs": [
    {
     "ename": "SyntaxError",
     "evalue": "invalid syntax (<ipython-input-4-99dc103707da>, line 1)",
     "output_type": "error",
     "traceback": [
      "\u001b[1;36m  File \u001b[1;32m\"<ipython-input-4-99dc103707da>\"\u001b[1;36m, line \u001b[1;32m1\u001b[0m\n\u001b[1;33m    print('What's your name?') #quite clever it tries not to let you make that mistake!\u001b[0m\n\u001b[1;37m                ^\u001b[0m\n\u001b[1;31mSyntaxError\u001b[0m\u001b[1;31m:\u001b[0m invalid syntax\n"
     ]
    }
   ],
   "source": [
    "print('What's your name?') #quite clever it tries not to let you make that mistake!"
   ]
  },
  {
   "cell_type": "code",
   "execution_count": 5,
   "metadata": {},
   "outputs": [
    {
     "name": "stdout",
     "output_type": "stream",
     "text": [
      "What's your name?\n"
     ]
    }
   ],
   "source": [
    "print(\"What's your name?\")"
   ]
  },
  {
   "cell_type": "code",
   "execution_count": 6,
   "metadata": {},
   "outputs": [
    {
     "name": "stdout",
     "output_type": "stream",
     "text": [
      "What's your name?George\n",
      "Your name is: George\n"
     ]
    }
   ],
   "source": [
    "print(\"Your name is: {}\".format(input(\"What's your name?\")))"
   ]
  },
  {
   "cell_type": "code",
   "execution_count": 7,
   "metadata": {},
   "outputs": [
    {
     "name": "stdout",
     "output_type": "stream",
     "text": [
      "20\n",
      "20\n"
     ]
    }
   ],
   "source": [
    "print('20')\n",
    "print(20)"
   ]
  },
  {
   "cell_type": "code",
   "execution_count": 14,
   "metadata": {},
   "outputs": [],
   "source": [
    "x_string = '20'\n",
    "x_int = 20\n",
    "x_float = 20.0"
   ]
  },
  {
   "cell_type": "code",
   "execution_count": 9,
   "metadata": {},
   "outputs": [],
   "source": [
    "y_string = '10'\n",
    "y_int = 10\n",
    "y_float = 10.0"
   ]
  },
  {
   "cell_type": "code",
   "execution_count": 11,
   "metadata": {},
   "outputs": [
    {
     "data": {
      "text/plain": [
       "30"
      ]
     },
     "execution_count": 11,
     "metadata": {},
     "output_type": "execute_result"
    }
   ],
   "source": [
    "x_int"
   ]
  },
  {
   "cell_type": "code",
   "execution_count": 12,
   "metadata": {},
   "outputs": [
    {
     "name": "stdout",
     "output_type": "stream",
     "text": [
      "30\n"
     ]
    }
   ],
   "source": [
    "print(10+x_int)"
   ]
  },
  {
   "cell_type": "code",
   "execution_count": 17,
   "metadata": {},
   "outputs": [
    {
     "name": "stdout",
     "output_type": "stream",
     "text": [
      "Integer sum =  30\n",
      "String sum =  2010\n",
      "Mixed sum =  40.0\n"
     ]
    }
   ],
   "source": [
    "sum_int = x_int + y_int\n",
    "sum_string = x_string + y_string\n",
    "sum_mix = x_int + x_float\n",
    "print('Integer sum = ',sum_int)\n",
    "print('String sum = ',sum_string)\n",
    "print('Mixed sum = ',sum_mix)"
   ]
  },
  {
   "cell_type": "code",
   "execution_count": 18,
   "metadata": {},
   "outputs": [
    {
     "name": "stdout",
     "output_type": "stream",
     "text": [
      "40\n"
     ]
    }
   ],
   "source": [
    "print(int(sum_mix))"
   ]
  },
  {
   "cell_type": "code",
   "execution_count": 23,
   "metadata": {},
   "outputs": [
    {
     "name": "stdout",
     "output_type": "stream",
     "text": [
      "15/10\n",
      "Division gives 1.5, Modulus gives 5.0, Integer divide gives 1\n"
     ]
    }
   ],
   "source": [
    "test_var1 = 15/10\n",
    "test_var2 = 15%10.0\n",
    "test_var3 = 15//10\n",
    "print('15/10')\n",
    "print('Division gives {}, Modulus gives {}, Integer divide gives {}'.format(test_var1,test_var2,test_var3))"
   ]
  },
  {
   "cell_type": "code",
   "execution_count": 24,
   "metadata": {},
   "outputs": [
    {
     "name": "stdout",
     "output_type": "stream",
     "text": [
      "11\n",
      "11.0\n",
      "11\n",
      "56\n"
     ]
    }
   ],
   "source": [
    "print(int(5+6.0))\n",
    "print(float(5+6))\n",
    "print(str(5+6))\n",
    "print(str(5)+str(6))"
   ]
  },
  {
   "cell_type": "code",
   "execution_count": 25,
   "metadata": {},
   "outputs": [],
   "source": [
    "my_list = [1,2,3,4]"
   ]
  },
  {
   "cell_type": "code",
   "execution_count": 27,
   "metadata": {},
   "outputs": [
    {
     "name": "stdout",
     "output_type": "stream",
     "text": [
      "[1, 2, 3, 4]\n",
      "First entry is:  2\n"
     ]
    }
   ],
   "source": [
    "print(my_list)\n",
    "print('First entry is: ',my_list[1])"
   ]
  },
  {
   "cell_type": "code",
   "execution_count": 29,
   "metadata": {},
   "outputs": [
    {
     "name": "stdout",
     "output_type": "stream",
     "text": [
      "The actual first entry is:  1\n"
     ]
    }
   ],
   "source": [
    "print('The actual first entry is: ',my_list[0])"
   ]
  },
  {
   "cell_type": "code",
   "execution_count": 81,
   "metadata": {},
   "outputs": [
    {
     "name": "stdout",
     "output_type": "stream",
     "text": [
      "The last name is:  Jane\n"
     ]
    }
   ],
   "source": [
    "register = ['Hatty','George','Adam','Jane']\n",
    "print('The last name is: ',register[3])"
   ]
  },
  {
   "cell_type": "code",
   "execution_count": 82,
   "metadata": {},
   "outputs": [
    {
     "name": "stdout",
     "output_type": "stream",
     "text": [
      "Jane\n",
      "Adam\n"
     ]
    }
   ],
   "source": [
    "print(register[-1])\n",
    "print(register[-2])"
   ]
  },
  {
   "cell_type": "code",
   "execution_count": 83,
   "metadata": {},
   "outputs": [
    {
     "name": "stdout",
     "output_type": "stream",
     "text": [
      "Percy\n"
     ]
    }
   ],
   "source": [
    "register.append('Percy')\n",
    "print(register[-1])"
   ]
  },
  {
   "cell_type": "code",
   "execution_count": 84,
   "metadata": {},
   "outputs": [],
   "source": [
    "new_names = ['Issy', 'Charlotte', 'Ellie', 'Ian']\n",
    "register.append(new_names)"
   ]
  },
  {
   "cell_type": "code",
   "execution_count": 85,
   "metadata": {},
   "outputs": [
    {
     "name": "stdout",
     "output_type": "stream",
     "text": [
      "['Hatty', 'George', 'Adam', 'Jane', 'Percy', ['Issy', 'Charlotte', 'Ellie', 'Ian']]\n",
      "['Issy', 'Charlotte', 'Ellie', 'Ian']\n"
     ]
    }
   ],
   "source": [
    "print(register)\n",
    "print(register[-1])"
   ]
  },
  {
   "cell_type": "code",
   "execution_count": 86,
   "metadata": {},
   "outputs": [
    {
     "name": "stdout",
     "output_type": "stream",
     "text": [
      "['Hatty', 'George', 'Adam', 'Jane', 'Percy', ['Issy', 'Charlotte', 'Ellie', 'Ian'], 'Issy', 'Charlotte', 'Ellie', 'Ian']\n"
     ]
    }
   ],
   "source": [
    "register.extend(new_names)\n",
    "print(register)"
   ]
  },
  {
   "cell_type": "code",
   "execution_count": 87,
   "metadata": {},
   "outputs": [
    {
     "name": "stdout",
     "output_type": "stream",
     "text": [
      "['Hatty', 'George', 'Adam', 'Jane', 'Percy', 'Issy', 'Charlotte', 'Ellie', 'Ian']\n"
     ]
    }
   ],
   "source": [
    "register.pop(5)\n",
    "print(register) #once popped the index will change if we made an error!"
   ]
  },
  {
   "cell_type": "code",
   "execution_count": 88,
   "metadata": {},
   "outputs": [
    {
     "name": "stdout",
     "output_type": "stream",
     "text": [
      "['Hatty', 'George', 'Adam', 'Jane', 'Issy', 'Charlotte', 'Ellie', 'Ian']\n"
     ]
    }
   ],
   "source": [
    "register.remove('Percy')\n",
    "print(register)"
   ]
  },
  {
   "cell_type": "code",
   "execution_count": 91,
   "metadata": {},
   "outputs": [
    {
     "name": "stdout",
     "output_type": "stream",
     "text": [
      "['Hatty', 'George', 'Adam', 'Jane', 'Issy', 'Charlotte', 'Ellie', 'Ian', 'Issy', 'Charlotte', 'Ellie', 'Ian', 'Issy', 'Charlotte', 'Ellie', 'Ian', 'Issy', 'Charlotte', 'Ellie', 'Ian']\n",
      "{'Adam', 'Ellie', 'Jane', 'George', 'Charlotte', 'Hatty', 'Ian', 'Issy'}\n"
     ]
    }
   ],
   "source": [
    "for name in new_names: register.append(name)\n",
    "print(register)\n",
    "print(set(register))"
   ]
  },
  {
   "cell_type": "code",
   "execution_count": 94,
   "metadata": {},
   "outputs": [
    {
     "name": "stdout",
     "output_type": "stream",
     "text": [
      "The register has 20 people, but only 8 unique names\n"
     ]
    }
   ],
   "source": [
    "register_len,set_len = len(register),len(set(register)) #note the syntax\n",
    "print('The register has {} people, but only {} unique names'.format(register_len,set_len))"
   ]
  },
  {
   "cell_type": "code",
   "execution_count": 96,
   "metadata": {},
   "outputs": [
    {
     "name": "stdout",
     "output_type": "stream",
     "text": [
      "['Hatty', 'George', 'Adam', 'Jane', 'Issy', 'Charlotte', 'Ellie', 'Ian', 'Issy', 'Charlotte', 'Ellie', 'Ian', 'Issy', 'Charlotte', 'Ellie', 'Ian', 'Issy', 'Charlotte', 'Ellie', 'Ian']\n",
      "['Adam']\n",
      "['Adam', 'Jane']\n",
      "['Issy', 'Charlotte', 'Ellie', 'Ian']\n",
      "['Hatty', 'George', 'Adam', 'Jane', 'Issy']\n"
     ]
    }
   ],
   "source": [
    "print(register[:])\n",
    "print(register[2:3]) #what is the difference between this and register[2]?\n",
    "print(register[2:4])\n",
    "print(register[-4:])\n",
    "print(register[:register_len//4])"
   ]
  },
  {
   "cell_type": "code",
   "execution_count": 97,
   "metadata": {},
   "outputs": [],
   "source": [
    "#make exercise about a list of scores and names"
   ]
  },
  {
   "cell_type": "code",
   "execution_count": 99,
   "metadata": {},
   "outputs": [
    {
     "name": "stdout",
     "output_type": "stream",
     "text": [
      "Today's top score goes to Hatty \n",
      "The lowest score was George,better luck next time...\n"
     ]
    }
   ],
   "source": [
    "print(\"Today's top score goes to {} \\nThe lowest score was {},better luck next time...\".format(register[0],register[1]))"
   ]
  },
  {
   "cell_type": "code",
   "execution_count": 100,
   "metadata": {},
   "outputs": [
    {
     "name": "stdout",
     "output_type": "stream",
     "text": [
      "Today's top score goes to Ellie \\nThe lowest score was Ian,better luck next time...\n"
     ]
    }
   ],
   "source": [
    "print(r\"Today's top score goes to {} \\nThe lowest score was {},better luck next time...\".format(register[-2],register[-1]))\n",
    "#when might we need this?"
   ]
  },
  {
   "cell_type": "code",
   "execution_count": 102,
   "metadata": {},
   "outputs": [
    {
     "name": "stdout",
     "output_type": "stream",
     "text": [
      "[1, 2, 3, 4, 5, 6, 2, 4, 1, 3, 6, 5]\n"
     ]
    }
   ],
   "source": [
    "numbers1 = [1,2,3,4,5,6]\n",
    "numbers2 = [2,4,1,3,6,5]\n",
    "numbers_sum = numbers1 + numbers2\n",
    "print(numbers_sum) #list not array!"
   ]
  },
  {
   "cell_type": "code",
   "execution_count": 103,
   "metadata": {},
   "outputs": [
    {
     "name": "stdout",
     "output_type": "stream",
     "text": [
      "['ArithmeticError', 'AssertionError', 'AttributeError', 'BaseException', 'BlockingIOError', 'BrokenPipeError', 'BufferError', 'BytesWarning', 'ChildProcessError', 'ConnectionAbortedError', 'ConnectionError', 'ConnectionRefusedError', 'ConnectionResetError', 'DeprecationWarning', 'EOFError', 'Ellipsis', 'EnvironmentError', 'Exception', 'False', 'FileExistsError', 'FileNotFoundError', 'FloatingPointError', 'FutureWarning', 'GeneratorExit', 'IOError', 'ImportError', 'ImportWarning', 'IndentationError', 'IndexError', 'InterruptedError', 'IsADirectoryError', 'KeyError', 'KeyboardInterrupt', 'LookupError', 'MemoryError', 'ModuleNotFoundError', 'NameError', 'None', 'NotADirectoryError', 'NotImplemented', 'NotImplementedError', 'OSError', 'OverflowError', 'PendingDeprecationWarning', 'PermissionError', 'ProcessLookupError', 'RecursionError', 'ReferenceError', 'ResourceWarning', 'RuntimeError', 'RuntimeWarning', 'StopAsyncIteration', 'StopIteration', 'SyntaxError', 'SyntaxWarning', 'SystemError', 'SystemExit', 'TabError', 'TimeoutError', 'True', 'TypeError', 'UnboundLocalError', 'UnicodeDecodeError', 'UnicodeEncodeError', 'UnicodeError', 'UnicodeTranslateError', 'UnicodeWarning', 'UserWarning', 'ValueError', 'Warning', 'WindowsError', 'ZeroDivisionError', '__IPYTHON__', '__build_class__', '__debug__', '__doc__', '__import__', '__loader__', '__name__', '__package__', '__spec__', 'abs', 'all', 'any', 'ascii', 'bin', 'bool', 'breakpoint', 'bytearray', 'bytes', 'callable', 'chr', 'classmethod', 'compile', 'complex', 'copyright', 'credits', 'delattr', 'dict', 'dir', 'display', 'divmod', 'enumerate', 'eval', 'exec', 'filter', 'float', 'format', 'frozenset', 'get_ipython', 'getattr', 'globals', 'hasattr', 'hash', 'help', 'hex', 'id', 'input', 'int', 'isinstance', 'issubclass', 'iter', 'len', 'license', 'list', 'locals', 'map', 'max', 'memoryview', 'min', 'next', 'object', 'oct', 'open', 'ord', 'pow', 'print', 'property', 'range', 'repr', 'reversed', 'round', 'set', 'setattr', 'slice', 'sorted', 'staticmethod', 'str', 'sum', 'super', 'tuple', 'type', 'vars', 'zip']\n"
     ]
    }
   ],
   "source": [
    "print(dir(__builtin__)) #have a look at our python functions that are built"
   ]
  },
  {
   "cell_type": "code",
   "execution_count": 105,
   "metadata": {},
   "outputs": [
    {
     "name": "stdout",
     "output_type": "stream",
     "text": [
      "[3, 6, 4, 7, 11, 11]\n"
     ]
    }
   ],
   "source": [
    "numbers_sums = []\n",
    "for index in range(len(numbers1)):\n",
    "    x = numbers1[index] + numbers2[index]\n",
    "    numbers_sums.append(x)\n",
    "    #how about making that just one line?\n",
    "print(numbers_sums)"
   ]
  },
  {
   "cell_type": "code",
   "execution_count": 107,
   "metadata": {},
   "outputs": [
    {
     "name": "stdout",
     "output_type": "stream",
     "text": [
      "[3, 6, 4, 7, 11, 11]\n"
     ]
    }
   ],
   "source": [
    "numbers_sums = [sum(x) for x in zip(numbers1,numbers2)]\n",
    "print(numbers_sums)"
   ]
  },
  {
   "cell_type": "code",
   "execution_count": 108,
   "metadata": {},
   "outputs": [
    {
     "name": "stdout",
     "output_type": "stream",
     "text": [
      "hello\n"
     ]
    }
   ],
   "source": [
    "x = 10\n",
    "if x == 10: print('hello')"
   ]
  },
  {
   "cell_type": "code",
   "execution_count": 110,
   "metadata": {},
   "outputs": [
    {
     "name": "stdout",
     "output_type": "stream",
     "text": [
      "goodbye\n"
     ]
    }
   ],
   "source": [
    "if x != 10: \n",
    "    print('hello')\n",
    "else: print('goodbye')"
   ]
  },
  {
   "cell_type": "code",
   "execution_count": 114,
   "metadata": {},
   "outputs": [
    {
     "name": "stdout",
     "output_type": "stream",
     "text": [
      "This will always run\n"
     ]
    }
   ],
   "source": [
    "if True:\n",
    "    print('This will always run')\n",
    "elif False:\n",
    "    print('This will never run')"
   ]
  },
  {
   "cell_type": "code",
   "execution_count": 115,
   "metadata": {},
   "outputs": [
    {
     "name": "stdout",
     "output_type": "stream",
     "text": [
      "X is greater than 5 and divisible by 5!\n"
     ]
    }
   ],
   "source": [
    "if (x > 5) and (x%5 == 0):\n",
    "    print('X is greater than 5 and divisible by 5!')"
   ]
  },
  {
   "cell_type": "code",
   "execution_count": 117,
   "metadata": {},
   "outputs": [],
   "source": [
    "#how can we check if 10 is divisible by 5 using / // and ==?\n",
    "#binary symbols?"
   ]
  },
  {
   "cell_type": "code",
   "execution_count": 118,
   "metadata": {},
   "outputs": [
    {
     "name": "stdout",
     "output_type": "stream",
     "text": [
      "x is greater than or equal to 10\n"
     ]
    }
   ],
   "source": [
    "if x >= 20:\n",
    "    print('x is greater than or equal to 20')\n",
    "elif x >= 15:\n",
    "    print('x is greater than or equal to 15')\n",
    "elif x >= 10:\n",
    "    print('x is greater than or equal to 10')\n",
    "else:\n",
    "    print('x less than 10')"
   ]
  },
  {
   "cell_type": "code",
   "execution_count": 119,
   "metadata": {},
   "outputs": [
    {
     "name": "stdout",
     "output_type": "stream",
     "text": [
      "It is between the two\n"
     ]
    }
   ],
   "source": [
    "if (x > 5) and not (x > 15):\n",
    "    print('X is between the two')\n",
    "    #what is the better way to write this?\n",
    "    #add or gates?"
   ]
  },
  {
   "cell_type": "code",
   "execution_count": 121,
   "metadata": {},
   "outputs": [
    {
     "name": "stdout",
     "output_type": "stream",
     "text": [
      "11\n",
      "12\n",
      "13\n",
      "14\n"
     ]
    }
   ],
   "source": [
    "x = 10\n",
    "marker = True\n",
    "while marker == True:\n",
    "    x += 1\n",
    "    if x < 15:\n",
    "        print(x)\n",
    "    else:\n",
    "        marker = False"
   ]
  },
  {
   "cell_type": "code",
   "execution_count": 122,
   "metadata": {},
   "outputs": [
    {
     "name": "stdout",
     "output_type": "stream",
     "text": [
      "0\n",
      "2\n",
      "4\n",
      "6\n",
      "8\n"
     ]
    }
   ],
   "source": [
    "for x in range(10):\n",
    "    if x%2 == 0: print(x)"
   ]
  },
  {
   "cell_type": "code",
   "execution_count": 124,
   "metadata": {},
   "outputs": [
    {
     "name": "stdout",
     "output_type": "stream",
     "text": [
      "2\n",
      "4\n",
      "6\n",
      "8\n",
      "10\n"
     ]
    }
   ],
   "source": [
    "for x in range(1,11):\n",
    "    if x%2 == 0: print(x)"
   ]
  },
  {
   "cell_type": "code",
   "execution_count": 125,
   "metadata": {},
   "outputs": [
    {
     "name": "stdout",
     "output_type": "stream",
     "text": [
      "C:\\Users\\George\\Documents\\TechCamp\\CourseDesign\\python_games\n"
     ]
    },
    {
     "data": {
      "text/plain": [
       "['.git',\n",
       " '.ipynb_checkpoints',\n",
       " 'Game_pictures',\n",
       " 'lesson1.py',\n",
       " 'Lesson_1.ipynb',\n",
       " 'README.md']"
      ]
     },
     "execution_count": 125,
     "metadata": {},
     "output_type": "execute_result"
    }
   ],
   "source": [
    "import os #say we will focus more on libraries next session\n",
    "base_directory = os.getcwd() #get current working directory\n",
    "print(base_directory)\n",
    "os.listdir()"
   ]
  },
  {
   "cell_type": "code",
   "execution_count": 127,
   "metadata": {},
   "outputs": [],
   "source": [
    "os.mkdir('Game_pictures')\n",
    "os.listdir()\n",
    "games_pic_dir = base_directory + '\\\\Game_pictures'"
   ]
  },
  {
   "cell_type": "code",
   "execution_count": 129,
   "metadata": {},
   "outputs": [
    {
     "data": {
      "text/plain": [
       "['.git',\n",
       " '.ipynb_checkpoints',\n",
       " 'Game_pictures',\n",
       " 'lesson1.py',\n",
       " 'Lesson_1.ipynb',\n",
       " 'README.md']"
      ]
     },
     "execution_count": 129,
     "metadata": {},
     "output_type": "execute_result"
    }
   ],
   "source": [
    "os.listdir()"
   ]
  },
  {
   "cell_type": "code",
   "execution_count": 130,
   "metadata": {},
   "outputs": [
    {
     "data": {
      "text/plain": [
       "['city.jpg',\n",
       " 'countryside.jpg',\n",
       " 'Game_pictures',\n",
       " 'python.png',\n",
       " 'sea.jpg',\n",
       " 'thunder.jpg']"
      ]
     },
     "execution_count": 130,
     "metadata": {},
     "output_type": "execute_result"
    }
   ],
   "source": [
    "import PIL #do we really need to import this whole module?\n",
    "os.chdir(r'C:\\\\Users\\\\George\\\\Pictures\\\\Gaming')\n",
    "os.listdir()"
   ]
  },
  {
   "cell_type": "code",
   "execution_count": 131,
   "metadata": {},
   "outputs": [
    {
     "ename": "AttributeError",
     "evalue": "module 'PIL' has no attribute 'Image'",
     "output_type": "error",
     "traceback": [
      "\u001b[1;31m---------------------------------------------------------------------------\u001b[0m",
      "\u001b[1;31mAttributeError\u001b[0m                            Traceback (most recent call last)",
      "\u001b[1;32m<ipython-input-131-2898b62083d0>\u001b[0m in \u001b[0;36m<module>\u001b[1;34m\u001b[0m\n\u001b[1;32m----> 1\u001b[1;33m \u001b[0mthunder\u001b[0m \u001b[1;33m=\u001b[0m \u001b[0mPIL\u001b[0m\u001b[1;33m.\u001b[0m\u001b[0mImage\u001b[0m\u001b[1;33m.\u001b[0m\u001b[0mopen\u001b[0m\u001b[1;33m(\u001b[0m\u001b[1;34m'thunder.jpg'\u001b[0m\u001b[1;33m)\u001b[0m\u001b[1;33m\u001b[0m\u001b[1;33m\u001b[0m\u001b[0m\n\u001b[0m\u001b[0;32m      2\u001b[0m \u001b[0mthunder\u001b[0m\u001b[1;33m.\u001b[0m\u001b[0mshow\u001b[0m\u001b[1;33m(\u001b[0m\u001b[1;33m)\u001b[0m\u001b[1;33m\u001b[0m\u001b[1;33m\u001b[0m\u001b[0m\n",
      "\u001b[1;31mAttributeError\u001b[0m: module 'PIL' has no attribute 'Image'"
     ]
    }
   ],
   "source": [
    "thunder = PIL.Image.open('thunder.jpg')\n",
    "thunder.show()"
   ]
  },
  {
   "cell_type": "code",
   "execution_count": null,
   "metadata": {},
   "outputs": [],
   "source": []
  }
 ],
 "metadata": {
  "kernelspec": {
   "display_name": "Python 3",
   "language": "python",
   "name": "python3"
  },
  "language_info": {
   "codemirror_mode": {
    "name": "ipython",
    "version": 3
   },
   "file_extension": ".py",
   "mimetype": "text/x-python",
   "name": "python",
   "nbconvert_exporter": "python",
   "pygments_lexer": "ipython3",
   "version": "3.7.3"
  }
 },
 "nbformat": 4,
 "nbformat_minor": 2
}
