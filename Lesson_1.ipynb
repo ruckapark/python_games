{
 "cells": [
  {
   "cell_type": "markdown",
   "metadata": {},
   "source": [
    "# Intro to Python\n",
    "\n",
    "Welcome to TechCamp's Python Gaming course!\n",
    "If you're keen to see what the final products might look like, have a look [here](https://www.pygame.org/).\n",
    "\n",
    "For now let's assume you're relatively new to python and you are ready for bootcamp!\n",
    "Here are the links for the downloads you need (and hopefully have already!):\n",
    "* [python](https://www.python.org/downloads/release/python-382/)\n",
    "* [anaconda](https://docs.anaconda.com/anaconda/install/)"
   ]
  },
  {
   "cell_type": "markdown",
   "metadata": {},
   "source": [
    "## Why Python?\n",
    "\n",
    "Python can be used for pretty much anything! [Trust me, go to 1:25](https://www.youtube.com/watch?v=hxGB7LU4i1I).\n",
    "\n",
    "Here is an example of game made purely out of lines of python code. [We'll make one similar](https://www.youtube.com/watch?v=aUCyfdzP-i8)."
   ]
  },
  {
   "cell_type": "markdown",
   "metadata": {},
   "source": [
    "### Printing\n",
    "---\n",
    "Python has a few inbuilt functions! Try typing *dir(__builtin__)* to see them!\n",
    "\n",
    "**_print()_** just works - we can print pretty much anything in python! Just add a `\" \"` .\n",
    "\n",
    "---"
   ]
  },
  {
   "cell_type": "code",
   "execution_count": 1,
   "metadata": {},
   "outputs": [
    {
     "name": "stdout",
     "output_type": "stream",
     "text": [
      "Hello World!\n"
     ]
    }
   ],
   "source": [
    "print(\"Hello World!\")"
   ]
  },
  {
   "cell_type": "code",
   "execution_count": 2,
   "metadata": {},
   "outputs": [
    {
     "name": "stdout",
     "output_type": "stream",
     "text": [
      "Hellow World!\n"
     ]
    }
   ],
   "source": [
    "#try single quotes\n",
    "print('Hellow World!')"
   ]
  },
  {
   "cell_type": "code",
   "execution_count": null,
   "metadata": {},
   "outputs": [],
   "source": [
    "#try listing all built in functions!\n",
    "print(dir(__builtin__))"
   ]
  },
  {
   "cell_type": "markdown",
   "metadata": {},
   "source": [
    "---\n",
    "\n",
    "So what **is** the difference? \n",
    "\n",
    "Well, how about if you want to try something with an apostrophe in it? \n",
    "Probably our first error.\n",
    "\n",
    "---"
   ]
  },
  {
   "cell_type": "code",
   "execution_count": 3,
   "metadata": {},
   "outputs": [
    {
     "ename": "SyntaxError",
     "evalue": "invalid syntax (<ipython-input-3-ca5d8a47ae00>, line 2)",
     "output_type": "error",
     "traceback": [
      "\u001b[1;36m  File \u001b[1;32m\"<ipython-input-3-ca5d8a47ae00>\"\u001b[1;36m, line \u001b[1;32m2\u001b[0m\n\u001b[1;33m    print('My name's Tom')\u001b[0m\n\u001b[1;37m                   ^\u001b[0m\n\u001b[1;31mSyntaxError\u001b[0m\u001b[1;31m:\u001b[0m invalid syntax\n"
     ]
    }
   ],
   "source": [
    "#apostrophe doesnt work as well\n",
    "print('My name's Tom')"
   ]
  },
  {
   "cell_type": "code",
   "execution_count": 4,
   "metadata": {},
   "outputs": [
    {
     "name": "stdout",
     "output_type": "stream",
     "text": [
      "My name's Tom\n"
     ]
    }
   ],
   "source": [
    "#correct this mistake by using a double quote\n",
    "print(\"My name's Tom\")"
   ]
  },
  {
   "cell_type": "code",
   "execution_count": 7,
   "metadata": {},
   "outputs": [
    {
     "name": "stdout",
     "output_type": "stream",
     "text": [
      "My name is 10\n"
     ]
    }
   ],
   "source": [
    "x = 10\n",
    "print('My name is {}'.format(x))"
   ]
  },
  {
   "cell_type": "code",
   "execution_count": 9,
   "metadata": {},
   "outputs": [
    {
     "name": "stdout",
     "output_type": "stream",
     "text": [
      "What is your name?George\n",
      "My name is George\n"
     ]
    }
   ],
   "source": [
    "name = input('What is your name?')\n",
    "print('My name is {}'.format(name))"
   ]
  },
  {
   "cell_type": "code",
   "execution_count": 7,
   "metadata": {},
   "outputs": [],
   "source": [
    "#redo the 'format' string using the variable: 'name', this time!"
   ]
  },
  {
   "cell_type": "markdown",
   "metadata": {},
   "source": [
    "Extension: See if you can print 'My name is:' + yourname' without using format? Play around with it!"
   ]
  },
  {
   "cell_type": "code",
   "execution_count": 12,
   "metadata": {},
   "outputs": [
    {
     "name": "stdout",
     "output_type": "stream",
     "text": [
      "My name is George\n",
      "My name is George\n",
      "My name is George and I am 23.\n"
     ]
    }
   ],
   "source": [
    "print('My name is {}'.format(name))\n",
    "print('My name is',name)\n",
    "print('My name is {} and I am 23.'.format(name))"
   ]
  },
  {
   "cell_type": "markdown",
   "metadata": {},
   "source": [
    "---\n",
    "Try adding a couple of your own variable ideas:  \n",
    "    `age = 10`  \n",
    "    `haircolour = 'ginger'`  \n",
    "    `score = 15`  \n",
    "    `level = 8`  \n",
    "    \n",
    "Then have a go at printing any sentence you fancy with your given variables!  \n",
    "Remember to use the syntax above!  \n",
    "\n",
    "i.e. `print(\"{}'s score was {}\".format(name,score))`\n",
    "\n",
    "---"
   ]
  },
  {
   "cell_type": "code",
   "execution_count": 14,
   "metadata": {},
   "outputs": [],
   "source": [
    "#store variables\n",
    "age = 24"
   ]
  },
  {
   "cell_type": "code",
   "execution_count": 13,
   "metadata": {},
   "outputs": [
    {
     "ename": "NameError",
     "evalue": "name 'age' is not defined",
     "output_type": "error",
     "traceback": [
      "\u001b[1;31m---------------------------------------------------------------------------\u001b[0m",
      "\u001b[1;31mNameError\u001b[0m                                 Traceback (most recent call last)",
      "\u001b[1;32m<ipython-input-13-91586059446b>\u001b[0m in \u001b[0;36m<module>\u001b[1;34m\u001b[0m\n\u001b[0;32m      1\u001b[0m \u001b[1;31m#try some printing\u001b[0m\u001b[1;33m\u001b[0m\u001b[1;33m\u001b[0m\u001b[1;33m\u001b[0m\u001b[0m\n\u001b[1;32m----> 2\u001b[1;33m \u001b[0mprint\u001b[0m\u001b[1;33m(\u001b[0m\u001b[1;34m'I am'\u001b[0m\u001b[1;33m,\u001b[0m\u001b[0mage\u001b[0m\u001b[1;33m)\u001b[0m\u001b[1;33m\u001b[0m\u001b[1;33m\u001b[0m\u001b[0m\n\u001b[0m",
      "\u001b[1;31mNameError\u001b[0m: name 'age' is not defined"
     ]
    }
   ],
   "source": [
    "#try some printing\n",
    "print('I am',age)"
   ]
  },
  {
   "cell_type": "markdown",
   "metadata": {},
   "source": [
    "Extension: Try using at least three different variables all formatted into one sentence with the print function."
   ]
  },
  {
   "cell_type": "code",
   "execution_count": null,
   "metadata": {},
   "outputs": [],
   "source": [
    "#use all your variables in the same sentence!"
   ]
  },
  {
   "cell_type": "code",
   "execution_count": 9,
   "metadata": {},
   "outputs": [
    {
     "name": "stdout",
     "output_type": "stream",
     "text": [
      "6\n"
     ]
    }
   ],
   "source": [
    "#print is an inbuilt python function - len is another one that stands for LENGTH()\n",
    "print(len(name))"
   ]
  },
  {
   "cell_type": "markdown",
   "metadata": {},
   "source": [
    "---\n",
    "### Data Types\n",
    "\n",
    "So far we have printed **strings**.   \n",
    "What if we want to print something else? A number? That will work too. \n",
    "\n",
    "There are two types of numbers: **integers _int()_** and **floats _float()_** which are for decimals.\n",
    "\n",
    "---"
   ]
  },
  {
   "cell_type": "code",
   "execution_count": 10,
   "metadata": {},
   "outputs": [
    {
     "name": "stdout",
     "output_type": "stream",
     "text": [
      "20\n",
      "20\n"
     ]
    }
   ],
   "source": [
    "print('20')\n",
    "print(20)"
   ]
  },
  {
   "cell_type": "code",
   "execution_count": 15,
   "metadata": {},
   "outputs": [],
   "source": [
    "#xstrings\n",
    "x_str = '10'\n",
    "x_int = 10\n",
    "x_float = 10.0"
   ]
  },
  {
   "cell_type": "code",
   "execution_count": 22,
   "metadata": {},
   "outputs": [],
   "source": [
    "#ystrings - give the same style variables to another number known as y\n",
    "y_str = '20'\n",
    "y_int = 20"
   ]
  },
  {
   "cell_type": "code",
   "execution_count": 24,
   "metadata": {},
   "outputs": [
    {
     "data": {
      "text/plain": [
       "str"
      ]
     },
     "execution_count": 24,
     "metadata": {},
     "output_type": "execute_result"
    }
   ],
   "source": [
    "type('hello')"
   ]
  },
  {
   "cell_type": "code",
   "execution_count": 20,
   "metadata": {},
   "outputs": [
    {
     "data": {
      "text/plain": [
       "30"
      ]
     },
     "execution_count": 20,
     "metadata": {},
     "output_type": "execute_result"
    }
   ],
   "source": [
    "x_int + y_int"
   ]
  },
  {
   "cell_type": "code",
   "execution_count": 11,
   "metadata": {},
   "outputs": [],
   "source": [
    "#add two strings and print the result\n",
    "#add two floats"
   ]
  },
  {
   "cell_type": "markdown",
   "metadata": {},
   "source": [
    "Extensions"
   ]
  },
  {
   "cell_type": "code",
   "execution_count": 12,
   "metadata": {},
   "outputs": [],
   "source": [
    "#add a float and an int"
   ]
  },
  {
   "cell_type": "code",
   "execution_count": 13,
   "metadata": {},
   "outputs": [],
   "source": [
    "#add a float and a string"
   ]
  },
  {
   "cell_type": "code",
   "execution_count": 14,
   "metadata": {},
   "outputs": [],
   "source": [
    "#add another variable only as a float under another name"
   ]
  },
  {
   "cell_type": "markdown",
   "metadata": {},
   "source": [
    "## Arithmetic\n",
    "\n",
    "Like you'd expect, arithmetic works just fine with numbers, we can even add strings together!"
   ]
  },
  {
   "cell_type": "code",
   "execution_count": 26,
   "metadata": {},
   "outputs": [
    {
     "name": "stdout",
     "output_type": "stream",
     "text": [
      "Integer sum =  20\n",
      "String sum =  1010\n",
      "Mixed sum =  7.5\n"
     ]
    }
   ],
   "source": [
    "sum_int = 10 + 10\n",
    "sum_string = '10' + '10'\n",
    "sum_mix = 3*(10 - 5.0)/2.0\n",
    "print('Integer sum = ',sum_int)\n",
    "print('String sum = ',sum_string)\n",
    "print('Mixed sum = ',sum_mix)"
   ]
  },
  {
   "cell_type": "code",
   "execution_count": 28,
   "metadata": {},
   "outputs": [
    {
     "name": "stdout",
     "output_type": "stream",
     "text": [
      "3470\n"
     ]
    }
   ],
   "source": [
    "#try doing a sum inside the print function to see if that works\n",
    "print(5*694)"
   ]
  },
  {
   "cell_type": "code",
   "execution_count": 31,
   "metadata": {},
   "outputs": [
    {
     "name": "stdout",
     "output_type": "stream",
     "text": [
      "What is a big number?6853\n",
      "6858\n"
     ]
    }
   ],
   "source": [
    "big_number = input('What is a big number?')\n",
    "print(int(big_number) + 5)"
   ]
  },
  {
   "cell_type": "code",
   "execution_count": 17,
   "metadata": {},
   "outputs": [],
   "source": [
    "#use int() and str() and float() to force change some variables\n",
    "force_int = int(y_float)\n",
    "print(force_int)\n",
    "#try forcing a sum into a string"
   ]
  },
  {
   "cell_type": "markdown",
   "metadata": {},
   "source": [
    "Extension: See if you use the age = input('How old are you?') in a sum. You will have to force the input to be a number and not a string!"
   ]
  },
  {
   "cell_type": "code",
   "execution_count": null,
   "metadata": {},
   "outputs": [],
   "source": []
  },
  {
   "cell_type": "markdown",
   "metadata": {},
   "source": [
    "---\n",
    "\n",
    "There are some more complex types of operations for number variables. Think BIDMAS? Lets do them all:\n",
    "* indices and square roots\n",
    "* modulus (remainder) and integer division\n",
    "\n",
    "Remember in Jupyter when you want a new cell to appear underneat the command is `alt` + `Enter`\n",
    "\n",
    "---"
   ]
  },
  {
   "cell_type": "code",
   "execution_count": null,
   "metadata": {},
   "outputs": [],
   "source": [
    "#three types of division / // %"
   ]
  },
  {
   "cell_type": "code",
   "execution_count": null,
   "metadata": {},
   "outputs": [],
   "source": [
    "#absolute value of a sum"
   ]
  },
  {
   "cell_type": "code",
   "execution_count": null,
   "metadata": {},
   "outputs": [],
   "source": [
    "#indices"
   ]
  },
  {
   "cell_type": "markdown",
   "metadata": {},
   "source": [
    "Extension: See if you can find the remainder of 5 cubed, divided by 4."
   ]
  },
  {
   "cell_type": "code",
   "execution_count": null,
   "metadata": {},
   "outputs": [],
   "source": [
    "#Remainder of 5^3 / 4?"
   ]
  },
  {
   "cell_type": "code",
   "execution_count": null,
   "metadata": {},
   "outputs": [],
   "source": []
  },
  {
   "cell_type": "markdown",
   "metadata": {},
   "source": [
    "---\n",
    "\n",
    "## Lists\n",
    "\n",
    "Lists are similar to an array in maths. They can contain any type of variable or a mix of typtes. They can contain as many variables as you want.  \n",
    "We can even iterate over a list and perform a multiplication on each variable individually.\n",
    "\n",
    "---"
   ]
  },
  {
   "cell_type": "code",
   "execution_count": 35,
   "metadata": {},
   "outputs": [
    {
     "name": "stdout",
     "output_type": "stream",
     "text": [
      "[0, 3, 5, 2]\n"
     ]
    }
   ],
   "source": [
    "#idea for how to make a list\n",
    "register = ['Tom','Harry','Ben','Jamie']\n",
    "numbers = [0,3,5,2]\n",
    "shopping = ['eggs','fish','loo roll']\n",
    "print(numbers)"
   ]
  },
  {
   "cell_type": "code",
   "execution_count": 39,
   "metadata": {},
   "outputs": [
    {
     "name": "stdout",
     "output_type": "stream",
     "text": [
      "['Tom', 'Harry', 'Ben', 'George']\n"
     ]
    }
   ],
   "source": [
    "register = ['Tom','Harry','Ben',name]\n",
    "print(register)"
   ]
  },
  {
   "cell_type": "code",
   "execution_count": null,
   "metadata": {},
   "outputs": [],
   "source": [
    "#figure out how to call individual elements"
   ]
  },
  {
   "cell_type": "markdown",
   "metadata": {},
   "source": [
    "Extension: Can you make a list of lists?"
   ]
  },
  {
   "cell_type": "code",
   "execution_count": null,
   "metadata": {},
   "outputs": [],
   "source": []
  },
  {
   "cell_type": "markdown",
   "metadata": {},
   "source": [
    "### Indexing\n",
    "\n",
    "In python we index from the 0th item in any data structure (array, list, dictionary). Here is what our current list looks like to python:\n",
    "\n",
    "**Index** | 0 | 1 | 2 | 3 | ... | n-1\n",
    "---|---|---|---|---|---|---\n",
    "**Value** | 1 | 2 | 3 | 4 | ... | n\n",
    "**DataType** | *int* | *int* | *int* | *int* | ... | *int*\n",
    "\n",
    "Try calling the 0th index in the list:"
   ]
  },
  {
   "cell_type": "code",
   "execution_count": 40,
   "metadata": {},
   "outputs": [],
   "source": [
    "register = ['Hatty','George','Adam','Jane']"
   ]
  },
  {
   "cell_type": "code",
   "execution_count": 44,
   "metadata": {},
   "outputs": [
    {
     "name": "stdout",
     "output_type": "stream",
     "text": [
      "Hatty\n",
      "George\n"
     ]
    }
   ],
   "source": [
    "#print a sentence saying the first name in the register is Hatty, by indexing the list\n",
    "print(register[0])\n",
    "print(register[1])"
   ]
  },
  {
   "cell_type": "code",
   "execution_count": 45,
   "metadata": {},
   "outputs": [
    {
     "name": "stdout",
     "output_type": "stream",
     "text": [
      "Jane\n"
     ]
    }
   ],
   "source": [
    "#print the last name in the list\n",
    "print(register[-1])"
   ]
  },
  {
   "cell_type": "code",
   "execution_count": null,
   "metadata": {},
   "outputs": [],
   "source": [
    "#A better way to index from the end of lists"
   ]
  },
  {
   "cell_type": "markdown",
   "metadata": {},
   "source": [
    "---\n",
    "\n",
    "#### Adding to lists\n",
    "\n",
    "If we want to modify an already existing list we can add to or remove elements from lists. We can also extract subsets and merge two lists together!\n",
    "\n",
    "---"
   ]
  },
  {
   "cell_type": "code",
   "execution_count": null,
   "metadata": {},
   "outputs": [],
   "source": [
    "register.append('Percy')"
   ]
  },
  {
   "cell_type": "code",
   "execution_count": null,
   "metadata": {},
   "outputs": [],
   "source": [
    "#try appending four new names in a list\n",
    "new_names = ['name','name2','name3','name4']"
   ]
  },
  {
   "cell_type": "code",
   "execution_count": null,
   "metadata": {},
   "outputs": [],
   "source": [
    "#a better way may be to use extend()"
   ]
  },
  {
   "cell_type": "code",
   "execution_count": null,
   "metadata": {},
   "outputs": [],
   "source": [
    "#use pop()"
   ]
  },
  {
   "cell_type": "markdown",
   "metadata": {},
   "source": [
    "Extension: Try to change the list by using remove instead of pop. You have to tell remove the string to be deleted, instead of saying where to remove something."
   ]
  },
  {
   "cell_type": "code",
   "execution_count": null,
   "metadata": {},
   "outputs": [],
   "source": []
  },
  {
   "cell_type": "markdown",
   "metadata": {},
   "source": [
    "---\n",
    "### Iterating\n",
    "\n",
    "Let's have a look at iterating through a list to select each name individually.  \n",
    "Does it matter what we call the variable `name`?\n",
    "\n",
    "If we have lots of people in the register and want to count the unique names, we could turn the **list** into a **set**.\n",
    "\n",
    "---"
   ]
  },
  {
   "cell_type": "code",
   "execution_count": null,
   "metadata": {},
   "outputs": [],
   "source": [
    "for name in new_names: register.append()"
   ]
  },
  {
   "cell_type": "code",
   "execution_count": null,
   "metadata": {},
   "outputs": [],
   "source": []
  },
  {
   "cell_type": "markdown",
   "metadata": {},
   "source": [
    "Extension: try printing the register and the set of the register (set(register)). What's the difference?"
   ]
  },
  {
   "cell_type": "code",
   "execution_count": null,
   "metadata": {},
   "outputs": [],
   "source": [
    "#set?"
   ]
  },
  {
   "cell_type": "code",
   "execution_count": null,
   "metadata": {},
   "outputs": [],
   "source": []
  },
  {
   "cell_type": "markdown",
   "metadata": {},
   "source": [
    "---\n",
    "\n",
    "#### Multiple variable assignment\n",
    "Sometimes two variables might be quite closely linked so it reads well to assign both values in one line.  \n",
    "We can do a similar assignment when inserting values into a string.\n",
    "\n",
    "We can also select **multiple entries** from a list without selecting the whole list but indexing a slice!\n",
    "\n",
    "---"
   ]
  },
  {
   "cell_type": "code",
   "execution_count": 3,
   "metadata": {},
   "outputs": [],
   "source": [
    "#assign x= 10 and y = 20 in one line!"
   ]
  },
  {
   "cell_type": "markdown",
   "metadata": {},
   "source": [
    "Extension: use the len(register) function to assigne the length of the register and length of the set(reg)"
   ]
  },
  {
   "cell_type": "code",
   "execution_count": null,
   "metadata": {},
   "outputs": [],
   "source": [
    "len_reg,len_set = ?"
   ]
  },
  {
   "cell_type": "code",
   "execution_count": 4,
   "metadata": {},
   "outputs": [],
   "source": [
    "#print some slices (index 2-4,upto 2 and 2 to end)"
   ]
  },
  {
   "cell_type": "code",
   "execution_count": null,
   "metadata": {},
   "outputs": [],
   "source": []
  },
  {
   "cell_type": "markdown",
   "metadata": {},
   "source": [
    "---\n",
    "A few commands will confuse the *print()* function that we should be aware of. For example, `\\n` will begin a new line.  \n",
    "This can be very useful, except if we actually want to print *\\n* as part of the string. \n",
    "\n",
    "For path files for example we should use something called a *raw string* - denoted `\\r`.\n",
    "For example if we wanted to find pictures, my path file would be `r'C:\\\\Users\\\\George\\\\Pictures'` \n",
    "\n",
    "---"
   ]
  },
  {
   "cell_type": "code",
   "execution_count": null,
   "metadata": {},
   "outputs": [],
   "source": [
    "#print a string over two lines, with a top score and bottom score."
   ]
  },
  {
   "cell_type": "markdown",
   "metadata": {},
   "source": [
    "---\n",
    "### More complex arithmetic\n",
    "\n",
    "We can also make *lists* of numbers, but be careful this isn't the same as an array!  \n",
    "In maths when we add two arrays we get the elementwise sum:  \n",
    "`(1,2,3,4) + (2,3,4,5) = (3,5,7,9)`\n",
    "\n",
    "Let's see what happens if we add two lists of numbers, and if we can figure out a way to deal with elementwise arithmetic!\n",
    "\n",
    "---"
   ]
  },
  {
   "cell_type": "code",
   "execution_count": null,
   "metadata": {},
   "outputs": [],
   "source": []
  },
  {
   "cell_type": "code",
   "execution_count": null,
   "metadata": {},
   "outputs": [],
   "source": [
    "#for loop!"
   ]
  },
  {
   "cell_type": "markdown",
   "metadata": {},
   "source": [
    "---\n",
    "#### List Comprehensions\n",
    "\n",
    "Once we have gone through for loops, I'll introduce you to **List Comprehensions**.  \n",
    "For now just know that it looks a little bit like the for statement in the kernel above! It could be useful for some of the challenges!\n",
    "\n",
    "#### If statements\n",
    "\n",
    "**If** we want to double check if a condition is met before doing something to a variable, we use an `if:` statement. \n",
    "`==` is a check for equality. It won't assign anything to a variable.\n",
    "\n",
    "Lets say `x = 10` - Here we use `=` to assign 10 to the variable x.  \n",
    "Then try `x == 10` - Here we use `==` to check if x is equal to 10. Because it is the computer will see `True`.  \n",
    "If we try `x == 9` - The computer will see `False`.  \n",
    "Finally if we try `x = 9` - The x variable will be changed from 10 to 9.\n",
    "\n",
    "`True` and `False` are key in python. Whenever a condition is matched, the computer sees `True`. This is what tells the computer to carry out the command.\n",
    "\n",
    "---"
   ]
  },
  {
   "cell_type": "code",
   "execution_count": null,
   "metadata": {},
   "outputs": [],
   "source": [
    "#make the variable x equal to 10"
   ]
  },
  {
   "cell_type": "code",
   "execution_count": null,
   "metadata": {},
   "outputs": [],
   "source": [
    "#try some if statements"
   ]
  },
  {
   "cell_type": "code",
   "execution_count": null,
   "metadata": {},
   "outputs": [],
   "source": [
    "#if True?"
   ]
  },
  {
   "cell_type": "code",
   "execution_count": null,
   "metadata": {},
   "outputs": [],
   "source": [
    "#if False?"
   ]
  },
  {
   "cell_type": "code",
   "execution_count": null,
   "metadata": {},
   "outputs": [],
   "source": [
    "#if x < 20"
   ]
  },
  {
   "cell_type": "markdown",
   "metadata": {},
   "source": [
    "Extension: If x is less than or equal to 10 print('yes')"
   ]
  },
  {
   "cell_type": "code",
   "execution_count": null,
   "metadata": {},
   "outputs": [],
   "source": []
  },
  {
   "cell_type": "markdown",
   "metadata": {},
   "source": [
    "---\n",
    "## Multiple conditions and boolean!\n",
    "\n",
    "We can check multiple conditions for one if statement as shown. Below are the commands we might need for checking conditions!\n",
    "\n",
    "Imagine we have an event that has three outcomes that are mutually exclusive.  \n",
    "For example, in tetris the next shape might be a square, an *L* or a *T*. We know it must be one, but it can't be two, or all three.\n",
    "\n",
    "In python we can use and **if, else if, else** styled if statement. We can use as many elseif conditions as we like or none at all. Be careful to remember indents though. When python sees a `:`, if we put a tab in on the next line it will refer back to the command behind the `:`!  \n",
    "See the example below!\n",
    "\n",
    "`if shape == square:`  \n",
    "~~indent~~`print('The shape is a square!')`  \n",
    "`elif shape == T:`  \n",
    "~~indent~~`print('The shape is a T!')`  \n",
    "`else:`  \n",
    "~~indent~~`print('The shape must be an L!')`  \n",
    "    \n",
    "This example is much more efficient than writing out three seperate if statements, and helps visualise the independance of the outcomes!\n",
    "\n",
    "If statements:\n",
    "* Greater than - `>`\n",
    "* Greater than or equal to - `>=`\n",
    "* Equal to - `==`\n",
    "* Not equal to - `!=`\n",
    "\n",
    "Boolean\n",
    "* and - `and` or `&`\n",
    "* or - `or` or `|`\n",
    "* not - `not`\n",
    "* xor - `^`\n",
    "\n",
    "---"
   ]
  },
  {
   "cell_type": "code",
   "execution_count": null,
   "metadata": {},
   "outputs": [],
   "source": []
  },
  {
   "cell_type": "code",
   "execution_count": null,
   "metadata": {},
   "outputs": [],
   "source": []
  },
  {
   "cell_type": "code",
   "execution_count": null,
   "metadata": {},
   "outputs": [],
   "source": []
  },
  {
   "cell_type": "markdown",
   "metadata": {},
   "source": [
    "Extension: Play around with the type() function. Add some variables and check what it does. Once you have figured this out, write an if statement that checks if x is a string float or int and print what type it is! \n",
    "\n",
    "If x is float: print('x is a float!') etc."
   ]
  },
  {
   "cell_type": "code",
   "execution_count": null,
   "metadata": {},
   "outputs": [],
   "source": []
  },
  {
   "cell_type": "markdown",
   "metadata": {},
   "source": [
    "---\n",
    "## Loops\n",
    "\n",
    "We have mentioned iterating. It is **very** important in programming that we get our heads around this.\n",
    "Let's just have a quick looks at what a `for` loop and and `while` loop look like. \n",
    "\n",
    "**For**     loops will execute the same operations a given number of times to a temporary variable.  \n",
    "**While**   loops will keep going forever as long as the command sees `True`!\n",
    "\n",
    "Remember those indents!\n",
    "\n",
    "---"
   ]
  },
  {
   "cell_type": "code",
   "execution_count": null,
   "metadata": {},
   "outputs": [],
   "source": []
  },
  {
   "cell_type": "markdown",
   "metadata": {},
   "source": [
    "# Syntax Part 1 complete!\n",
    "\n",
    "### Syntax Part 2\n",
    "Here is a little look at what we're going to be looking at in the next lesson for syntax. Feel free to have a look and get ahead.\n",
    "\n",
    "* [Loops and nested loops][1]\n",
    "* [Dictionaries][2]\n",
    "* [pass, break, try][3]\n",
    "* [Modules and Libraries][4]\n",
    "* Functions\n",
    "\n",
    "For the rest of the session we will have a little look into Modules using to functions written by other people. Writing functions that do simple things can be pretty complex. For example changing the directory to locate a file and opening it, or writing it into a list.\n",
    "\n",
    "In python is we `import` one of the thousands of existing modules, we can do these sorts of things by borrowing code written by other people.  \n",
    "This is normally the most efficient was of doing things, as lots of brains tend to better than one!\n",
    "For now let's import the operating server module known in python as `os`, and have a look at locating files.\n",
    "\n",
    "[1]:https://www.tutorialspoint.com/python/python_nested_loops.htm\n",
    "[2]:https://www.learnpython.org/en/Dictionaries\n",
    "[3]:https://www.tutorialspoint.com/python/python_loop_control.htm\n",
    "[4]:https://www.learnpython.org/en/Modules_and_Packages"
   ]
  },
  {
   "cell_type": "code",
   "execution_count": null,
   "metadata": {},
   "outputs": [],
   "source": [
    "#import the os module"
   ]
  },
  {
   "cell_type": "code",
   "execution_count": 8,
   "metadata": {},
   "outputs": [
    {
     "data": {
      "text/plain": [
       "'C:\\\\Users\\\\George\\\\Documents\\\\TechCamp\\\\CourseDesign\\\\python_games'"
      ]
     },
     "execution_count": 8,
     "metadata": {},
     "output_type": "execute_result"
    }
   ],
   "source": [
    "import os\n",
    "os.getcwd() #lets go into a spyger file!"
   ]
  }
 ],
 "metadata": {
  "kernelspec": {
   "display_name": "Python 3",
   "language": "python",
   "name": "python3"
  },
  "language_info": {
   "codemirror_mode": {
    "name": "ipython",
    "version": 3
   },
   "file_extension": ".py",
   "mimetype": "text/x-python",
   "name": "python",
   "nbconvert_exporter": "python",
   "pygments_lexer": "ipython3",
   "version": "3.7.3"
  }
 },
 "nbformat": 4,
 "nbformat_minor": 2
}
