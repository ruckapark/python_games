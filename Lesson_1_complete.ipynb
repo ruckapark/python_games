{
 "cells": [
  {
   "cell_type": "markdown",
   "metadata": {},
   "source": [
    "# Intro to Python\n",
    "\n",
    "Welcome to TechCamp's Python Gaming course!\n",
    "If you're keen to see what the final products might look like, have a look [here](https://www.pygame.org/).\n",
    "\n",
    "For now let's assume you're relatively new to python and you are ready for bootcamp!\n",
    "Here are the links for the downloads you need (and hopefully have already!):\n",
    "* [python](https://www.python.org/downloads/release/python-382/)\n",
    "* [anaconda](https://docs.anaconda.com/anaconda/install/)"
   ]
  },
  {
   "cell_type": "markdown",
   "metadata": {},
   "source": [
    "## Why Python?\n",
    "\n",
    "Python can be used for pretty much anything! [Trust me](https://www.youtube.com/watch?v=hxGB7LU4i1I)"
   ]
  },
  {
   "cell_type": "markdown",
   "metadata": {},
   "source": [
    "### Printing\n",
    "---\n",
    "Python has a few inbuilt functions! Try typing *dir(__builtin__)* to see them!\n",
    "\n",
    "**_print()_** just works - we can print pretty much anything in python! Just add a `\" \"` .\n",
    "\n",
    "---"
   ]
  },
  {
   "cell_type": "code",
   "execution_count": 2,
   "metadata": {},
   "outputs": [
    {
     "name": "stdout",
     "output_type": "stream",
     "text": [
      "Hello World!\n"
     ]
    }
   ],
   "source": [
    "print(\"Hello World!\")"
   ]
  },
  {
   "cell_type": "code",
   "execution_count": 3,
   "metadata": {},
   "outputs": [
    {
     "name": "stdout",
     "output_type": "stream",
     "text": [
      "Hello World!\n"
     ]
    }
   ],
   "source": [
    "print('Hello World!')"
   ]
  },
  {
   "cell_type": "markdown",
   "metadata": {},
   "source": [
    "---\n",
    "\n",
    "So what **is** the difference? \n",
    "\n",
    "Well, how about if you want to try something with an apostrophe in it? \n",
    "Probably our first error.\n",
    "\n",
    "---"
   ]
  },
  {
   "cell_type": "code",
   "execution_count": 134,
   "metadata": {},
   "outputs": [
    {
     "ename": "SyntaxError",
     "evalue": "invalid syntax (<ipython-input-134-99dc103707da>, line 1)",
     "output_type": "error",
     "traceback": [
      "\u001b[1;36m  File \u001b[1;32m\"<ipython-input-134-99dc103707da>\"\u001b[1;36m, line \u001b[1;32m1\u001b[0m\n\u001b[1;33m    print('What's your name?') #quite clever it tries not to let you make that mistake!\u001b[0m\n\u001b[1;37m                ^\u001b[0m\n\u001b[1;31mSyntaxError\u001b[0m\u001b[1;31m:\u001b[0m invalid syntax\n"
     ]
    }
   ],
   "source": [
    "print('What's your name?') #quite clever it tries not to let you make that mistake!"
   ]
  },
  {
   "cell_type": "code",
   "execution_count": 5,
   "metadata": {},
   "outputs": [
    {
     "name": "stdout",
     "output_type": "stream",
     "text": [
      "What's your name?\n"
     ]
    }
   ],
   "source": [
    "print(\"What's your name?\")"
   ]
  },
  {
   "cell_type": "code",
   "execution_count": 139,
   "metadata": {},
   "outputs": [
    {
     "name": "stdout",
     "output_type": "stream",
     "text": [
      "What's your name?George\n",
      "Your name is: George\n"
     ]
    }
   ],
   "source": [
    "print(\"Your name is: {}\".format(input(\"What's your name?\")))"
   ]
  },
  {
   "cell_type": "code",
   "execution_count": 140,
   "metadata": {},
   "outputs": [
    {
     "name": "stdout",
     "output_type": "stream",
     "text": [
      "17\n"
     ]
    }
   ],
   "source": [
    "string_test = 'adfjslgdgafuewief'\n",
    "print(len(string_test))"
   ]
  },
  {
   "cell_type": "markdown",
   "metadata": {},
   "source": [
    "---\n",
    "### Data Types\n",
    "\n",
    "So far we have printed **strings**.   \n",
    "What if we want to print something else? A number? That will work too. \n",
    "\n",
    "There are two types of numbers: **integers _int()_** and **floats _float()_** which are for decimals.\n",
    "\n",
    "---"
   ]
  },
  {
   "cell_type": "code",
   "execution_count": 7,
   "metadata": {},
   "outputs": [
    {
     "name": "stdout",
     "output_type": "stream",
     "text": [
      "20\n",
      "20\n"
     ]
    }
   ],
   "source": [
    "print('20')\n",
    "print(20)"
   ]
  },
  {
   "cell_type": "code",
   "execution_count": 14,
   "metadata": {},
   "outputs": [],
   "source": [
    "x_string = '20' #string\n",
    "x_int = 20      #interger\n",
    "x_float = 20.0  #float"
   ]
  },
  {
   "cell_type": "code",
   "execution_count": 9,
   "metadata": {},
   "outputs": [],
   "source": [
    "y_string = '10'\n",
    "y_int = 10\n",
    "y_float = 10.0"
   ]
  },
  {
   "cell_type": "code",
   "execution_count": 12,
   "metadata": {},
   "outputs": [
    {
     "name": "stdout",
     "output_type": "stream",
     "text": [
      "30\n"
     ]
    }
   ],
   "source": [
    "print(10+x_int)\n",
    "print('10' + x_str)"
   ]
  },
  {
   "cell_type": "markdown",
   "metadata": {},
   "source": [
    "## Arithmetic\n",
    "\n",
    "Like you'd expect arithmetic works just fine with numbers, we can even add strings together!"
   ]
  },
  {
   "cell_type": "code",
   "execution_count": 136,
   "metadata": {},
   "outputs": [
    {
     "name": "stdout",
     "output_type": "stream",
     "text": [
      "Integer sum =  30\n",
      "String sum =  2010\n",
      "Mixed sum =  3.0\n"
     ]
    }
   ],
   "source": [
    "sum_int = x_int + y_int\n",
    "sum_string = x_string + y_string\n",
    "sum_mix = 3*(x_int - y_float)/y_float\n",
    "print('Integer sum = ',sum_int)\n",
    "print('String sum = ',sum_string)\n",
    "print('Mixed sum = ',sum_mix)"
   ]
  },
  {
   "cell_type": "code",
   "execution_count": 18,
   "metadata": {},
   "outputs": [
    {
     "name": "stdout",
     "output_type": "stream",
     "text": [
      "40\n"
     ]
    }
   ],
   "source": [
    "print(int(sum_mix))"
   ]
  },
  {
   "cell_type": "markdown",
   "metadata": {},
   "source": [
    "---\n",
    "\n",
    "There are some more complex types of operations for number variables. Think BIDMAS? Lets do them all:\n",
    "* indices and square roots\n",
    "* modulus (remainder) and integer division\n",
    "\n",
    "---"
   ]
  },
  {
   "cell_type": "code",
   "execution_count": 137,
   "metadata": {},
   "outputs": [
    {
     "name": "stdout",
     "output_type": "stream",
     "text": [
      "15/10\n",
      "Division gives 1.5, Modulus gives 5.0, Integer divide gives 1\n"
     ]
    }
   ],
   "source": [
    "test_var1 = 15/10   #divide\n",
    "test_var2 = 15%10.0 #mod\n",
    "test_var3 = 15//10  #int divide\n",
    "print('15/10')\n",
    "print('Division gives {}, Modulus gives {}, Integer divide gives {}'.format(test_var1,test_var2,test_var3))"
   ]
  },
  {
   "cell_type": "code",
   "execution_count": 138,
   "metadata": {},
   "outputs": [
    {
     "name": "stdout",
     "output_type": "stream",
     "text": [
      "11\n",
      "11.0\n",
      "11\n",
      "56\n"
     ]
    }
   ],
   "source": [
    "print(int(5+6.0))\n",
    "print(float(5+6))\n",
    "print(str(5+6))\n",
    "print(str(5)+str(6))"
   ]
  },
  {
   "cell_type": "markdown",
   "metadata": {},
   "source": [
    "---\n",
    "\n",
    "## Lists\n",
    "\n",
    "Lists are similar to an array in maths. They can contain any type of variable or a mix of typtes. They can contain as many variables as you want.  \n",
    "We can even iterate over a list and perform a multiplication on each variable individually.\n",
    "\n",
    "---"
   ]
  },
  {
   "cell_type": "code",
   "execution_count": 25,
   "metadata": {},
   "outputs": [],
   "source": [
    "my_list = [1,2,3,4]"
   ]
  },
  {
   "cell_type": "code",
   "execution_count": 27,
   "metadata": {},
   "outputs": [
    {
     "name": "stdout",
     "output_type": "stream",
     "text": [
      "[1, 2, 3, 4]\n",
      "First entry is:  2\n"
     ]
    }
   ],
   "source": [
    "print(my_list)\n",
    "print('First entry is: ',my_list[1])"
   ]
  },
  {
   "cell_type": "markdown",
   "metadata": {},
   "source": [
    "### Indexing\n",
    "\n",
    "In python we index from the 0th item in any data structure (array, list, dictionary). Here is what our current list looks like to python:\n",
    "\n",
    "**Index** | 0 | 1 | 2 | 3 | ... | n-1\n",
    "---|---|---|---|---|---|---\n",
    "**Value** | 1 | 2 | 3 | 4 | ... | n\n",
    "**DataType** | *int* | *int* | *int* | *int* | ... | *int*\n",
    "\n",
    "Try calling the 0th index in the list:"
   ]
  },
  {
   "cell_type": "code",
   "execution_count": 29,
   "metadata": {},
   "outputs": [
    {
     "name": "stdout",
     "output_type": "stream",
     "text": [
      "The actual first entry is:  1\n"
     ]
    }
   ],
   "source": [
    "print('The actual first entry is: ',my_list[0])"
   ]
  },
  {
   "cell_type": "code",
   "execution_count": 81,
   "metadata": {},
   "outputs": [
    {
     "name": "stdout",
     "output_type": "stream",
     "text": [
      "The last name is:  Jane\n"
     ]
    }
   ],
   "source": [
    "register = ['Hatty','George','Adam','Jane']\n",
    "print('The last name is: ',register[3])"
   ]
  },
  {
   "cell_type": "code",
   "execution_count": 82,
   "metadata": {},
   "outputs": [
    {
     "name": "stdout",
     "output_type": "stream",
     "text": [
      "Jane\n",
      "Adam\n"
     ]
    }
   ],
   "source": [
    "print(register[-1])\n",
    "print(register[-2])"
   ]
  },
  {
   "cell_type": "markdown",
   "metadata": {},
   "source": [
    "---\n",
    "\n",
    "#### Adding to lists\n",
    "\n",
    "If we want to modify an already existing list we can add to or remove elements from lists. We can also extract subsets and merge two lists together!\n",
    "\n",
    "---"
   ]
  },
  {
   "cell_type": "code",
   "execution_count": 83,
   "metadata": {},
   "outputs": [
    {
     "name": "stdout",
     "output_type": "stream",
     "text": [
      "Percy\n"
     ]
    }
   ],
   "source": [
    "register.append('Percy')\n",
    "print(register[-1])"
   ]
  },
  {
   "cell_type": "code",
   "execution_count": 84,
   "metadata": {},
   "outputs": [],
   "source": [
    "new_names = ['Issy', 'Charlotte', 'Ellie', 'Ian']\n",
    "register.append(new_names)"
   ]
  },
  {
   "cell_type": "code",
   "execution_count": 85,
   "metadata": {},
   "outputs": [
    {
     "name": "stdout",
     "output_type": "stream",
     "text": [
      "['Hatty', 'George', 'Adam', 'Jane', 'Percy', ['Issy', 'Charlotte', 'Ellie', 'Ian']]\n",
      "['Issy', 'Charlotte', 'Ellie', 'Ian']\n"
     ]
    }
   ],
   "source": [
    "print(register)\n",
    "print(register[-1])"
   ]
  },
  {
   "cell_type": "code",
   "execution_count": 86,
   "metadata": {},
   "outputs": [
    {
     "name": "stdout",
     "output_type": "stream",
     "text": [
      "['Hatty', 'George', 'Adam', 'Jane', 'Percy', ['Issy', 'Charlotte', 'Ellie', 'Ian'], 'Issy', 'Charlotte', 'Ellie', 'Ian']\n"
     ]
    }
   ],
   "source": [
    "register.extend(new_names)\n",
    "print(register)"
   ]
  },
  {
   "cell_type": "code",
   "execution_count": 87,
   "metadata": {},
   "outputs": [
    {
     "name": "stdout",
     "output_type": "stream",
     "text": [
      "['Hatty', 'George', 'Adam', 'Jane', 'Percy', 'Issy', 'Charlotte', 'Ellie', 'Ian']\n"
     ]
    }
   ],
   "source": [
    "register.pop(5) #remove the list\n",
    "print(register) #once popped the index will change if we made an error!"
   ]
  },
  {
   "cell_type": "code",
   "execution_count": 88,
   "metadata": {},
   "outputs": [
    {
     "name": "stdout",
     "output_type": "stream",
     "text": [
      "['Hatty', 'George', 'Adam', 'Jane', 'Issy', 'Charlotte', 'Ellie', 'Ian']\n"
     ]
    }
   ],
   "source": [
    "register.remove('Percy')\n",
    "print(register)"
   ]
  },
  {
   "cell_type": "markdown",
   "metadata": {},
   "source": [
    "---\n",
    "### Iterating\n",
    "\n",
    "Let's have a look at iterating through a list to select each name individually.  \n",
    "Does it matter what we call the variable `name`?\n",
    "\n",
    "If we have lots of people in the register and want to count the unique names, we could turn the **list** into a **set**.\n",
    "\n",
    "---"
   ]
  },
  {
   "cell_type": "code",
   "execution_count": 91,
   "metadata": {},
   "outputs": [
    {
     "name": "stdout",
     "output_type": "stream",
     "text": [
      "['Hatty', 'George', 'Adam', 'Jane', 'Issy', 'Charlotte', 'Ellie', 'Ian', 'Issy', 'Charlotte', 'Ellie', 'Ian', 'Issy', 'Charlotte', 'Ellie', 'Ian', 'Issy', 'Charlotte', 'Ellie', 'Ian']\n",
      "{'Adam', 'Ellie', 'Jane', 'George', 'Charlotte', 'Hatty', 'Ian', 'Issy'}\n"
     ]
    }
   ],
   "source": [
    "for name in new_names: register.append(name) \n",
    "print(register)\n",
    "print(set(register))"
   ]
  },
  {
   "cell_type": "markdown",
   "metadata": {},
   "source": [
    "---\n",
    "\n",
    "#### Multiple variable assignment\n",
    "Sometimes two variables might be quite closely linked so it reads well to assign both values in one line.  \n",
    "We can do a similar assignment when inserting values into a string.\n",
    "\n",
    "We can also select **multiple entries** from a list without selecting the whole list but indexing a slice!\n",
    "\n",
    "---"
   ]
  },
  {
   "cell_type": "code",
   "execution_count": 94,
   "metadata": {},
   "outputs": [
    {
     "name": "stdout",
     "output_type": "stream",
     "text": [
      "The register has 20 people, but only 8 unique names\n"
     ]
    }
   ],
   "source": [
    "register_len,set_len = len(register),len(set(register)) #note the syntax\n",
    "print('The register has {} people, but only {} unique names'.format(register_len,set_len))"
   ]
  },
  {
   "cell_type": "code",
   "execution_count": 96,
   "metadata": {},
   "outputs": [
    {
     "name": "stdout",
     "output_type": "stream",
     "text": [
      "['Hatty', 'George', 'Adam', 'Jane', 'Issy', 'Charlotte', 'Ellie', 'Ian', 'Issy', 'Charlotte', 'Ellie', 'Ian', 'Issy', 'Charlotte', 'Ellie', 'Ian', 'Issy', 'Charlotte', 'Ellie', 'Ian']\n",
      "['Adam']\n",
      "['Adam', 'Jane']\n",
      "['Issy', 'Charlotte', 'Ellie', 'Ian']\n",
      "['Hatty', 'George', 'Adam', 'Jane', 'Issy']\n"
     ]
    }
   ],
   "source": [
    "print(register[:])\n",
    "print(register[2:3]) #what is the difference between this and register[2]?\n",
    "print(register[2:4])\n",
    "print(register[-4:])\n",
    "print(register[:register_len//4])"
   ]
  },
  {
   "cell_type": "code",
   "execution_count": 97,
   "metadata": {},
   "outputs": [],
   "source": [
    "#make exercise about a list of scores and names\n",
    "#and if statement for list of numbers to only select values above a certain number"
   ]
  },
  {
   "cell_type": "markdown",
   "metadata": {},
   "source": [
    "---\n",
    "A few commands will confuse the *print()* function that we should be aware of. For example, `\\n` will begin a new line.  \n",
    "This can be very useful, except if we actually want to print *\\n* as part of the string. \n",
    "\n",
    "For path files for example we should use something called a *raw string* - denoted `\\r`.\n",
    "For example if we wanted to find pictures, my path file would be `r'C:\\\\Users\\\\George\\\\Pictures'` \n",
    "\n",
    "---"
   ]
  },
  {
   "cell_type": "code",
   "execution_count": 99,
   "metadata": {},
   "outputs": [
    {
     "name": "stdout",
     "output_type": "stream",
     "text": [
      "Today's top score goes to Hatty \n",
      "The lowest score was George,better luck next time...\n"
     ]
    }
   ],
   "source": [
    "print(\"Today's top score goes to {} \\nThe lowest score was {},better luck next time...\".format(register[0],register[1]))"
   ]
  },
  {
   "cell_type": "code",
   "execution_count": 100,
   "metadata": {},
   "outputs": [
    {
     "name": "stdout",
     "output_type": "stream",
     "text": [
      "Today's top score goes to Ellie \\nThe lowest score was Ian,better luck next time...\n"
     ]
    }
   ],
   "source": [
    "print(r\"Today's top score goes to {} \\nThe lowest score was {},better luck next time...\".format(register[-2],register[-1]))\n",
    "#when might we need this?"
   ]
  },
  {
   "cell_type": "markdown",
   "metadata": {},
   "source": [
    "---\n",
    "### More complex arithmetic\n",
    "\n",
    "We can also make *lists* of numbers, but be careful this isn't the same as an array!  \n",
    "In maths when we add two arrays we get the elementwise sum:  \n",
    "`(1,2,3,4) + (2,3,4,5) = (3,5,7,9)`\n",
    "\n",
    "Let's see what happens if we add two lists of numbers, and if we can figure out a way to deal with elementwise arithmetic!\n",
    "\n",
    "---"
   ]
  },
  {
   "cell_type": "code",
   "execution_count": 102,
   "metadata": {},
   "outputs": [
    {
     "name": "stdout",
     "output_type": "stream",
     "text": [
      "[1, 2, 3, 4, 5, 6, 2, 4, 1, 3, 6, 5]\n"
     ]
    }
   ],
   "source": [
    "numbers1 = [1,2,3,4,5,6]\n",
    "numbers2 = [2,4,1,3,6,5]\n",
    "numbers_sum = numbers1 + numbers2\n",
    "print(numbers_sum) #list not array!"
   ]
  },
  {
   "cell_type": "code",
   "execution_count": 103,
   "metadata": {},
   "outputs": [
    {
     "name": "stdout",
     "output_type": "stream",
     "text": [
      "['ArithmeticError', 'AssertionError', 'AttributeError', 'BaseException', 'BlockingIOError', 'BrokenPipeError', 'BufferError', 'BytesWarning', 'ChildProcessError', 'ConnectionAbortedError', 'ConnectionError', 'ConnectionRefusedError', 'ConnectionResetError', 'DeprecationWarning', 'EOFError', 'Ellipsis', 'EnvironmentError', 'Exception', 'False', 'FileExistsError', 'FileNotFoundError', 'FloatingPointError', 'FutureWarning', 'GeneratorExit', 'IOError', 'ImportError', 'ImportWarning', 'IndentationError', 'IndexError', 'InterruptedError', 'IsADirectoryError', 'KeyError', 'KeyboardInterrupt', 'LookupError', 'MemoryError', 'ModuleNotFoundError', 'NameError', 'None', 'NotADirectoryError', 'NotImplemented', 'NotImplementedError', 'OSError', 'OverflowError', 'PendingDeprecationWarning', 'PermissionError', 'ProcessLookupError', 'RecursionError', 'ReferenceError', 'ResourceWarning', 'RuntimeError', 'RuntimeWarning', 'StopAsyncIteration', 'StopIteration', 'SyntaxError', 'SyntaxWarning', 'SystemError', 'SystemExit', 'TabError', 'TimeoutError', 'True', 'TypeError', 'UnboundLocalError', 'UnicodeDecodeError', 'UnicodeEncodeError', 'UnicodeError', 'UnicodeTranslateError', 'UnicodeWarning', 'UserWarning', 'ValueError', 'Warning', 'WindowsError', 'ZeroDivisionError', '__IPYTHON__', '__build_class__', '__debug__', '__doc__', '__import__', '__loader__', '__name__', '__package__', '__spec__', 'abs', 'all', 'any', 'ascii', 'bin', 'bool', 'breakpoint', 'bytearray', 'bytes', 'callable', 'chr', 'classmethod', 'compile', 'complex', 'copyright', 'credits', 'delattr', 'dict', 'dir', 'display', 'divmod', 'enumerate', 'eval', 'exec', 'filter', 'float', 'format', 'frozenset', 'get_ipython', 'getattr', 'globals', 'hasattr', 'hash', 'help', 'hex', 'id', 'input', 'int', 'isinstance', 'issubclass', 'iter', 'len', 'license', 'list', 'locals', 'map', 'max', 'memoryview', 'min', 'next', 'object', 'oct', 'open', 'ord', 'pow', 'print', 'property', 'range', 'repr', 'reversed', 'round', 'set', 'setattr', 'slice', 'sorted', 'staticmethod', 'str', 'sum', 'super', 'tuple', 'type', 'vars', 'zip']\n"
     ]
    }
   ],
   "source": [
    "print(dir(__builtin__)) #have a look at our python functions that are built"
   ]
  },
  {
   "cell_type": "code",
   "execution_count": 105,
   "metadata": {},
   "outputs": [
    {
     "name": "stdout",
     "output_type": "stream",
     "text": [
      "[3, 6, 4, 7, 11, 11]\n"
     ]
    }
   ],
   "source": [
    "numbers_sums = []\n",
    "for index in range(len(numbers1)):\n",
    "    x = numbers1[index] + numbers2[index]\n",
    "    numbers_sums.append(x)\n",
    "    #how about making that just one line?\n",
    "print(numbers_sums)"
   ]
  },
  {
   "cell_type": "code",
   "execution_count": 107,
   "metadata": {},
   "outputs": [
    {
     "name": "stdout",
     "output_type": "stream",
     "text": [
      "[3, 6, 4, 7, 11, 11]\n"
     ]
    }
   ],
   "source": [
    "numbers_sums = [sum(x) for x in zip(numbers1,numbers2)]\n",
    "print(numbers_sums)"
   ]
  },
  {
   "cell_type": "markdown",
   "metadata": {},
   "source": [
    "---\n",
    "#### List Comprehensions\n",
    "\n",
    "Once we have gone through for loops, I'll introduce you to **List Comprehensions**.  \n",
    "For now just know that it looks a little bit like the for statement in the kernel above! It could be useful for some of the challenges!\n",
    "\n",
    "#### If statements\n",
    "\n",
    "**If** we want to double check if a condition is met before doing something to a variable, we use an `if:` statement. \n",
    "`==` is a check for equality. It won't assign anything to a variable.\n",
    "\n",
    "Lets say `x = 10` - Here we use `=` to assign 10 to the variable x.  \n",
    "Then try `x == 10` - Here we use `==` to check if x is equal to 10. Because it is the computer will see `True`.  \n",
    "If we try `x == 9` - The computer will see `False`.  \n",
    "Finally if we try `x = 9` - The x variable will be changed from 10 to 9.\n",
    "\n",
    "`True` and `False` are key in python. Whenever a condition is matched, the computer sees `True`. This is what tells the computer to carry out the command.\n",
    "\n",
    "---"
   ]
  },
  {
   "cell_type": "code",
   "execution_count": 108,
   "metadata": {},
   "outputs": [
    {
     "name": "stdout",
     "output_type": "stream",
     "text": [
      "hello\n"
     ]
    }
   ],
   "source": [
    "x = 10\n",
    "if x == 10: print('hello')"
   ]
  },
  {
   "cell_type": "code",
   "execution_count": 110,
   "metadata": {},
   "outputs": [
    {
     "name": "stdout",
     "output_type": "stream",
     "text": [
      "goodbye\n"
     ]
    }
   ],
   "source": [
    "if x != 10: \n",
    "    print('hello')\n",
    "else: print('goodbye')"
   ]
  },
  {
   "cell_type": "code",
   "execution_count": 114,
   "metadata": {},
   "outputs": [
    {
     "name": "stdout",
     "output_type": "stream",
     "text": [
      "This will always run\n"
     ]
    }
   ],
   "source": [
    "if True:\n",
    "    print('This will always run')\n",
    "elif False:\n",
    "    print('This will never run')"
   ]
  },
  {
   "cell_type": "code",
   "execution_count": 115,
   "metadata": {},
   "outputs": [
    {
     "name": "stdout",
     "output_type": "stream",
     "text": [
      "X is greater than 5 and divisible by 5!\n"
     ]
    }
   ],
   "source": [
    "if (x > 5) and (x%5 == 0):\n",
    "    print('X is greater than 5 and divisible by 5!')"
   ]
  },
  {
   "cell_type": "markdown",
   "metadata": {},
   "source": [
    "---\n",
    "## Multiple conditions and boolean!\n",
    "\n",
    "We can check multiple conditions for one if statement as shown. Below are the commands we might need for checking conditions!\n",
    "\n",
    "Imagine we have an event that has three outcomes that are mutually exclusive.  \n",
    "For example, in tetris the next shape might be a square, an *L* or a *T*. We know it must be one, but it can't be two, or all three.\n",
    "\n",
    "In python we can use and **if, else if, else** styled if statement. We can use as many elseif conditions as we like or none at all. Be careful to remember indents though. When python sees a `:`, if we put a tab in on the next line it will refer back to the command behind the `:`!  \n",
    "See the example below!\n",
    "\n",
    "`if shape == square:`  \n",
    "~~indent~~`print('The shape is a square!')`  \n",
    "`elif shape == T:`  \n",
    "~~indent~~`print('The shape is a T!')`  \n",
    "`else:`  \n",
    "~~indent~~`print('The shape must be an L!')`  \n",
    "    \n",
    "This example is much more efficient than writing out three seperate if statements, and helps visualise the independance of the outcomes!\n",
    "\n",
    "If statements:\n",
    "* Greater than - `>`\n",
    "* Greater than or equal to - `>=`\n",
    "* Equal to - `==`\n",
    "* Not equal to - `!=`\n",
    "\n",
    "Boolean\n",
    "* and - `and` or `&`\n",
    "* or - `or` or `|`\n",
    "* not - `not`\n",
    "* xor - `^`\n",
    "\n",
    "---"
   ]
  },
  {
   "cell_type": "code",
   "execution_count": 117,
   "metadata": {},
   "outputs": [],
   "source": [
    "#how can we check if 10 is divisible by 5 using / // and ==?\n",
    "#binary symbols?"
   ]
  },
  {
   "cell_type": "code",
   "execution_count": 118,
   "metadata": {},
   "outputs": [
    {
     "name": "stdout",
     "output_type": "stream",
     "text": [
      "x is greater than or equal to 10\n"
     ]
    }
   ],
   "source": [
    "if x >= 20:\n",
    "    print('x is greater than or equal to 20')\n",
    "elif x >= 15:\n",
    "    print('x is greater than or equal to 15')\n",
    "elif x >= 10:\n",
    "    print('x is greater than or equal to 10')\n",
    "else:\n",
    "    print('x less than 10')"
   ]
  },
  {
   "cell_type": "code",
   "execution_count": 119,
   "metadata": {},
   "outputs": [
    {
     "name": "stdout",
     "output_type": "stream",
     "text": [
      "It is between the two\n"
     ]
    }
   ],
   "source": [
    "if (x > 5) and not (x > 15):\n",
    "    print('X is between the two')\n",
    "    #what is the better way to write this?\n",
    "    #add or gates?"
   ]
  },
  {
   "cell_type": "markdown",
   "metadata": {},
   "source": [
    "---\n",
    "## Loops\n",
    "\n",
    "We have mentioned iterating. It is **very** important in programming that we get our heads around this.\n",
    "Let's just have a quick looks at what a `for` loop and and `while` loop look like. \n",
    "\n",
    "**For**     loops will execute the same operations a given number of times to a temporary variable.  \n",
    "**While**   loops will keep going forever as long as the command sees `True`!\n",
    "\n",
    "Remember those indents!\n",
    "\n",
    "---"
   ]
  },
  {
   "cell_type": "code",
   "execution_count": 121,
   "metadata": {},
   "outputs": [
    {
     "name": "stdout",
     "output_type": "stream",
     "text": [
      "11\n",
      "12\n",
      "13\n",
      "14\n"
     ]
    }
   ],
   "source": [
    "x = 10\n",
    "marker = True\n",
    "while marker == True:\n",
    "    x += 1\n",
    "    if x < 15:\n",
    "        print(x)\n",
    "    else:\n",
    "        marker = False"
   ]
  },
  {
   "cell_type": "code",
   "execution_count": 122,
   "metadata": {},
   "outputs": [
    {
     "name": "stdout",
     "output_type": "stream",
     "text": [
      "0\n",
      "2\n",
      "4\n",
      "6\n",
      "8\n"
     ]
    }
   ],
   "source": [
    "for x in range(10):\n",
    "    if x%2 == 0: print(x)"
   ]
  },
  {
   "cell_type": "code",
   "execution_count": 124,
   "metadata": {},
   "outputs": [
    {
     "name": "stdout",
     "output_type": "stream",
     "text": [
      "2\n",
      "4\n",
      "6\n",
      "8\n",
      "10\n"
     ]
    }
   ],
   "source": [
    "for x in range(1,11):\n",
    "    if x%2 == 0: print(x)"
   ]
  },
  {
   "cell_type": "markdown",
   "metadata": {},
   "source": [
    "# Syntax Part 1 complete!\n",
    "\n",
    "### Syntax Part 2\n",
    "Here is a little look at what we're going to be looking at in the next lesson for syntax. Feel free to have a look and get ahead.\n",
    "\n",
    "* [Loops and nested loops][1]\n",
    "* [Dictionaries][2]\n",
    "* [pass, break, try][3]\n",
    "* [Modules and Libraries][4]\n",
    "* Functions\n",
    "\n",
    "For the rest of the session we will have a little look into Modules using to functions written by other people. Writing functions that do simple things can be pretty complex. For example changing the directory to locate a file and opening it, or writing it into a list.\n",
    "\n",
    "In python is we `import` one of the thousands of existing modules, we can do these sorts of things by borrowing code written by other people.  \n",
    "This is normally the most efficient was of doing things, as lots of brains tend to better than one!\n",
    "For now let's import the operating server module known in python as `os`, and have a look at locating files.\n",
    "\n",
    "[1]:https://www.tutorialspoint.com/python/python_nested_loops.htm\n",
    "[2]:https://www.learnpython.org/en/Dictionaries\n",
    "[3]:https://www.tutorialspoint.com/python/python_loop_control.htm\n",
    "[4]:https://www.learnpython.org/en/Modules_and_Packages"
   ]
  },
  {
   "cell_type": "code",
   "execution_count": 125,
   "metadata": {},
   "outputs": [
    {
     "name": "stdout",
     "output_type": "stream",
     "text": [
      "C:\\Users\\George\\Documents\\TechCamp\\CourseDesign\\python_games\n"
     ]
    },
    {
     "data": {
      "text/plain": [
       "['.git',\n",
       " '.ipynb_checkpoints',\n",
       " 'Game_pictures',\n",
       " 'lesson1.py',\n",
       " 'Lesson_1.ipynb',\n",
       " 'README.md']"
      ]
     },
     "execution_count": 125,
     "metadata": {},
     "output_type": "execute_result"
    }
   ],
   "source": [
    "import os #say we will focus more on libraries next session\n",
    "base_directory = os.getcwd() #get current working directory\n",
    "print(base_directory)\n",
    "os.listdir()"
   ]
  },
  {
   "cell_type": "code",
   "execution_count": 127,
   "metadata": {},
   "outputs": [],
   "source": [
    "os.mkdir('Game_pictures')\n",
    "os.listdir()\n",
    "games_pic_dir = base_directory + '\\\\Game_pictures'"
   ]
  },
  {
   "cell_type": "code",
   "execution_count": 129,
   "metadata": {},
   "outputs": [
    {
     "data": {
      "text/plain": [
       "['.git',\n",
       " '.ipynb_checkpoints',\n",
       " 'Game_pictures',\n",
       " 'lesson1.py',\n",
       " 'Lesson_1.ipynb',\n",
       " 'README.md']"
      ]
     },
     "execution_count": 129,
     "metadata": {},
     "output_type": "execute_result"
    }
   ],
   "source": [
    "os.listdir()"
   ]
  }
 ],
 "metadata": {
  "kernelspec": {
   "display_name": "Python 3",
   "language": "python",
   "name": "python3"
  },
  "language_info": {
   "codemirror_mode": {
    "name": "ipython",
    "version": 3
   },
   "file_extension": ".py",
   "mimetype": "text/x-python",
   "name": "python",
   "nbconvert_exporter": "python",
   "pygments_lexer": "ipython3",
   "version": "3.7.3"
  }
 },
 "nbformat": 4,
 "nbformat_minor": 2
}
